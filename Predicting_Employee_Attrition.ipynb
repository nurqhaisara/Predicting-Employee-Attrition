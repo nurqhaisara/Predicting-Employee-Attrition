{
  "nbformat": 4,
  "nbformat_minor": 0,
  "metadata": {
    "colab": {
      "name": "Predicting Employee Attrition",
      "provenance": [],
      "collapsed_sections": [
        "zKc6cZZaiRoj",
        "1gVOnRSwixba",
        "NWDYmuSBi-Az",
        "RAHR3nUVZilw",
        "UMx_qjy14NA-",
        "yAVlfIleOOH5",
        "MhWt1EuuOWmt",
        "nstPz-tfG6Wr",
        "Xg-crjFGHLMr",
        "Mf88A-QP33z-",
        "0XEsTVF_ngiO",
        "h6WFS1kgnoxk"
      ]
    },
    "kernelspec": {
      "name": "python3",
      "display_name": "Python 3"
    },
    "language_info": {
      "name": "python"
    }
  },
  "cells": [
    {
      "cell_type": "markdown",
      "source": [
        "Group Project: Predicting Employee Attrition\n",
        "\n",
        "Dataset: \n",
        "\n",
        "[IBM HR Analytics Employee Attrition & Performance\n",
        "](https://www.kaggle.com/datasets/pavansubha)\n",
        "\n",
        "Group members: \n",
        "\n",
        "Sarah Nazurah binti Zulhairy (1810324)\n",
        "\n",
        "Nur Qhaisara binti Mohd Zakzam (1913074)\n",
        "\n",
        "Khaleeda Zahra binti Zulkifli (1913334)\n",
        "\n",
        "Nur Syafiqah binti Zakaria (1914770)"
      ],
      "metadata": {
        "id": "czBx30OYi8V5"
      }
    },
    {
      "cell_type": "markdown",
      "source": [
        "# **Setting Preliminaries & Environment**"
      ],
      "metadata": {
        "id": "zKc6cZZaiRoj"
      }
    },
    {
      "cell_type": "code",
      "execution_count": 80,
      "metadata": {
        "id": "b0zwojVJPSle",
        "colab": {
          "base_uri": "https://localhost:8080/"
        },
        "outputId": "251ba1fb-576a-4004-81ba-51e0acf39696"
      },
      "outputs": [
        {
          "output_type": "stream",
          "name": "stdout",
          "text": [
            "Looking in indexes: https://pypi.org/simple, https://us-python.pkg.dev/colab-wheels/public/simple/\n",
            "Requirement already satisfied: pyspark in /usr/local/lib/python3.7/dist-packages (3.3.0)\n",
            "Requirement already satisfied: py4j==0.10.9.5 in /usr/local/lib/python3.7/dist-packages (from pyspark) (0.10.9.5)\n",
            "Looking in indexes: https://pypi.org/simple, https://us-python.pkg.dev/colab-wheels/public/simple/\n",
            "Requirement already satisfied: pyarrow in /usr/local/lib/python3.7/dist-packages (6.0.1)\n",
            "Requirement already satisfied: numpy>=1.16.6 in /usr/local/lib/python3.7/dist-packages (from pyarrow) (1.21.6)\n"
          ]
        }
      ],
      "source": [
        "!apt-get install openjdk-8-jdk-headless -qq > /dev/null\n",
        "!wget -q http://archive.apache.org/dist/spark/spark-3.1.1/spark-3.1.1-bin-hadoop3.2.tgz\n",
        "!tar xf spark-3.1.1-bin-hadoop3.2.tgz\n",
        "!pip install -q findspark\n",
        "!pip install pyspark\n",
        "!pip install pyarrow"
      ]
    },
    {
      "cell_type": "code",
      "source": [
        "# Set Environment Variables\n",
        "# Set the locations where Spark and Java are installed.\n",
        "import os\n",
        "os.environ[\"JAVA_HOME\"] = \"/usr/lib/jvm/java-8-openjdk-amd64\"\n",
        "os.environ[\"SPARK_HOME\"] = \"/content/spark-3.1.1-bin-hadoop3.2\""
      ],
      "metadata": {
        "id": "rZ-eXEhJY3LK"
      },
      "execution_count": 81,
      "outputs": []
    },
    {
      "cell_type": "code",
      "source": [
        "# Import library needed\n",
        "import findspark\n",
        "findspark.init()\n",
        "\n",
        "import pyspark\n",
        "import pandas as pd\n",
        "import numpy as np\n",
        "import seaborn as sns\n",
        "import matplotlib.pyplot as plt\n",
        "import plotly.graph_objects as go\n",
        "import plotly.express as px\n",
        "from pyspark.sql import SparkSession\n",
        "from pyspark.sql import functions as F\n",
        "from pyspark.sql.functions import mean\n",
        "from pyspark.sql.types import IntegerType\n",
        "from pyspark.sql.functions import col,regexp_replace\n",
        "from pyspark.sql.functions import isnan, when, count, col"
      ],
      "metadata": {
        "id": "JS-l7SyUY5UH"
      },
      "execution_count": 82,
      "outputs": []
    },
    {
      "cell_type": "code",
      "source": [
        "spark = SparkSession.builder.master(\"local[*]\").getOrCreate()\n",
        "\n",
        "# Property used to format output tables better\n",
        "spark.conf.set(\"spark.sql.repl.eagerEval.enabled\", True)"
      ],
      "metadata": {
        "id": "l_o9Tfkqiosi"
      },
      "execution_count": 83,
      "outputs": []
    },
    {
      "cell_type": "code",
      "source": [
        "spark = SparkSession\\\n",
        "        .builder\\\n",
        "        .appName(\"employeeAttrition\")\\\n",
        "        .getOrCreate()"
      ],
      "metadata": {
        "id": "f4jQUBfZiq4B"
      },
      "execution_count": 84,
      "outputs": []
    },
    {
      "cell_type": "code",
      "source": [
        "spark.sparkContext.getConf().getAll()"
      ],
      "metadata": {
        "id": "EEz2KfzritsB",
        "colab": {
          "base_uri": "https://localhost:8080/"
        },
        "outputId": "fbaf58f6-ff90-41db-cdff-05e3929b8451"
      },
      "execution_count": 85,
      "outputs": [
        {
          "output_type": "execute_result",
          "data": {
            "text/plain": [
              "[('spark.driver.port', '37459'),\n",
              " ('spark.driver.host', '53875e9037c9'),\n",
              " ('spark.rdd.compress', 'True'),\n",
              " ('spark.serializer.objectStreamReset', '100'),\n",
              " ('spark.master', 'local[*]'),\n",
              " ('spark.submit.pyFiles', ''),\n",
              " ('spark.executor.id', 'driver'),\n",
              " ('spark.submit.deployMode', 'client'),\n",
              " ('spark.app.id', 'local-1657544940665'),\n",
              " ('spark.sql.warehouse.dir', 'file:/content/spark-warehouse'),\n",
              " ('spark.ui.showConsoleProgress', 'true'),\n",
              " ('spark.app.name', 'pyspark-shell'),\n",
              " ('spark.app.startTime', '1657544939256')]"
            ]
          },
          "metadata": {},
          "execution_count": 85
        }
      ]
    },
    {
      "cell_type": "markdown",
      "source": [
        "# **Dataset's Path**"
      ],
      "metadata": {
        "id": "1gVOnRSwixba"
      }
    },
    {
      "cell_type": "code",
      "source": [
        "# Create data folder in google colab\n",
        "path = \"data/WA_Fn-UseC_-HR-Employee-Attrition.csv\" \n",
        "\n",
        "# InferSchema decides vartype\n",
        "attrition_Emp_df = spark.read.csv(path, header = True, inferSchema = True) "
      ],
      "metadata": {
        "id": "Otx-u0QjiyCJ"
      },
      "execution_count": 86,
      "outputs": []
    },
    {
      "cell_type": "markdown",
      "source": [
        "# **Data Preprocessing and Data Cleaning**"
      ],
      "metadata": {
        "id": "NWDYmuSBi-Az"
      }
    },
    {
      "cell_type": "code",
      "source": [
        "# Check the DataTypes of the Columns\n",
        "attrition_Emp_df.printSchema()"
      ],
      "metadata": {
        "colab": {
          "base_uri": "https://localhost:8080/"
        },
        "id": "gXiOlqcZZXp-",
        "outputId": "39a25cec-b860-479c-baff-f67b41ab4f42"
      },
      "execution_count": 87,
      "outputs": [
        {
          "output_type": "stream",
          "name": "stdout",
          "text": [
            "root\n",
            " |-- Age: integer (nullable = true)\n",
            " |-- Attrition: string (nullable = true)\n",
            " |-- BusinessTravel: string (nullable = true)\n",
            " |-- DailyRate: integer (nullable = true)\n",
            " |-- Department: string (nullable = true)\n",
            " |-- DistanceFromHome: integer (nullable = true)\n",
            " |-- Education: integer (nullable = true)\n",
            " |-- EducationField: string (nullable = true)\n",
            " |-- EmployeeCount: integer (nullable = true)\n",
            " |-- EmployeeNumber: integer (nullable = true)\n",
            " |-- EnvironmentSatisfaction: integer (nullable = true)\n",
            " |-- Gender: string (nullable = true)\n",
            " |-- HourlyRate: integer (nullable = true)\n",
            " |-- JobInvolvement: integer (nullable = true)\n",
            " |-- JobLevel: integer (nullable = true)\n",
            " |-- JobRole: string (nullable = true)\n",
            " |-- JobSatisfaction: integer (nullable = true)\n",
            " |-- MaritalStatus: string (nullable = true)\n",
            " |-- MonthlyIncome: integer (nullable = true)\n",
            " |-- MonthlyRate: integer (nullable = true)\n",
            " |-- NumCompaniesWorked: integer (nullable = true)\n",
            " |-- Over18: string (nullable = true)\n",
            " |-- OverTime: string (nullable = true)\n",
            " |-- PercentSalaryHike: integer (nullable = true)\n",
            " |-- PerformanceRating: integer (nullable = true)\n",
            " |-- RelationshipSatisfaction: integer (nullable = true)\n",
            " |-- StandardHours: integer (nullable = true)\n",
            " |-- StockOptionLevel: integer (nullable = true)\n",
            " |-- TotalWorkingYears: integer (nullable = true)\n",
            " |-- TrainingTimesLastYear: integer (nullable = true)\n",
            " |-- WorkLifeBalance: integer (nullable = true)\n",
            " |-- YearsAtCompany: integer (nullable = true)\n",
            " |-- YearsInCurrentRole: integer (nullable = true)\n",
            " |-- YearsSinceLastPromotion: integer (nullable = true)\n",
            " |-- YearsWithCurrManager: integer (nullable = true)\n",
            "\n"
          ]
        }
      ]
    },
    {
      "cell_type": "code",
      "source": [
        "# Check any null values\n",
        "attrition_Emp_df.select([count(when(isnan(c) | col(c).isNull(), c)).alias(c) for c in attrition_Emp_df.columns]).show() "
      ],
      "metadata": {
        "id": "iWKBYd_Vi-oz",
        "colab": {
          "base_uri": "https://localhost:8080/"
        },
        "outputId": "50c42234-06e5-45d2-a575-def03740b113"
      },
      "execution_count": 88,
      "outputs": [
        {
          "output_type": "stream",
          "name": "stdout",
          "text": [
            "+---+---------+--------------+---------+----------+----------------+---------+--------------+-------------+--------------+-----------------------+------+----------+--------------+--------+-------+---------------+-------------+-------------+-----------+------------------+------+--------+-----------------+-----------------+------------------------+-------------+----------------+-----------------+---------------------+---------------+--------------+------------------+-----------------------+--------------------+\n",
            "|Age|Attrition|BusinessTravel|DailyRate|Department|DistanceFromHome|Education|EducationField|EmployeeCount|EmployeeNumber|EnvironmentSatisfaction|Gender|HourlyRate|JobInvolvement|JobLevel|JobRole|JobSatisfaction|MaritalStatus|MonthlyIncome|MonthlyRate|NumCompaniesWorked|Over18|OverTime|PercentSalaryHike|PerformanceRating|RelationshipSatisfaction|StandardHours|StockOptionLevel|TotalWorkingYears|TrainingTimesLastYear|WorkLifeBalance|YearsAtCompany|YearsInCurrentRole|YearsSinceLastPromotion|YearsWithCurrManager|\n",
            "+---+---------+--------------+---------+----------+----------------+---------+--------------+-------------+--------------+-----------------------+------+----------+--------------+--------+-------+---------------+-------------+-------------+-----------+------------------+------+--------+-----------------+-----------------+------------------------+-------------+----------------+-----------------+---------------------+---------------+--------------+------------------+-----------------------+--------------------+\n",
            "|  0|        0|             0|        0|         0|               0|        0|             0|            0|             0|                      0|     0|         0|             0|       0|      0|              0|            0|            0|          0|                 0|     0|       0|                0|                0|                       0|            0|               0|                0|                    0|              0|             0|                 0|                      0|                   0|\n",
            "+---+---------+--------------+---------+----------+----------------+---------+--------------+-------------+--------------+-----------------------+------+----------+--------------+--------+-------+---------------+-------------+-------------+-----------+------------------+------+--------+-----------------+-----------------+------------------------+-------------+----------------+-----------------+---------------------+---------------+--------------+------------------+-----------------------+--------------------+\n",
            "\n"
          ]
        }
      ]
    },
    {
      "cell_type": "code",
      "source": [
        "# Check how many rows in dataset we have \n",
        "attrition_Emp_df.count()"
      ],
      "metadata": {
        "colab": {
          "base_uri": "https://localhost:8080/"
        },
        "id": "l6mLoIGQZcb-",
        "outputId": "9d579a6a-238d-4035-8947-c2c166dfb64c"
      },
      "execution_count": 89,
      "outputs": [
        {
          "output_type": "execute_result",
          "data": {
            "text/plain": [
              "1470"
            ]
          },
          "metadata": {},
          "execution_count": 89
        }
      ]
    },
    {
      "cell_type": "code",
      "source": [
        "# Remove any duplication in the dataset. if any \n",
        "attrition_Emp_df.dropDuplicates()"
      ],
      "metadata": {
        "colab": {
          "base_uri": "https://localhost:8080/",
          "height": 0
        },
        "id": "y2tZZ0xDZeaY",
        "outputId": "6bb17e10-b824-4520-bbc9-7dc5bccb519c"
      },
      "execution_count": 90,
      "outputs": [
        {
          "output_type": "execute_result",
          "data": {
            "text/plain": [
              "+---+---------+-----------------+---------+--------------------+----------------+---------+----------------+-------------+--------------+-----------------------+------+----------+--------------+--------+--------------------+---------------+-------------+-------------+-----------+------------------+------+--------+-----------------+-----------------+------------------------+-------------+----------------+-----------------+---------------------+---------------+--------------+------------------+-----------------------+--------------------+\n",
              "|Age|Attrition|   BusinessTravel|DailyRate|          Department|DistanceFromHome|Education|  EducationField|EmployeeCount|EmployeeNumber|EnvironmentSatisfaction|Gender|HourlyRate|JobInvolvement|JobLevel|             JobRole|JobSatisfaction|MaritalStatus|MonthlyIncome|MonthlyRate|NumCompaniesWorked|Over18|OverTime|PercentSalaryHike|PerformanceRating|RelationshipSatisfaction|StandardHours|StockOptionLevel|TotalWorkingYears|TrainingTimesLastYear|WorkLifeBalance|YearsAtCompany|YearsInCurrentRole|YearsSinceLastPromotion|YearsWithCurrManager|\n",
              "+---+---------+-----------------+---------+--------------------+----------------+---------+----------------+-------------+--------------+-----------------------+------+----------+--------------+--------+--------------------+---------------+-------------+-------------+-----------+------------------+------+--------+-----------------+-----------------+------------------------+-------------+----------------+-----------------+---------------------+---------------+--------------+------------------+-----------------------+--------------------+\n",
              "| 27|       No|    Travel_Rarely|      608|Research & Develo...|               1|        2|   Life Sciences|            1|           725|                      3|Female|        68|             3|       3|Manufacturing Dir...|              1|      Married|         7412|       6009|                 1|     Y|      No|               11|                3|                       4|           80|               0|                9|                    3|              3|             9|                 7|                      0|                   7|\n",
              "| 41|       No|    Travel_Rarely|      314|     Human Resources|               1|        3| Human Resources|            1|           734|                      4|  Male|        59|             2|       5|             Manager|              3|      Married|        19189|      19562|                 1|     Y|      No|               12|                3|                       2|           80|               1|               22|                    3|              3|            22|                 7|                      2|                  10|\n",
              "| 25|       No|    Travel_Rarely|      141|               Sales|               3|        1|           Other|            1|           879|                      3|  Male|        98|             3|       2|     Sales Executive|              1|      Married|         4194|      14363|                 1|     Y|     Yes|               18|                3|                       4|           80|               0|                5|                    3|              3|             5|                 3|                      0|                   3|\n",
              "| 21|      Yes|    Travel_Rarely|     1427|Research & Develo...|              18|        1|           Other|            1|           923|                      4|Female|        65|             3|       1|  Research Scientist|              4|       Single|         2693|       8870|                 1|     Y|      No|               19|                3|                       1|           80|               0|                1|                    3|              2|             1|                 0|                      0|                   0|\n",
              "| 56|       No|    Travel_Rarely|      718|Research & Develo...|               4|        4|Technical Degree|            1|          1191|                      4|Female|        92|             3|       5|             Manager|              1|     Divorced|        19943|      18575|                 4|     Y|      No|               13|                3|                       4|           80|               1|               28|                    2|              3|             5|                 2|                      4|                   2|\n",
              "| 25|       No|    Travel_Rarely|      949|Research & Develo...|               1|        3|Technical Degree|            1|          1415|                      1|  Male|        81|             3|       1|Laboratory Techni...|              4|      Married|         3229|       4910|                 4|     Y|      No|               11|                3|                       2|           80|               1|                7|                    2|              2|             3|                 2|                      0|                   2|\n",
              "| 27|       No|    Travel_Rarely|      591|Research & Develo...|               2|        1|         Medical|            1|             7|                      1|  Male|        40|             3|       1|Laboratory Techni...|              2|      Married|         3468|      16632|                 9|     Y|      No|               12|                3|                       4|           80|               1|                6|                    3|              3|             2|                 2|                      2|                   2|\n",
              "| 34|       No|       Non-Travel|     1065|               Sales|              23|        4|       Marketing|            1|            60|                      2|  Male|        72|             3|       2|     Sales Executive|              3|       Single|         4568|      10034|                 0|     Y|      No|               20|                4|                       3|           80|               0|               10|                    2|              3|             9|                 5|                      8|                   7|\n",
              "| 50|       No|    Travel_Rarely|      328|Research & Develo...|               1|        3|         Medical|            1|           249|                      3|  Male|        86|             2|       1|Laboratory Techni...|              3|      Married|         3690|       3425|                 2|     Y|      No|               15|                3|                       4|           80|               1|                5|                    2|              2|             3|                 2|                      0|                   2|\n",
              "| 25|       No|       Non-Travel|      675|Research & Develo...|               5|        2|   Life Sciences|            1|           369|                      2|  Male|        85|             4|       2|Healthcare Repres...|              1|     Divorced|         4000|      18384|                 1|     Y|      No|               12|                3|                       4|           80|               2|                6|                    2|              3|             6|                 3|                      1|                   5|\n",
              "| 18|      Yes|Travel_Frequently|     1306|               Sales|               5|        3|       Marketing|            1|           614|                      2|  Male|        69|             3|       1|Sales Representative|              2|       Single|         1878|       8059|                 1|     Y|     Yes|               14|                3|                       4|           80|               0|                0|                    3|              3|             0|                 0|                      0|                   0|\n",
              "| 36|       No|    Travel_Rarely|     1425|Research & Develo...|              14|        1|   Life Sciences|            1|           924|                      3|  Male|        68|             3|       2|Healthcare Repres...|              4|      Married|         6586|       4821|                 0|     Y|     Yes|               17|                3|                       1|           80|               1|               17|                    2|              2|            16|                 8|                      4|                  11|\n",
              "| 28|       No|    Travel_Rarely|      950|Research & Develo...|               3|        3|         Medical|            1|          1121|                      4|Female|        93|             3|       3|Manufacturing Dir...|              2|     Divorced|         7655|       8039|                 0|     Y|      No|               17|                3|                       2|           80|               3|               10|                    3|              2|             9|                 7|                      1|                   7|\n",
              "| 30|       No|    Travel_Rarely|      634|Research & Develo...|              17|        4|         Medical|            1|          1321|                      2|Female|        95|             3|       3|             Manager|              1|      Married|        11916|      25927|                 1|     Y|     Yes|               23|                4|                       4|           80|               2|                9|                    2|              3|             9|                 1|                      0|                   8|\n",
              "| 28|       No|    Travel_Rarely|      736|               Sales|              26|        3|   Life Sciences|            1|          1387|                      3|  Male|        48|             2|       2|     Sales Executive|              1|      Married|         4724|      24232|                 1|     Y|      No|               11|                3|                       3|           80|               1|                5|                    0|              3|             5|                 3|                      0|                   4|\n",
              "| 37|       No|    Travel_Rarely|      589|               Sales|               9|        2|       Marketing|            1|          1787|                      2|  Male|        46|             2|       2|     Sales Executive|              2|      Married|         4189|       8800|                 1|     Y|      No|               14|                3|                       1|           80|               2|                5|                    2|              3|             5|                 2|                      0|                   3|\n",
              "| 32|      Yes|Travel_Frequently|      238|Research & Develo...|               5|        2|   Life Sciences|            1|          1939|                      1|Female|        47|             4|       1|  Research Scientist|              3|       Single|         2432|      15318|                 3|     Y|     Yes|               14|                3|                       1|           80|               0|                8|                    2|              3|             4|                 1|                      0|                   3|\n",
              "| 33|       No|Travel_Frequently|      515|Research & Develo...|               1|        2|   Life Sciences|            1|            73|                      1|Female|        98|             3|       3|   Research Director|              4|       Single|        13458|      15146|                 1|     Y|     Yes|               12|                3|                       3|           80|               0|               15|                    1|              3|            15|                14|                      8|                  12|\n",
              "| 45|       No|    Travel_Rarely|     1268|               Sales|               4|        2|   Life Sciences|            1|           240|                      3|Female|        30|             3|       2|     Sales Executive|              1|     Divorced|         5006|       6319|                 4|     Y|     Yes|               11|                3|                       1|           80|               1|                9|                    3|              4|             5|                 4|                      0|                   3|\n",
              "| 29|       No|    Travel_Rarely|     1107|Research & Develo...|              28|        4|   Life Sciences|            1|          1120|                      3|Female|        93|             3|       1|  Research Scientist|              4|     Divorced|         2514|      26968|                 4|     Y|      No|               22|                4|                       1|           80|               1|               11|                    1|              3|             7|                 5|                      1|                   7|\n",
              "+---+---------+-----------------+---------+--------------------+----------------+---------+----------------+-------------+--------------+-----------------------+------+----------+--------------+--------+--------------------+---------------+-------------+-------------+-----------+------------------+------+--------+-----------------+-----------------+------------------------+-------------+----------------+-----------------+---------------------+---------------+--------------+------------------+-----------------------+--------------------+\n",
              "only showing top 20 rows"
            ],
            "text/html": [
              "<table border='1'>\n",
              "<tr><th>Age</th><th>Attrition</th><th>BusinessTravel</th><th>DailyRate</th><th>Department</th><th>DistanceFromHome</th><th>Education</th><th>EducationField</th><th>EmployeeCount</th><th>EmployeeNumber</th><th>EnvironmentSatisfaction</th><th>Gender</th><th>HourlyRate</th><th>JobInvolvement</th><th>JobLevel</th><th>JobRole</th><th>JobSatisfaction</th><th>MaritalStatus</th><th>MonthlyIncome</th><th>MonthlyRate</th><th>NumCompaniesWorked</th><th>Over18</th><th>OverTime</th><th>PercentSalaryHike</th><th>PerformanceRating</th><th>RelationshipSatisfaction</th><th>StandardHours</th><th>StockOptionLevel</th><th>TotalWorkingYears</th><th>TrainingTimesLastYear</th><th>WorkLifeBalance</th><th>YearsAtCompany</th><th>YearsInCurrentRole</th><th>YearsSinceLastPromotion</th><th>YearsWithCurrManager</th></tr>\n",
              "<tr><td>27</td><td>No</td><td>Travel_Rarely</td><td>608</td><td>Research &amp; Develo...</td><td>1</td><td>2</td><td>Life Sciences</td><td>1</td><td>725</td><td>3</td><td>Female</td><td>68</td><td>3</td><td>3</td><td>Manufacturing Dir...</td><td>1</td><td>Married</td><td>7412</td><td>6009</td><td>1</td><td>Y</td><td>No</td><td>11</td><td>3</td><td>4</td><td>80</td><td>0</td><td>9</td><td>3</td><td>3</td><td>9</td><td>7</td><td>0</td><td>7</td></tr>\n",
              "<tr><td>41</td><td>No</td><td>Travel_Rarely</td><td>314</td><td>Human Resources</td><td>1</td><td>3</td><td>Human Resources</td><td>1</td><td>734</td><td>4</td><td>Male</td><td>59</td><td>2</td><td>5</td><td>Manager</td><td>3</td><td>Married</td><td>19189</td><td>19562</td><td>1</td><td>Y</td><td>No</td><td>12</td><td>3</td><td>2</td><td>80</td><td>1</td><td>22</td><td>3</td><td>3</td><td>22</td><td>7</td><td>2</td><td>10</td></tr>\n",
              "<tr><td>25</td><td>No</td><td>Travel_Rarely</td><td>141</td><td>Sales</td><td>3</td><td>1</td><td>Other</td><td>1</td><td>879</td><td>3</td><td>Male</td><td>98</td><td>3</td><td>2</td><td>Sales Executive</td><td>1</td><td>Married</td><td>4194</td><td>14363</td><td>1</td><td>Y</td><td>Yes</td><td>18</td><td>3</td><td>4</td><td>80</td><td>0</td><td>5</td><td>3</td><td>3</td><td>5</td><td>3</td><td>0</td><td>3</td></tr>\n",
              "<tr><td>21</td><td>Yes</td><td>Travel_Rarely</td><td>1427</td><td>Research &amp; Develo...</td><td>18</td><td>1</td><td>Other</td><td>1</td><td>923</td><td>4</td><td>Female</td><td>65</td><td>3</td><td>1</td><td>Research Scientist</td><td>4</td><td>Single</td><td>2693</td><td>8870</td><td>1</td><td>Y</td><td>No</td><td>19</td><td>3</td><td>1</td><td>80</td><td>0</td><td>1</td><td>3</td><td>2</td><td>1</td><td>0</td><td>0</td><td>0</td></tr>\n",
              "<tr><td>56</td><td>No</td><td>Travel_Rarely</td><td>718</td><td>Research &amp; Develo...</td><td>4</td><td>4</td><td>Technical Degree</td><td>1</td><td>1191</td><td>4</td><td>Female</td><td>92</td><td>3</td><td>5</td><td>Manager</td><td>1</td><td>Divorced</td><td>19943</td><td>18575</td><td>4</td><td>Y</td><td>No</td><td>13</td><td>3</td><td>4</td><td>80</td><td>1</td><td>28</td><td>2</td><td>3</td><td>5</td><td>2</td><td>4</td><td>2</td></tr>\n",
              "<tr><td>25</td><td>No</td><td>Travel_Rarely</td><td>949</td><td>Research &amp; Develo...</td><td>1</td><td>3</td><td>Technical Degree</td><td>1</td><td>1415</td><td>1</td><td>Male</td><td>81</td><td>3</td><td>1</td><td>Laboratory Techni...</td><td>4</td><td>Married</td><td>3229</td><td>4910</td><td>4</td><td>Y</td><td>No</td><td>11</td><td>3</td><td>2</td><td>80</td><td>1</td><td>7</td><td>2</td><td>2</td><td>3</td><td>2</td><td>0</td><td>2</td></tr>\n",
              "<tr><td>27</td><td>No</td><td>Travel_Rarely</td><td>591</td><td>Research &amp; Develo...</td><td>2</td><td>1</td><td>Medical</td><td>1</td><td>7</td><td>1</td><td>Male</td><td>40</td><td>3</td><td>1</td><td>Laboratory Techni...</td><td>2</td><td>Married</td><td>3468</td><td>16632</td><td>9</td><td>Y</td><td>No</td><td>12</td><td>3</td><td>4</td><td>80</td><td>1</td><td>6</td><td>3</td><td>3</td><td>2</td><td>2</td><td>2</td><td>2</td></tr>\n",
              "<tr><td>34</td><td>No</td><td>Non-Travel</td><td>1065</td><td>Sales</td><td>23</td><td>4</td><td>Marketing</td><td>1</td><td>60</td><td>2</td><td>Male</td><td>72</td><td>3</td><td>2</td><td>Sales Executive</td><td>3</td><td>Single</td><td>4568</td><td>10034</td><td>0</td><td>Y</td><td>No</td><td>20</td><td>4</td><td>3</td><td>80</td><td>0</td><td>10</td><td>2</td><td>3</td><td>9</td><td>5</td><td>8</td><td>7</td></tr>\n",
              "<tr><td>50</td><td>No</td><td>Travel_Rarely</td><td>328</td><td>Research &amp; Develo...</td><td>1</td><td>3</td><td>Medical</td><td>1</td><td>249</td><td>3</td><td>Male</td><td>86</td><td>2</td><td>1</td><td>Laboratory Techni...</td><td>3</td><td>Married</td><td>3690</td><td>3425</td><td>2</td><td>Y</td><td>No</td><td>15</td><td>3</td><td>4</td><td>80</td><td>1</td><td>5</td><td>2</td><td>2</td><td>3</td><td>2</td><td>0</td><td>2</td></tr>\n",
              "<tr><td>25</td><td>No</td><td>Non-Travel</td><td>675</td><td>Research &amp; Develo...</td><td>5</td><td>2</td><td>Life Sciences</td><td>1</td><td>369</td><td>2</td><td>Male</td><td>85</td><td>4</td><td>2</td><td>Healthcare Repres...</td><td>1</td><td>Divorced</td><td>4000</td><td>18384</td><td>1</td><td>Y</td><td>No</td><td>12</td><td>3</td><td>4</td><td>80</td><td>2</td><td>6</td><td>2</td><td>3</td><td>6</td><td>3</td><td>1</td><td>5</td></tr>\n",
              "<tr><td>18</td><td>Yes</td><td>Travel_Frequently</td><td>1306</td><td>Sales</td><td>5</td><td>3</td><td>Marketing</td><td>1</td><td>614</td><td>2</td><td>Male</td><td>69</td><td>3</td><td>1</td><td>Sales Representative</td><td>2</td><td>Single</td><td>1878</td><td>8059</td><td>1</td><td>Y</td><td>Yes</td><td>14</td><td>3</td><td>4</td><td>80</td><td>0</td><td>0</td><td>3</td><td>3</td><td>0</td><td>0</td><td>0</td><td>0</td></tr>\n",
              "<tr><td>36</td><td>No</td><td>Travel_Rarely</td><td>1425</td><td>Research &amp; Develo...</td><td>14</td><td>1</td><td>Life Sciences</td><td>1</td><td>924</td><td>3</td><td>Male</td><td>68</td><td>3</td><td>2</td><td>Healthcare Repres...</td><td>4</td><td>Married</td><td>6586</td><td>4821</td><td>0</td><td>Y</td><td>Yes</td><td>17</td><td>3</td><td>1</td><td>80</td><td>1</td><td>17</td><td>2</td><td>2</td><td>16</td><td>8</td><td>4</td><td>11</td></tr>\n",
              "<tr><td>28</td><td>No</td><td>Travel_Rarely</td><td>950</td><td>Research &amp; Develo...</td><td>3</td><td>3</td><td>Medical</td><td>1</td><td>1121</td><td>4</td><td>Female</td><td>93</td><td>3</td><td>3</td><td>Manufacturing Dir...</td><td>2</td><td>Divorced</td><td>7655</td><td>8039</td><td>0</td><td>Y</td><td>No</td><td>17</td><td>3</td><td>2</td><td>80</td><td>3</td><td>10</td><td>3</td><td>2</td><td>9</td><td>7</td><td>1</td><td>7</td></tr>\n",
              "<tr><td>30</td><td>No</td><td>Travel_Rarely</td><td>634</td><td>Research &amp; Develo...</td><td>17</td><td>4</td><td>Medical</td><td>1</td><td>1321</td><td>2</td><td>Female</td><td>95</td><td>3</td><td>3</td><td>Manager</td><td>1</td><td>Married</td><td>11916</td><td>25927</td><td>1</td><td>Y</td><td>Yes</td><td>23</td><td>4</td><td>4</td><td>80</td><td>2</td><td>9</td><td>2</td><td>3</td><td>9</td><td>1</td><td>0</td><td>8</td></tr>\n",
              "<tr><td>28</td><td>No</td><td>Travel_Rarely</td><td>736</td><td>Sales</td><td>26</td><td>3</td><td>Life Sciences</td><td>1</td><td>1387</td><td>3</td><td>Male</td><td>48</td><td>2</td><td>2</td><td>Sales Executive</td><td>1</td><td>Married</td><td>4724</td><td>24232</td><td>1</td><td>Y</td><td>No</td><td>11</td><td>3</td><td>3</td><td>80</td><td>1</td><td>5</td><td>0</td><td>3</td><td>5</td><td>3</td><td>0</td><td>4</td></tr>\n",
              "<tr><td>37</td><td>No</td><td>Travel_Rarely</td><td>589</td><td>Sales</td><td>9</td><td>2</td><td>Marketing</td><td>1</td><td>1787</td><td>2</td><td>Male</td><td>46</td><td>2</td><td>2</td><td>Sales Executive</td><td>2</td><td>Married</td><td>4189</td><td>8800</td><td>1</td><td>Y</td><td>No</td><td>14</td><td>3</td><td>1</td><td>80</td><td>2</td><td>5</td><td>2</td><td>3</td><td>5</td><td>2</td><td>0</td><td>3</td></tr>\n",
              "<tr><td>32</td><td>Yes</td><td>Travel_Frequently</td><td>238</td><td>Research &amp; Develo...</td><td>5</td><td>2</td><td>Life Sciences</td><td>1</td><td>1939</td><td>1</td><td>Female</td><td>47</td><td>4</td><td>1</td><td>Research Scientist</td><td>3</td><td>Single</td><td>2432</td><td>15318</td><td>3</td><td>Y</td><td>Yes</td><td>14</td><td>3</td><td>1</td><td>80</td><td>0</td><td>8</td><td>2</td><td>3</td><td>4</td><td>1</td><td>0</td><td>3</td></tr>\n",
              "<tr><td>33</td><td>No</td><td>Travel_Frequently</td><td>515</td><td>Research &amp; Develo...</td><td>1</td><td>2</td><td>Life Sciences</td><td>1</td><td>73</td><td>1</td><td>Female</td><td>98</td><td>3</td><td>3</td><td>Research Director</td><td>4</td><td>Single</td><td>13458</td><td>15146</td><td>1</td><td>Y</td><td>Yes</td><td>12</td><td>3</td><td>3</td><td>80</td><td>0</td><td>15</td><td>1</td><td>3</td><td>15</td><td>14</td><td>8</td><td>12</td></tr>\n",
              "<tr><td>45</td><td>No</td><td>Travel_Rarely</td><td>1268</td><td>Sales</td><td>4</td><td>2</td><td>Life Sciences</td><td>1</td><td>240</td><td>3</td><td>Female</td><td>30</td><td>3</td><td>2</td><td>Sales Executive</td><td>1</td><td>Divorced</td><td>5006</td><td>6319</td><td>4</td><td>Y</td><td>Yes</td><td>11</td><td>3</td><td>1</td><td>80</td><td>1</td><td>9</td><td>3</td><td>4</td><td>5</td><td>4</td><td>0</td><td>3</td></tr>\n",
              "<tr><td>29</td><td>No</td><td>Travel_Rarely</td><td>1107</td><td>Research &amp; Develo...</td><td>28</td><td>4</td><td>Life Sciences</td><td>1</td><td>1120</td><td>3</td><td>Female</td><td>93</td><td>3</td><td>1</td><td>Research Scientist</td><td>4</td><td>Divorced</td><td>2514</td><td>26968</td><td>4</td><td>Y</td><td>No</td><td>22</td><td>4</td><td>1</td><td>80</td><td>1</td><td>11</td><td>1</td><td>3</td><td>7</td><td>5</td><td>1</td><td>7</td></tr>\n",
              "</table>\n",
              "only showing top 20 rows\n"
            ]
          },
          "metadata": {},
          "execution_count": 90
        }
      ]
    },
    {
      "cell_type": "code",
      "source": [
        "# To check whether there is a any rows being drop for duplicate values\n",
        "attrition_Emp_df.count()"
      ],
      "metadata": {
        "colab": {
          "base_uri": "https://localhost:8080/"
        },
        "id": "8P2gntqEZhJA",
        "outputId": "370959cf-75f6-4d8a-8267-964569fba7fa"
      },
      "execution_count": 91,
      "outputs": [
        {
          "output_type": "execute_result",
          "data": {
            "text/plain": [
              "1470"
            ]
          },
          "metadata": {},
          "execution_count": 91
        }
      ]
    },
    {
      "cell_type": "markdown",
      "source": [
        "# **Data Transformation**"
      ],
      "metadata": {
        "id": "RAHR3nUVZilw"
      }
    },
    {
      "cell_type": "code",
      "source": [
        "# Drop column that does not use for the analysis\n",
        "drop_columns = (\"BusinessTravel\", \"DailyRate\", \"DistanceFromHome\", \"EmployeeCount\", \"JobLevel\", \"MaritalStatus\", \"MonthlyRate\", \"NumCompaniesWorked\", \"Over18\", \"PercentSalaryHike\", \"RelationshipSatisfaction\", \"StandardHours\", \"TrainingTimesLastYear\", \"YearsAtCompany\", \"YearsInCurrentRole\", \"YearsSinceLastPromotion\", \"YearsWithCurrManager\")  \n",
        "updated_attrition_Emp_df = attrition_Emp_df.drop(*drop_columns) "
      ],
      "metadata": {
        "id": "Gk8XMFTGZlF4"
      },
      "execution_count": 92,
      "outputs": []
    },
    {
      "cell_type": "code",
      "source": [
        "updated_attrition_Emp_df.printSchema()"
      ],
      "metadata": {
        "id": "wGaYkMJdZo8w",
        "outputId": "6f24e83a-7705-44be-99c9-45e8f62ef194",
        "colab": {
          "base_uri": "https://localhost:8080/"
        }
      },
      "execution_count": 93,
      "outputs": [
        {
          "output_type": "stream",
          "name": "stdout",
          "text": [
            "root\n",
            " |-- Age: integer (nullable = true)\n",
            " |-- Attrition: string (nullable = true)\n",
            " |-- Department: string (nullable = true)\n",
            " |-- Education: integer (nullable = true)\n",
            " |-- EducationField: string (nullable = true)\n",
            " |-- EmployeeNumber: integer (nullable = true)\n",
            " |-- EnvironmentSatisfaction: integer (nullable = true)\n",
            " |-- Gender: string (nullable = true)\n",
            " |-- HourlyRate: integer (nullable = true)\n",
            " |-- JobInvolvement: integer (nullable = true)\n",
            " |-- JobRole: string (nullable = true)\n",
            " |-- JobSatisfaction: integer (nullable = true)\n",
            " |-- MonthlyIncome: integer (nullable = true)\n",
            " |-- OverTime: string (nullable = true)\n",
            " |-- PerformanceRating: integer (nullable = true)\n",
            " |-- StockOptionLevel: integer (nullable = true)\n",
            " |-- TotalWorkingYears: integer (nullable = true)\n",
            " |-- WorkLifeBalance: integer (nullable = true)\n",
            "\n"
          ]
        }
      ]
    },
    {
      "cell_type": "code",
      "source": [
        "updated_attrition_Emp_df.show()"
      ],
      "metadata": {
        "id": "huPzt1d6ZrCx",
        "outputId": "bccc0d17-ba0f-47f0-b30b-298564b26ab9",
        "colab": {
          "base_uri": "https://localhost:8080/"
        }
      },
      "execution_count": 94,
      "outputs": [
        {
          "output_type": "stream",
          "name": "stdout",
          "text": [
            "+---+---------+--------------------+---------+--------------+--------------+-----------------------+------+----------+--------------+--------------------+---------------+-------------+--------+-----------------+----------------+-----------------+---------------+\n",
            "|Age|Attrition|          Department|Education|EducationField|EmployeeNumber|EnvironmentSatisfaction|Gender|HourlyRate|JobInvolvement|             JobRole|JobSatisfaction|MonthlyIncome|OverTime|PerformanceRating|StockOptionLevel|TotalWorkingYears|WorkLifeBalance|\n",
            "+---+---------+--------------------+---------+--------------+--------------+-----------------------+------+----------+--------------+--------------------+---------------+-------------+--------+-----------------+----------------+-----------------+---------------+\n",
            "| 41|      Yes|               Sales|        2| Life Sciences|             1|                      2|Female|        94|             3|     Sales Executive|              4|         5993|     Yes|                3|               0|                8|              1|\n",
            "| 49|       No|Research & Develo...|        1| Life Sciences|             2|                      3|  Male|        61|             2|  Research Scientist|              2|         5130|      No|                4|               1|               10|              3|\n",
            "| 37|      Yes|Research & Develo...|        2|         Other|             4|                      4|  Male|        92|             2|Laboratory Techni...|              3|         2090|     Yes|                3|               0|                7|              3|\n",
            "| 33|       No|Research & Develo...|        4| Life Sciences|             5|                      4|Female|        56|             3|  Research Scientist|              3|         2909|     Yes|                3|               0|                8|              3|\n",
            "| 27|       No|Research & Develo...|        1|       Medical|             7|                      1|  Male|        40|             3|Laboratory Techni...|              2|         3468|      No|                3|               1|                6|              3|\n",
            "| 32|       No|Research & Develo...|        2| Life Sciences|             8|                      4|  Male|        79|             3|Laboratory Techni...|              4|         3068|      No|                3|               0|                8|              2|\n",
            "| 59|       No|Research & Develo...|        3|       Medical|            10|                      3|Female|        81|             4|Laboratory Techni...|              1|         2670|     Yes|                4|               3|               12|              2|\n",
            "| 30|       No|Research & Develo...|        1| Life Sciences|            11|                      4|  Male|        67|             3|Laboratory Techni...|              3|         2693|      No|                4|               1|                1|              3|\n",
            "| 38|       No|Research & Develo...|        3| Life Sciences|            12|                      4|  Male|        44|             2|Manufacturing Dir...|              3|         9526|      No|                4|               0|               10|              3|\n",
            "| 36|       No|Research & Develo...|        3|       Medical|            13|                      3|  Male|        94|             3|Healthcare Repres...|              3|         5237|      No|                3|               2|               17|              2|\n",
            "| 35|       No|Research & Develo...|        3|       Medical|            14|                      1|  Male|        84|             4|Laboratory Techni...|              2|         2426|      No|                3|               1|                6|              3|\n",
            "| 29|       No|Research & Develo...|        2| Life Sciences|            15|                      4|Female|        49|             2|Laboratory Techni...|              3|         4193|     Yes|                3|               0|               10|              3|\n",
            "| 31|       No|Research & Develo...|        1| Life Sciences|            16|                      1|  Male|        31|             3|  Research Scientist|              3|         2911|      No|                3|               1|                5|              2|\n",
            "| 34|       No|Research & Develo...|        2|       Medical|            18|                      2|  Male|        93|             3|Laboratory Techni...|              4|         2661|      No|                3|               1|                3|              3|\n",
            "| 28|      Yes|Research & Develo...|        3| Life Sciences|            19|                      3|  Male|        50|             2|Laboratory Techni...|              3|         2028|     Yes|                3|               0|                6|              3|\n",
            "| 29|       No|Research & Develo...|        4| Life Sciences|            20|                      2|Female|        51|             4|Manufacturing Dir...|              1|         9980|      No|                3|               1|               10|              3|\n",
            "| 32|       No|Research & Develo...|        2| Life Sciences|            21|                      1|  Male|        80|             4|  Research Scientist|              2|         3298|     Yes|                3|               2|                7|              2|\n",
            "| 22|       No|Research & Develo...|        2|       Medical|            22|                      4|  Male|        96|             4|Laboratory Techni...|              4|         2935|     Yes|                3|               2|                1|              2|\n",
            "| 53|       No|               Sales|        4| Life Sciences|            23|                      1|Female|        78|             2|             Manager|              4|        15427|      No|                3|               0|               31|              3|\n",
            "| 38|       No|Research & Develo...|        3| Life Sciences|            24|                      4|  Male|        45|             3|  Research Scientist|              4|         3944|     Yes|                3|               0|                6|              3|\n",
            "+---+---------+--------------------+---------+--------------+--------------+-----------------------+------+----------+--------------+--------------------+---------------+-------------+--------+-----------------+----------------+-----------------+---------------+\n",
            "only showing top 20 rows\n",
            "\n"
          ]
        }
      ]
    },
    {
      "cell_type": "markdown",
      "source": [
        "**Data wrangling for Attrition and OverTime attributes**"
      ],
      "metadata": {
        "id": "ynL-wVHqFT8Y"
      }
    },
    {
      "cell_type": "code",
      "source": [
        "updated_attrition_Emp_df = updated_attrition_Emp_df.withColumn(\"Attrition\", F.when(updated_attrition_Emp_df.Attrition == \"Yes\", 1).otherwise(0)).withColumn(\"OverTime\", F.when(updated_attrition_Emp_df.OverTime == \"Yes\", 1).otherwise(0))"
      ],
      "metadata": {
        "id": "oHdi6ReVFSby"
      },
      "execution_count": 95,
      "outputs": []
    },
    {
      "cell_type": "code",
      "source": [
        "updated_attrition_Emp_df.show(truncate=False)"
      ],
      "metadata": {
        "colab": {
          "base_uri": "https://localhost:8080/"
        },
        "id": "yBr--nJwG1cN",
        "outputId": "b34aef86-3dcb-4a61-bbe3-8ca032788d0e"
      },
      "execution_count": 96,
      "outputs": [
        {
          "output_type": "stream",
          "name": "stdout",
          "text": [
            "+---+---------+----------------------+---------+--------------+--------------+-----------------------+------+----------+--------------+-------------------------+---------------+-------------+--------+-----------------+----------------+-----------------+---------------+\n",
            "|Age|Attrition|Department            |Education|EducationField|EmployeeNumber|EnvironmentSatisfaction|Gender|HourlyRate|JobInvolvement|JobRole                  |JobSatisfaction|MonthlyIncome|OverTime|PerformanceRating|StockOptionLevel|TotalWorkingYears|WorkLifeBalance|\n",
            "+---+---------+----------------------+---------+--------------+--------------+-----------------------+------+----------+--------------+-------------------------+---------------+-------------+--------+-----------------+----------------+-----------------+---------------+\n",
            "|41 |1        |Sales                 |2        |Life Sciences |1             |2                      |Female|94        |3             |Sales Executive          |4              |5993         |1       |3                |0               |8                |1              |\n",
            "|49 |0        |Research & Development|1        |Life Sciences |2             |3                      |Male  |61        |2             |Research Scientist       |2              |5130         |0       |4                |1               |10               |3              |\n",
            "|37 |1        |Research & Development|2        |Other         |4             |4                      |Male  |92        |2             |Laboratory Technician    |3              |2090         |1       |3                |0               |7                |3              |\n",
            "|33 |0        |Research & Development|4        |Life Sciences |5             |4                      |Female|56        |3             |Research Scientist       |3              |2909         |1       |3                |0               |8                |3              |\n",
            "|27 |0        |Research & Development|1        |Medical       |7             |1                      |Male  |40        |3             |Laboratory Technician    |2              |3468         |0       |3                |1               |6                |3              |\n",
            "|32 |0        |Research & Development|2        |Life Sciences |8             |4                      |Male  |79        |3             |Laboratory Technician    |4              |3068         |0       |3                |0               |8                |2              |\n",
            "|59 |0        |Research & Development|3        |Medical       |10            |3                      |Female|81        |4             |Laboratory Technician    |1              |2670         |1       |4                |3               |12               |2              |\n",
            "|30 |0        |Research & Development|1        |Life Sciences |11            |4                      |Male  |67        |3             |Laboratory Technician    |3              |2693         |0       |4                |1               |1                |3              |\n",
            "|38 |0        |Research & Development|3        |Life Sciences |12            |4                      |Male  |44        |2             |Manufacturing Director   |3              |9526         |0       |4                |0               |10               |3              |\n",
            "|36 |0        |Research & Development|3        |Medical       |13            |3                      |Male  |94        |3             |Healthcare Representative|3              |5237         |0       |3                |2               |17               |2              |\n",
            "|35 |0        |Research & Development|3        |Medical       |14            |1                      |Male  |84        |4             |Laboratory Technician    |2              |2426         |0       |3                |1               |6                |3              |\n",
            "|29 |0        |Research & Development|2        |Life Sciences |15            |4                      |Female|49        |2             |Laboratory Technician    |3              |4193         |1       |3                |0               |10               |3              |\n",
            "|31 |0        |Research & Development|1        |Life Sciences |16            |1                      |Male  |31        |3             |Research Scientist       |3              |2911         |0       |3                |1               |5                |2              |\n",
            "|34 |0        |Research & Development|2        |Medical       |18            |2                      |Male  |93        |3             |Laboratory Technician    |4              |2661         |0       |3                |1               |3                |3              |\n",
            "|28 |1        |Research & Development|3        |Life Sciences |19            |3                      |Male  |50        |2             |Laboratory Technician    |3              |2028         |1       |3                |0               |6                |3              |\n",
            "|29 |0        |Research & Development|4        |Life Sciences |20            |2                      |Female|51        |4             |Manufacturing Director   |1              |9980         |0       |3                |1               |10               |3              |\n",
            "|32 |0        |Research & Development|2        |Life Sciences |21            |1                      |Male  |80        |4             |Research Scientist       |2              |3298         |1       |3                |2               |7                |2              |\n",
            "|22 |0        |Research & Development|2        |Medical       |22            |4                      |Male  |96        |4             |Laboratory Technician    |4              |2935         |1       |3                |2               |1                |2              |\n",
            "|53 |0        |Sales                 |4        |Life Sciences |23            |1                      |Female|78        |2             |Manager                  |4              |15427        |0       |3                |0               |31               |3              |\n",
            "|38 |0        |Research & Development|3        |Life Sciences |24            |4                      |Male  |45        |3             |Research Scientist       |4              |3944         |1       |3                |0               |6                |3              |\n",
            "+---+---------+----------------------+---------+--------------+--------------+-----------------------+------+----------+--------------+-------------------------+---------------+-------------+--------+-----------------+----------------+-----------------+---------------+\n",
            "only showing top 20 rows\n",
            "\n"
          ]
        }
      ]
    },
    {
      "cell_type": "code",
      "source": [
        "updated_attrition_Emp_df_pd = updated_attrition_Emp_df.toPandas()\n",
        "f,ax = plt.subplots(figsize=(18, 18))\n",
        "sns.heatmap(updated_attrition_Emp_df_pd.corr(), annot=True, linewidths=.5, fmt= '.1f',ax=ax)"
      ],
      "metadata": {
        "colab": {
          "base_uri": "https://localhost:8080/",
          "height": 0
        },
        "id": "9JzgTZJDtScx",
        "outputId": "8ab5615e-744b-427c-90f1-3161cffcbcbf"
      },
      "execution_count": 97,
      "outputs": [
        {
          "output_type": "execute_result",
          "data": {
            "text/plain": [
              "<matplotlib.axes._subplots.AxesSubplot at 0x7f063b981390>"
            ]
          },
          "metadata": {},
          "execution_count": 97
        },
        {
          "output_type": "display_data",
          "data": {
            "text/plain": [
              "<Figure size 1296x1296 with 2 Axes>"
            ],
            "image/png": "[encoded data removed]"
          },
          "metadata": {
            "needs_background": "light"
          }
        }
      ]
    },
    {
      "cell_type": "code",
      "source": [
        "features = [\"Age\", \"Education\", \"EmployeeNumber\", \"EnvironmentSatisfaction\", \"HourlyRate\", \"JobInvolvement\", \"JobSatisfaction\", \"MonthlyIncome\", \"OverTime\", \"PerformanceRating\", \"StockOptionLevel\", \"TotalWorkingYears\", \"WorkLifeBalance\"]"
      ],
      "metadata": {
        "id": "yKoykPyJ7Jl4"
      },
      "execution_count": 98,
      "outputs": []
    },
    {
      "cell_type": "markdown",
      "source": [
        "# **Exploratory Data Analysis**"
      ],
      "metadata": {
        "id": "ifCPElcXU2B8"
      }
    },
    {
      "cell_type": "markdown",
      "source": [
        "##**Predictive Analysis Questions**"
      ],
      "metadata": {
        "id": "UMx_qjy14NA-"
      }
    },
    {
      "cell_type": "markdown",
      "source": [
        "\n",
        "### **Data Science Question 1**"
      ],
      "metadata": {
        "id": "yAVlfIleOOH5"
      }
    },
    {
      "cell_type": "code",
      "source": [
        "jobinv_edu = updated_attrition_Emp_df.select(col(\"EducationField\"),(\"JobInvolvement\"))\n",
        "jobinv_edu = updated_attrition_Emp_df.filter((updated_attrition_Emp_df.JobInvolvement == \"3\"))"
      ],
      "metadata": {
        "id": "3Y_Msha4ObCW"
      },
      "execution_count": 99,
      "outputs": []
    },
    {
      "cell_type": "code",
      "source": [
        "jobinv_edu = jobinv_edu.toPandas()"
      ],
      "metadata": {
        "id": "rBJ4zSRzOlLA"
      },
      "execution_count": 100,
      "outputs": []
    },
    {
      "cell_type": "code",
      "source": [
        "jobinv_edu"
      ],
      "metadata": {
        "id": "3rIQQkUfOryV",
        "colab": {
          "base_uri": "https://localhost:8080/",
          "height": 0
        },
        "outputId": "a062b78f-e800-4209-f840-da80f748647c"
      },
      "execution_count": 101,
      "outputs": [
        {
          "output_type": "execute_result",
          "data": {
            "text/plain": [
              "     Age  Attrition              Department  Education EducationField  \\\n",
              "0     41          1                   Sales          2  Life Sciences   \n",
              "1     33          0  Research & Development          4  Life Sciences   \n",
              "2     27          0  Research & Development          1        Medical   \n",
              "3     32          0  Research & Development          2  Life Sciences   \n",
              "4     30          0  Research & Development          1  Life Sciences   \n",
              "..   ...        ...                     ...        ...            ...   \n",
              "863   50          1                   Sales          4  Life Sciences   \n",
              "864   45          0                   Sales          3  Life Sciences   \n",
              "865   35          0  Research & Development          4  Life Sciences   \n",
              "866   40          0  Research & Development          4        Medical   \n",
              "867   31          0  Research & Development          3        Medical   \n",
              "\n",
              "     EmployeeNumber  EnvironmentSatisfaction  Gender  HourlyRate  \\\n",
              "0                 1                        2  Female          94   \n",
              "1                 5                        4  Female          56   \n",
              "2                 7                        1    Male          40   \n",
              "3                 8                        4    Male          79   \n",
              "4                11                        4    Male          67   \n",
              "..              ...                      ...     ...         ...   \n",
              "863            2044                        2    Male          94   \n",
              "864            2046                        4  Female          50   \n",
              "865            2049                        3    Male          80   \n",
              "866            2051                        3  Female          98   \n",
              "867            2057                        2    Male          74   \n",
              "\n",
              "     JobInvolvement                    JobRole  JobSatisfaction  \\\n",
              "0                 3            Sales Executive                4   \n",
              "1                 3         Research Scientist                3   \n",
              "2                 3      Laboratory Technician                2   \n",
              "3                 3      Laboratory Technician                4   \n",
              "4                 3      Laboratory Technician                3   \n",
              "..              ...                        ...              ...   \n",
              "863               3            Sales Executive                3   \n",
              "864               3            Sales Executive                3   \n",
              "865               3  Healthcare Representative                3   \n",
              "866               3         Research Scientist                3   \n",
              "867               3     Manufacturing Director                1   \n",
              "\n",
              "     MonthlyIncome  OverTime  PerformanceRating  StockOptionLevel  \\\n",
              "0             5993         1                  3                 0   \n",
              "1             2909         1                  3                 0   \n",
              "2             3468         0                  3                 1   \n",
              "3             3068         0                  3                 0   \n",
              "4             2693         0                  4                 1   \n",
              "..             ...       ...                ...               ...   \n",
              "863           6728         0                  3                 2   \n",
              "864           4850         0                  3                 0   \n",
              "865           5689         1                  3                 2   \n",
              "866           2001         0                  3                 3   \n",
              "867           9936         0                  3                 0   \n",
              "\n",
              "     TotalWorkingYears  WorkLifeBalance  \n",
              "0                    8                1  \n",
              "1                    8                3  \n",
              "2                    6                3  \n",
              "3                    8                2  \n",
              "4                    1                3  \n",
              "..                 ...              ...  \n",
              "863                 12                3  \n",
              "864                  8                3  \n",
              "865                 10                4  \n",
              "866                 20                3  \n",
              "867                 10                3  \n",
              "\n",
              "[868 rows x 18 columns]"
            ],
            "text/html": [
              "\n",
              "  <div id=\"df-c6b0b787-4cb7-43f3-9dce-094082024720\">\n",
              "    <div class=\"colab-df-container\">\n",
              "      <div>\n",
              "<style scoped>\n",
              "    .dataframe tbody tr th:only-of-type {\n",
              "        vertical-align: middle;\n",
              "    }\n",
              "\n",
              "    .dataframe tbody tr th {\n",
              "        vertical-align: top;\n",
              "    }\n",
              "\n",
              "    .dataframe thead th {\n",
              "        text-align: right;\n",
              "    }\n",
              "</style>\n",
              "<table border=\"1\" class=\"dataframe\">\n",
              "  <thead>\n",
              "    <tr style=\"text-align: right;\">\n",
              "      <th></th>\n",
              "      <th>Age</th>\n",
              "      <th>Attrition</th>\n",
              "      <th>Department</th>\n",
              "      <th>Education</th>\n",
              "      <th>EducationField</th>\n",
              "      <th>EmployeeNumber</th>\n",
              "      <th>EnvironmentSatisfaction</th>\n",
              "      <th>Gender</th>\n",
              "      <th>HourlyRate</th>\n",
              "      <th>JobInvolvement</th>\n",
              "      <th>JobRole</th>\n",
              "      <th>JobSatisfaction</th>\n",
              "      <th>MonthlyIncome</th>\n",
              "      <th>OverTime</th>\n",
              "      <th>PerformanceRating</th>\n",
              "      <th>StockOptionLevel</th>\n",
              "      <th>TotalWorkingYears</th>\n",
              "      <th>WorkLifeBalance</th>\n",
              "    </tr>\n",
              "  </thead>\n",
              "  <tbody>\n",
              "    <tr>\n",
              "      <th>0</th>\n",
              "      <td>41</td>\n",
              "      <td>1</td>\n",
              "      <td>Sales</td>\n",
              "      <td>2</td>\n",
              "      <td>Life Sciences</td>\n",
              "      <td>1</td>\n",
              "      <td>2</td>\n",
              "      <td>Female</td>\n",
              "      <td>94</td>\n",
              "      <td>3</td>\n",
              "      <td>Sales Executive</td>\n",
              "      <td>4</td>\n",
              "      <td>5993</td>\n",
              "      <td>1</td>\n",
              "      <td>3</td>\n",
              "      <td>0</td>\n",
              "      <td>8</td>\n",
              "      <td>1</td>\n",
              "    </tr>\n",
              "    <tr>\n",
              "      <th>1</th>\n",
              "      <td>33</td>\n",
              "      <td>0</td>\n",
              "      <td>Research &amp; Development</td>\n",
              "      <td>4</td>\n",
              "      <td>Life Sciences</td>\n",
              "      <td>5</td>\n",
              "      <td>4</td>\n",
              "      <td>Female</td>\n",
              "      <td>56</td>\n",
              "      <td>3</td>\n",
              "      <td>Research Scientist</td>\n",
              "      <td>3</td>\n",
              "      <td>2909</td>\n",
              "      <td>1</td>\n",
              "      <td>3</td>\n",
              "      <td>0</td>\n",
              "      <td>8</td>\n",
              "      <td>3</td>\n",
              "    </tr>\n",
              "    <tr>\n",
              "      <th>2</th>\n",
              "      <td>27</td>\n",
              "      <td>0</td>\n",
              "      <td>Research &amp; Development</td>\n",
              "      <td>1</td>\n",
              "      <td>Medical</td>\n",
              "      <td>7</td>\n",
              "      <td>1</td>\n",
              "      <td>Male</td>\n",
              "      <td>40</td>\n",
              "      <td>3</td>\n",
              "      <td>Laboratory Technician</td>\n",
              "      <td>2</td>\n",
              "      <td>3468</td>\n",
              "      <td>0</td>\n",
              "      <td>3</td>\n",
              "      <td>1</td>\n",
              "      <td>6</td>\n",
              "      <td>3</td>\n",
              "    </tr>\n",
              "    <tr>\n",
              "      <th>3</th>\n",
              "      <td>32</td>\n",
              "      <td>0</td>\n",
              "      <td>Research &amp; Development</td>\n",
              "      <td>2</td>\n",
              "      <td>Life Sciences</td>\n",
              "      <td>8</td>\n",
              "      <td>4</td>\n",
              "      <td>Male</td>\n",
              "      <td>79</td>\n",
              "      <td>3</td>\n",
              "      <td>Laboratory Technician</td>\n",
              "      <td>4</td>\n",
              "      <td>3068</td>\n",
              "      <td>0</td>\n",
              "      <td>3</td>\n",
              "      <td>0</td>\n",
              "      <td>8</td>\n",
              "      <td>2</td>\n",
              "    </tr>\n",
              "    <tr>\n",
              "      <th>4</th>\n",
              "      <td>30</td>\n",
              "      <td>0</td>\n",
              "      <td>Research &amp; Development</td>\n",
              "      <td>1</td>\n",
              "      <td>Life Sciences</td>\n",
              "      <td>11</td>\n",
              "      <td>4</td>\n",
              "      <td>Male</td>\n",
              "      <td>67</td>\n",
              "      <td>3</td>\n",
              "      <td>Laboratory Technician</td>\n",
              "      <td>3</td>\n",
              "      <td>2693</td>\n",
              "      <td>0</td>\n",
              "      <td>4</td>\n",
              "      <td>1</td>\n",
              "      <td>1</td>\n",
              "      <td>3</td>\n",
              "    </tr>\n",
              "    <tr>\n",
              "      <th>...</th>\n",
              "      <td>...</td>\n",
              "      <td>...</td>\n",
              "      <td>...</td>\n",
              "      <td>...</td>\n",
              "      <td>...</td>\n",
              "      <td>...</td>\n",
              "      <td>...</td>\n",
              "      <td>...</td>\n",
              "      <td>...</td>\n",
              "      <td>...</td>\n",
              "      <td>...</td>\n",
              "      <td>...</td>\n",
              "      <td>...</td>\n",
              "      <td>...</td>\n",
              "      <td>...</td>\n",
              "      <td>...</td>\n",
              "      <td>...</td>\n",
              "      <td>...</td>\n",
              "    </tr>\n",
              "    <tr>\n",
              "      <th>863</th>\n",
              "      <td>50</td>\n",
              "      <td>1</td>\n",
              "      <td>Sales</td>\n",
              "      <td>4</td>\n",
              "      <td>Life Sciences</td>\n",
              "      <td>2044</td>\n",
              "      <td>2</td>\n",
              "      <td>Male</td>\n",
              "      <td>94</td>\n",
              "      <td>3</td>\n",
              "      <td>Sales Executive</td>\n",
              "      <td>3</td>\n",
              "      <td>6728</td>\n",
              "      <td>0</td>\n",
              "      <td>3</td>\n",
              "      <td>2</td>\n",
              "      <td>12</td>\n",
              "      <td>3</td>\n",
              "    </tr>\n",
              "    <tr>\n",
              "      <th>864</th>\n",
              "      <td>45</td>\n",
              "      <td>0</td>\n",
              "      <td>Sales</td>\n",
              "      <td>3</td>\n",
              "      <td>Life Sciences</td>\n",
              "      <td>2046</td>\n",
              "      <td>4</td>\n",
              "      <td>Female</td>\n",
              "      <td>50</td>\n",
              "      <td>3</td>\n",
              "      <td>Sales Executive</td>\n",
              "      <td>3</td>\n",
              "      <td>4850</td>\n",
              "      <td>0</td>\n",
              "      <td>3</td>\n",
              "      <td>0</td>\n",
              "      <td>8</td>\n",
              "      <td>3</td>\n",
              "    </tr>\n",
              "    <tr>\n",
              "      <th>865</th>\n",
              "      <td>35</td>\n",
              "      <td>0</td>\n",
              "      <td>Research &amp; Development</td>\n",
              "      <td>4</td>\n",
              "      <td>Life Sciences</td>\n",
              "      <td>2049</td>\n",
              "      <td>3</td>\n",
              "      <td>Male</td>\n",
              "      <td>80</td>\n",
              "      <td>3</td>\n",
              "      <td>Healthcare Representative</td>\n",
              "      <td>3</td>\n",
              "      <td>5689</td>\n",
              "      <td>1</td>\n",
              "      <td>3</td>\n",
              "      <td>2</td>\n",
              "      <td>10</td>\n",
              "      <td>4</td>\n",
              "    </tr>\n",
              "    <tr>\n",
              "      <th>866</th>\n",
              "      <td>40</td>\n",
              "      <td>0</td>\n",
              "      <td>Research &amp; Development</td>\n",
              "      <td>4</td>\n",
              "      <td>Medical</td>\n",
              "      <td>2051</td>\n",
              "      <td>3</td>\n",
              "      <td>Female</td>\n",
              "      <td>98</td>\n",
              "      <td>3</td>\n",
              "      <td>Research Scientist</td>\n",
              "      <td>3</td>\n",
              "      <td>2001</td>\n",
              "      <td>0</td>\n",
              "      <td>3</td>\n",
              "      <td>3</td>\n",
              "      <td>20</td>\n",
              "      <td>3</td>\n",
              "    </tr>\n",
              "    <tr>\n",
              "      <th>867</th>\n",
              "      <td>31</td>\n",
              "      <td>0</td>\n",
              "      <td>Research &amp; Development</td>\n",
              "      <td>3</td>\n",
              "      <td>Medical</td>\n",
              "      <td>2057</td>\n",
              "      <td>2</td>\n",
              "      <td>Male</td>\n",
              "      <td>74</td>\n",
              "      <td>3</td>\n",
              "      <td>Manufacturing Director</td>\n",
              "      <td>1</td>\n",
              "      <td>9936</td>\n",
              "      <td>0</td>\n",
              "      <td>3</td>\n",
              "      <td>0</td>\n",
              "      <td>10</td>\n",
              "      <td>3</td>\n",
              "    </tr>\n",
              "  </tbody>\n",
              "</table>\n",
              "<p>868 rows × 18 columns</p>\n",
              "</div>\n",
              "      <button class=\"colab-df-convert\" onclick=\"convertToInteractive('df-c6b0b787-4cb7-43f3-9dce-094082024720')\"\n",
              "              title=\"Convert this dataframe to an interactive table.\"\n",
              "              style=\"display:none;\">\n",
              "        \n",
              "  <svg xmlns=\"http://www.w3.org/2000/svg\" height=\"24px\"viewBox=\"0 0 24 24\"\n",
              "       width=\"24px\">\n",
              "    <path d=\"M0 0h24v24H0V0z\" fill=\"none\"/>\n",
              "    <path d=\"M18.56 5.44l.94 2.06.94-2.06 2.06-.94-2.06-.94-.94-2.06-.94 2.06-2.06.94zm-11 1L8.5 8.5l.94-2.06 2.06-.94-2.06-.94L8.5 2.5l-.94 2.06-2.06.94zm10 10l.94 2.06.94-2.06 2.06-.94-2.06-.94-.94-2.06-.94 2.06-2.06.94z\"/><path d=\"M17.41 7.96l-1.37-1.37c-.4-.4-.92-.59-1.43-.59-.52 0-1.04.2-1.43.59L10.3 9.45l-7.72 7.72c-.78.78-.78 2.05 0 2.83L4 21.41c.39.39.9.59 1.41.59.51 0 1.02-.2 1.41-.59l7.78-7.78 2.81-2.81c.8-.78.8-2.07 0-2.86zM5.41 20L4 18.59l7.72-7.72 1.47 1.35L5.41 20z\"/>\n",
              "  </svg>\n",
              "      </button>\n",
              "      \n",
              "  <style>\n",
              "    .colab-df-container {\n",
              "      display:flex;\n",
              "      flex-wrap:wrap;\n",
              "      gap: 12px;\n",
              "    }\n",
              "\n",
              "    .colab-df-convert {\n",
              "      background-color: #E8F0FE;\n",
              "      border: none;\n",
              "      border-radius: 50%;\n",
              "      cursor: pointer;\n",
              "      display: none;\n",
              "      fill: #1967D2;\n",
              "      height: 32px;\n",
              "      padding: 0 0 0 0;\n",
              "      width: 32px;\n",
              "    }\n",
              "\n",
              "    .colab-df-convert:hover {\n",
              "      background-color: #E2EBFA;\n",
              "      box-shadow: 0px 1px 2px rgba(60, 64, 67, 0.3), 0px 1px 3px 1px rgba(60, 64, 67, 0.15);\n",
              "      fill: #174EA6;\n",
              "    }\n",
              "\n",
              "    [theme=dark] .colab-df-convert {\n",
              "      background-color: #3B4455;\n",
              "      fill: #D2E3FC;\n",
              "    }\n",
              "\n",
              "    [theme=dark] .colab-df-convert:hover {\n",
              "      background-color: #434B5C;\n",
              "      box-shadow: 0px 1px 3px 1px rgba(0, 0, 0, 0.15);\n",
              "      filter: drop-shadow(0px 1px 2px rgba(0, 0, 0, 0.3));\n",
              "      fill: #FFFFFF;\n",
              "    }\n",
              "  </style>\n",
              "\n",
              "      <script>\n",
              "        const buttonEl =\n",
              "          document.querySelector('#df-c6b0b787-4cb7-43f3-9dce-094082024720 button.colab-df-convert');\n",
              "        buttonEl.style.display =\n",
              "          google.colab.kernel.accessAllowed ? 'block' : 'none';\n",
              "\n",
              "        async function convertToInteractive(key) {\n",
              "          const element = document.querySelector('#df-c6b0b787-4cb7-43f3-9dce-094082024720');\n",
              "          const dataTable =\n",
              "            await google.colab.kernel.invokeFunction('convertToInteractive',\n",
              "                                                     [key], {});\n",
              "          if (!dataTable) return;\n",
              "\n",
              "          const docLinkHtml = 'Like what you see? Visit the ' +\n",
              "            '<a target=\"_blank\" href=https://colab.research.google.com/notebooks/data_table.ipynb>data table notebook</a>'\n",
              "            + ' to learn more about interactive tables.';\n",
              "          element.innerHTML = '';\n",
              "          dataTable['output_type'] = 'display_data';\n",
              "          await google.colab.output.renderOutput(dataTable, element);\n",
              "          const docLink = document.createElement('div');\n",
              "          docLink.innerHTML = docLinkHtml;\n",
              "          element.appendChild(docLink);\n",
              "        }\n",
              "      </script>\n",
              "    </div>\n",
              "  </div>\n",
              "  "
            ]
          },
          "metadata": {},
          "execution_count": 101
        }
      ]
    },
    {
      "cell_type": "code",
      "source": [
        "plt.figure(figsize = (20,10))\n",
        "\n",
        "Graph1 = sns.countplot(x=\"EducationField\", hue = \"JobInvolvement\", data=jobinv_edu)\n",
        "\n",
        "for p in Graph1.patches:\n",
        "   Graph1.annotate('{:.1f}'.format(p.get_height()), (p.get_x()+0.40, p.get_height()+0.30))\n",
        "\n",
        "plt.legend(title='Attrition', loc='upper right', labels=['High job involvement'])\n",
        "\n",
        "Graph1.set(title='\\nJobInvolvement vs EducationField')\n",
        "\n",
        "x_ticks_labels = ['Life Sciences', 'Medical', 'Other', 'Marketing', 'Technical Degree', 'Human Resources']\n",
        "\n",
        "Graph1.set_xticklabels(x_ticks_labels)\n",
        "plt.xlabel('EducationField')\n",
        "plt.ylabel('JobInvolvement')\n",
        "plt.show()"
      ],
      "metadata": {
        "id": "E8U6ujFhOuLn",
        "colab": {
          "base_uri": "https://localhost:8080/",
          "height": 0
        },
        "outputId": "12afa2a8-dcad-4032-b345-9338c14f20e5"
      },
      "execution_count": 102,
      "outputs": [
        {
          "output_type": "display_data",
          "data": {
            "text/plain": [
              "<Figure size 1440x720 with 1 Axes>"
            ],
            "image/png": "[encoded data removed]"
          },
          "metadata": {
            "needs_background": "light"
          }
        }
      ]
    },
    {
      "cell_type": "code",
      "source": [
        "percent_medical_edu = 271.0/868.0*100.0\n",
        "percent_medical_edu"
      ],
      "metadata": {
        "id": "Duju9kPPOz3Z",
        "colab": {
          "base_uri": "https://localhost:8080/"
        },
        "outputId": "92a819e0-1e84-4707-e8d2-531087d87c41"
      },
      "execution_count": 103,
      "outputs": [
        {
          "output_type": "execute_result",
          "data": {
            "text/plain": [
              "31.22119815668203"
            ]
          },
          "metadata": {},
          "execution_count": 103
        }
      ]
    },
    {
      "cell_type": "markdown",
      "source": [
        "###**Data Science Question 2**"
      ],
      "metadata": {
        "id": "MhWt1EuuOWmt"
      }
    },
    {
      "cell_type": "code",
      "source": [
        "department_overtime = updated_attrition_Emp_df.select(col(\"Department\"),(\"OverTime\"))\n",
        "department_overtime = updated_attrition_Emp_df.filter((updated_attrition_Emp_df.OverTime == \"1\"))"
      ],
      "metadata": {
        "id": "K96AXd24ObpP"
      },
      "execution_count": 104,
      "outputs": []
    },
    {
      "cell_type": "code",
      "source": [
        "department_overtime = department_overtime.toPandas()"
      ],
      "metadata": {
        "id": "WLCDVB3uO30v"
      },
      "execution_count": 105,
      "outputs": []
    },
    {
      "cell_type": "code",
      "source": [
        "department_overtime"
      ],
      "metadata": {
        "id": "7fy-83SXO5hg",
        "colab": {
          "base_uri": "https://localhost:8080/",
          "height": 0
        },
        "outputId": "1746d384-4642-45d1-960e-f30381a2a665"
      },
      "execution_count": 106,
      "outputs": [
        {
          "output_type": "execute_result",
          "data": {
            "text/plain": [
              "     Age  Attrition              Department  Education EducationField  \\\n",
              "0     41          1                   Sales          2  Life Sciences   \n",
              "1     37          1  Research & Development          2          Other   \n",
              "2     33          0  Research & Development          4  Life Sciences   \n",
              "3     59          0  Research & Development          3        Medical   \n",
              "4     29          0  Research & Development          2  Life Sciences   \n",
              "..   ...        ...                     ...        ...            ...   \n",
              "411   35          0         Human Resources          4  Life Sciences   \n",
              "412   35          0  Research & Development          4  Life Sciences   \n",
              "413   29          0  Research & Development          2          Other   \n",
              "414   50          1                   Sales          3      Marketing   \n",
              "415   27          0  Research & Development          3  Life Sciences   \n",
              "\n",
              "     EmployeeNumber  EnvironmentSatisfaction  Gender  HourlyRate  \\\n",
              "0                 1                        2  Female          94   \n",
              "1                 4                        4    Male          92   \n",
              "2                 5                        4  Female          56   \n",
              "3                10                        3  Female          81   \n",
              "4                15                        4  Female          49   \n",
              "..              ...                      ...     ...         ...   \n",
              "411            2040                        3  Female          31   \n",
              "412            2049                        3    Male          80   \n",
              "413            2053                        4    Male          46   \n",
              "414            2055                        4    Male          39   \n",
              "415            2064                        2    Male          87   \n",
              "\n",
              "     JobInvolvement                    JobRole  JobSatisfaction  \\\n",
              "0                 3            Sales Executive                4   \n",
              "1                 2      Laboratory Technician                3   \n",
              "2                 3         Research Scientist                3   \n",
              "3                 4      Laboratory Technician                1   \n",
              "4                 2      Laboratory Technician                3   \n",
              "..              ...                        ...              ...   \n",
              "411               3            Human Resources                4   \n",
              "412               3  Healthcare Representative                3   \n",
              "413               2      Laboratory Technician                2   \n",
              "414               2            Sales Executive                1   \n",
              "415               4     Manufacturing Director                2   \n",
              "\n",
              "     MonthlyIncome  OverTime  PerformanceRating  StockOptionLevel  \\\n",
              "0             5993         1                  3                 0   \n",
              "1             2090         1                  3                 0   \n",
              "2             2909         1                  3                 0   \n",
              "3             2670         1                  4                 3   \n",
              "4             4193         1                  3                 0   \n",
              "..             ...       ...                ...               ...   \n",
              "411           8837         1                  3                 0   \n",
              "412           5689         1                  3                 2   \n",
              "413           4025         1                  3                 1   \n",
              "414          10854         1                  3                 1   \n",
              "415           6142         1                  4                 1   \n",
              "\n",
              "     TotalWorkingYears  WorkLifeBalance  \n",
              "0                    8                1  \n",
              "1                    7                3  \n",
              "2                    8                3  \n",
              "3                   12                2  \n",
              "4                   10                3  \n",
              "..                 ...              ...  \n",
              "411                  9                3  \n",
              "412                 10                4  \n",
              "413                 10                3  \n",
              "414                 20                3  \n",
              "415                  6                3  \n",
              "\n",
              "[416 rows x 18 columns]"
            ],
            "text/html": [
              "\n",
              "  <div id=\"df-dd174c5f-e4ce-4563-a5e0-c8172d43093b\">\n",
              "    <div class=\"colab-df-container\">\n",
              "      <div>\n",
              "<style scoped>\n",
              "    .dataframe tbody tr th:only-of-type {\n",
              "        vertical-align: middle;\n",
              "    }\n",
              "\n",
              "    .dataframe tbody tr th {\n",
              "        vertical-align: top;\n",
              "    }\n",
              "\n",
              "    .dataframe thead th {\n",
              "        text-align: right;\n",
              "    }\n",
              "</style>\n",
              "<table border=\"1\" class=\"dataframe\">\n",
              "  <thead>\n",
              "    <tr style=\"text-align: right;\">\n",
              "      <th></th>\n",
              "      <th>Age</th>\n",
              "      <th>Attrition</th>\n",
              "      <th>Department</th>\n",
              "      <th>Education</th>\n",
              "      <th>EducationField</th>\n",
              "      <th>EmployeeNumber</th>\n",
              "      <th>EnvironmentSatisfaction</th>\n",
              "      <th>Gender</th>\n",
              "      <th>HourlyRate</th>\n",
              "      <th>JobInvolvement</th>\n",
              "      <th>JobRole</th>\n",
              "      <th>JobSatisfaction</th>\n",
              "      <th>MonthlyIncome</th>\n",
              "      <th>OverTime</th>\n",
              "      <th>PerformanceRating</th>\n",
              "      <th>StockOptionLevel</th>\n",
              "      <th>TotalWorkingYears</th>\n",
              "      <th>WorkLifeBalance</th>\n",
              "    </tr>\n",
              "  </thead>\n",
              "  <tbody>\n",
              "    <tr>\n",
              "      <th>0</th>\n",
              "      <td>41</td>\n",
              "      <td>1</td>\n",
              "      <td>Sales</td>\n",
              "      <td>2</td>\n",
              "      <td>Life Sciences</td>\n",
              "      <td>1</td>\n",
              "      <td>2</td>\n",
              "      <td>Female</td>\n",
              "      <td>94</td>\n",
              "      <td>3</td>\n",
              "      <td>Sales Executive</td>\n",
              "      <td>4</td>\n",
              "      <td>5993</td>\n",
              "      <td>1</td>\n",
              "      <td>3</td>\n",
              "      <td>0</td>\n",
              "      <td>8</td>\n",
              "      <td>1</td>\n",
              "    </tr>\n",
              "    <tr>\n",
              "      <th>1</th>\n",
              "      <td>37</td>\n",
              "      <td>1</td>\n",
              "      <td>Research &amp; Development</td>\n",
              "      <td>2</td>\n",
              "      <td>Other</td>\n",
              "      <td>4</td>\n",
              "      <td>4</td>\n",
              "      <td>Male</td>\n",
              "      <td>92</td>\n",
              "      <td>2</td>\n",
              "      <td>Laboratory Technician</td>\n",
              "      <td>3</td>\n",
              "      <td>2090</td>\n",
              "      <td>1</td>\n",
              "      <td>3</td>\n",
              "      <td>0</td>\n",
              "      <td>7</td>\n",
              "      <td>3</td>\n",
              "    </tr>\n",
              "    <tr>\n",
              "      <th>2</th>\n",
              "      <td>33</td>\n",
              "      <td>0</td>\n",
              "      <td>Research &amp; Development</td>\n",
              "      <td>4</td>\n",
              "      <td>Life Sciences</td>\n",
              "      <td>5</td>\n",
              "      <td>4</td>\n",
              "      <td>Female</td>\n",
              "      <td>56</td>\n",
              "      <td>3</td>\n",
              "      <td>Research Scientist</td>\n",
              "      <td>3</td>\n",
              "      <td>2909</td>\n",
              "      <td>1</td>\n",
              "      <td>3</td>\n",
              "      <td>0</td>\n",
              "      <td>8</td>\n",
              "      <td>3</td>\n",
              "    </tr>\n",
              "    <tr>\n",
              "      <th>3</th>\n",
              "      <td>59</td>\n",
              "      <td>0</td>\n",
              "      <td>Research &amp; Development</td>\n",
              "      <td>3</td>\n",
              "      <td>Medical</td>\n",
              "      <td>10</td>\n",
              "      <td>3</td>\n",
              "      <td>Female</td>\n",
              "      <td>81</td>\n",
              "      <td>4</td>\n",
              "      <td>Laboratory Technician</td>\n",
              "      <td>1</td>\n",
              "      <td>2670</td>\n",
              "      <td>1</td>\n",
              "      <td>4</td>\n",
              "      <td>3</td>\n",
              "      <td>12</td>\n",
              "      <td>2</td>\n",
              "    </tr>\n",
              "    <tr>\n",
              "      <th>4</th>\n",
              "      <td>29</td>\n",
              "      <td>0</td>\n",
              "      <td>Research &amp; Development</td>\n",
              "      <td>2</td>\n",
              "      <td>Life Sciences</td>\n",
              "      <td>15</td>\n",
              "      <td>4</td>\n",
              "      <td>Female</td>\n",
              "      <td>49</td>\n",
              "      <td>2</td>\n",
              "      <td>Laboratory Technician</td>\n",
              "      <td>3</td>\n",
              "      <td>4193</td>\n",
              "      <td>1</td>\n",
              "      <td>3</td>\n",
              "      <td>0</td>\n",
              "      <td>10</td>\n",
              "      <td>3</td>\n",
              "    </tr>\n",
              "    <tr>\n",
              "      <th>...</th>\n",
              "      <td>...</td>\n",
              "      <td>...</td>\n",
              "      <td>...</td>\n",
              "      <td>...</td>\n",
              "      <td>...</td>\n",
              "      <td>...</td>\n",
              "      <td>...</td>\n",
              "      <td>...</td>\n",
              "      <td>...</td>\n",
              "      <td>...</td>\n",
              "      <td>...</td>\n",
              "      <td>...</td>\n",
              "      <td>...</td>\n",
              "      <td>...</td>\n",
              "      <td>...</td>\n",
              "      <td>...</td>\n",
              "      <td>...</td>\n",
              "      <td>...</td>\n",
              "    </tr>\n",
              "    <tr>\n",
              "      <th>411</th>\n",
              "      <td>35</td>\n",
              "      <td>0</td>\n",
              "      <td>Human Resources</td>\n",
              "      <td>4</td>\n",
              "      <td>Life Sciences</td>\n",
              "      <td>2040</td>\n",
              "      <td>3</td>\n",
              "      <td>Female</td>\n",
              "      <td>31</td>\n",
              "      <td>3</td>\n",
              "      <td>Human Resources</td>\n",
              "      <td>4</td>\n",
              "      <td>8837</td>\n",
              "      <td>1</td>\n",
              "      <td>3</td>\n",
              "      <td>0</td>\n",
              "      <td>9</td>\n",
              "      <td>3</td>\n",
              "    </tr>\n",
              "    <tr>\n",
              "      <th>412</th>\n",
              "      <td>35</td>\n",
              "      <td>0</td>\n",
              "      <td>Research &amp; Development</td>\n",
              "      <td>4</td>\n",
              "      <td>Life Sciences</td>\n",
              "      <td>2049</td>\n",
              "      <td>3</td>\n",
              "      <td>Male</td>\n",
              "      <td>80</td>\n",
              "      <td>3</td>\n",
              "      <td>Healthcare Representative</td>\n",
              "      <td>3</td>\n",
              "      <td>5689</td>\n",
              "      <td>1</td>\n",
              "      <td>3</td>\n",
              "      <td>2</td>\n",
              "      <td>10</td>\n",
              "      <td>4</td>\n",
              "    </tr>\n",
              "    <tr>\n",
              "      <th>413</th>\n",
              "      <td>29</td>\n",
              "      <td>0</td>\n",
              "      <td>Research &amp; Development</td>\n",
              "      <td>2</td>\n",
              "      <td>Other</td>\n",
              "      <td>2053</td>\n",
              "      <td>4</td>\n",
              "      <td>Male</td>\n",
              "      <td>46</td>\n",
              "      <td>2</td>\n",
              "      <td>Laboratory Technician</td>\n",
              "      <td>2</td>\n",
              "      <td>4025</td>\n",
              "      <td>1</td>\n",
              "      <td>3</td>\n",
              "      <td>1</td>\n",
              "      <td>10</td>\n",
              "      <td>3</td>\n",
              "    </tr>\n",
              "    <tr>\n",
              "      <th>414</th>\n",
              "      <td>50</td>\n",
              "      <td>1</td>\n",
              "      <td>Sales</td>\n",
              "      <td>3</td>\n",
              "      <td>Marketing</td>\n",
              "      <td>2055</td>\n",
              "      <td>4</td>\n",
              "      <td>Male</td>\n",
              "      <td>39</td>\n",
              "      <td>2</td>\n",
              "      <td>Sales Executive</td>\n",
              "      <td>1</td>\n",
              "      <td>10854</td>\n",
              "      <td>1</td>\n",
              "      <td>3</td>\n",
              "      <td>1</td>\n",
              "      <td>20</td>\n",
              "      <td>3</td>\n",
              "    </tr>\n",
              "    <tr>\n",
              "      <th>415</th>\n",
              "      <td>27</td>\n",
              "      <td>0</td>\n",
              "      <td>Research &amp; Development</td>\n",
              "      <td>3</td>\n",
              "      <td>Life Sciences</td>\n",
              "      <td>2064</td>\n",
              "      <td>2</td>\n",
              "      <td>Male</td>\n",
              "      <td>87</td>\n",
              "      <td>4</td>\n",
              "      <td>Manufacturing Director</td>\n",
              "      <td>2</td>\n",
              "      <td>6142</td>\n",
              "      <td>1</td>\n",
              "      <td>4</td>\n",
              "      <td>1</td>\n",
              "      <td>6</td>\n",
              "      <td>3</td>\n",
              "    </tr>\n",
              "  </tbody>\n",
              "</table>\n",
              "<p>416 rows × 18 columns</p>\n",
              "</div>\n",
              "      <button class=\"colab-df-convert\" onclick=\"convertToInteractive('df-dd174c5f-e4ce-4563-a5e0-c8172d43093b')\"\n",
              "              title=\"Convert this dataframe to an interactive table.\"\n",
              "              style=\"display:none;\">\n",
              "        \n",
              "  <svg xmlns=\"http://www.w3.org/2000/svg\" height=\"24px\"viewBox=\"0 0 24 24\"\n",
              "       width=\"24px\">\n",
              "    <path d=\"M0 0h24v24H0V0z\" fill=\"none\"/>\n",
              "    <path d=\"M18.56 5.44l.94 2.06.94-2.06 2.06-.94-2.06-.94-.94-2.06-.94 2.06-2.06.94zm-11 1L8.5 8.5l.94-2.06 2.06-.94-2.06-.94L8.5 2.5l-.94 2.06-2.06.94zm10 10l.94 2.06.94-2.06 2.06-.94-2.06-.94-.94-2.06-.94 2.06-2.06.94z\"/><path d=\"M17.41 7.96l-1.37-1.37c-.4-.4-.92-.59-1.43-.59-.52 0-1.04.2-1.43.59L10.3 9.45l-7.72 7.72c-.78.78-.78 2.05 0 2.83L4 21.41c.39.39.9.59 1.41.59.51 0 1.02-.2 1.41-.59l7.78-7.78 2.81-2.81c.8-.78.8-2.07 0-2.86zM5.41 20L4 18.59l7.72-7.72 1.47 1.35L5.41 20z\"/>\n",
              "  </svg>\n",
              "      </button>\n",
              "      \n",
              "  <style>\n",
              "    .colab-df-container {\n",
              "      display:flex;\n",
              "      flex-wrap:wrap;\n",
              "      gap: 12px;\n",
              "    }\n",
              "\n",
              "    .colab-df-convert {\n",
              "      background-color: #E8F0FE;\n",
              "      border: none;\n",
              "      border-radius: 50%;\n",
              "      cursor: pointer;\n",
              "      display: none;\n",
              "      fill: #1967D2;\n",
              "      height: 32px;\n",
              "      padding: 0 0 0 0;\n",
              "      width: 32px;\n",
              "    }\n",
              "\n",
              "    .colab-df-convert:hover {\n",
              "      background-color: #E2EBFA;\n",
              "      box-shadow: 0px 1px 2px rgba(60, 64, 67, 0.3), 0px 1px 3px 1px rgba(60, 64, 67, 0.15);\n",
              "      fill: #174EA6;\n",
              "    }\n",
              "\n",
              "    [theme=dark] .colab-df-convert {\n",
              "      background-color: #3B4455;\n",
              "      fill: #D2E3FC;\n",
              "    }\n",
              "\n",
              "    [theme=dark] .colab-df-convert:hover {\n",
              "      background-color: #434B5C;\n",
              "      box-shadow: 0px 1px 3px 1px rgba(0, 0, 0, 0.15);\n",
              "      filter: drop-shadow(0px 1px 2px rgba(0, 0, 0, 0.3));\n",
              "      fill: #FFFFFF;\n",
              "    }\n",
              "  </style>\n",
              "\n",
              "      <script>\n",
              "        const buttonEl =\n",
              "          document.querySelector('#df-dd174c5f-e4ce-4563-a5e0-c8172d43093b button.colab-df-convert');\n",
              "        buttonEl.style.display =\n",
              "          google.colab.kernel.accessAllowed ? 'block' : 'none';\n",
              "\n",
              "        async function convertToInteractive(key) {\n",
              "          const element = document.querySelector('#df-dd174c5f-e4ce-4563-a5e0-c8172d43093b');\n",
              "          const dataTable =\n",
              "            await google.colab.kernel.invokeFunction('convertToInteractive',\n",
              "                                                     [key], {});\n",
              "          if (!dataTable) return;\n",
              "\n",
              "          const docLinkHtml = 'Like what you see? Visit the ' +\n",
              "            '<a target=\"_blank\" href=https://colab.research.google.com/notebooks/data_table.ipynb>data table notebook</a>'\n",
              "            + ' to learn more about interactive tables.';\n",
              "          element.innerHTML = '';\n",
              "          dataTable['output_type'] = 'display_data';\n",
              "          await google.colab.output.renderOutput(dataTable, element);\n",
              "          const docLink = document.createElement('div');\n",
              "          docLink.innerHTML = docLinkHtml;\n",
              "          element.appendChild(docLink);\n",
              "        }\n",
              "      </script>\n",
              "    </div>\n",
              "  </div>\n",
              "  "
            ]
          },
          "metadata": {},
          "execution_count": 106
        }
      ]
    },
    {
      "cell_type": "code",
      "source": [
        "plt.figure(figsize = (20,10))\n",
        "\n",
        "Graph2 = sns.countplot(x=\"Department\", hue = \"OverTime\", data=department_overtime)\n",
        "\n",
        "for p in Graph2.patches:\n",
        "   Graph2.annotate('{:.1f}'.format(p.get_height()), (p.get_x()+0.40, p.get_height()+0.30))\n",
        "\n",
        "plt.legend(title='OverTime', loc='upper right', labels=['Yes'])\n",
        "\n",
        "Graph2.set(title='\\nOverTime vs Department')\n",
        "\n",
        "x_ticks_labels = ['Sales', 'Research & Development', 'Human Resources']\n",
        "\n",
        "Graph2.set_xticklabels(x_ticks_labels)\n",
        "plt.xlabel('Department')\n",
        "plt.ylabel('OverTime')\n",
        "plt.show()"
      ],
      "metadata": {
        "id": "T9XbI4lEO7QA",
        "colab": {
          "base_uri": "https://localhost:8080/",
          "height": 0
        },
        "outputId": "6feee4d5-14f7-47d2-80d0-949b0ef8e013"
      },
      "execution_count": 107,
      "outputs": [
        {
          "output_type": "display_data",
          "data": {
            "text/plain": [
              "<Figure size 1440x720 with 1 Axes>"
            ],
            "image/png": "[encoded data removed]"
          },
          "metadata": {
            "needs_background": "light"
          }
        }
      ]
    },
    {
      "cell_type": "code",
      "source": [
        "percent_sales = 128.0/416.0*100.0\n",
        "percent_sales"
      ],
      "metadata": {
        "id": "5CPWCyoWPAS_",
        "colab": {
          "base_uri": "https://localhost:8080/"
        },
        "outputId": "d927960f-a821-451a-bf22-7f49cc5a58c6"
      },
      "execution_count": 108,
      "outputs": [
        {
          "output_type": "execute_result",
          "data": {
            "text/plain": [
              "30.76923076923077"
            ]
          },
          "metadata": {},
          "execution_count": 108
        }
      ]
    },
    {
      "cell_type": "markdown",
      "source": [
        "### **Data Science Question 3**"
      ],
      "metadata": {
        "id": "nstPz-tfG6Wr"
      }
    },
    {
      "cell_type": "code",
      "source": [
        "below_college_high_job_satisfaction = updated_attrition_Emp_df.select(col(\"Education\"),(\"JobSatisfaction\"), (\"OverTime\"))\n",
        "below_college_high_job_satisfaction = updated_attrition_Emp_df.filter(updated_attrition_Emp_df.Education == \"1\")"
      ],
      "metadata": {
        "id": "EWxZR3o5G6Er"
      },
      "execution_count": 109,
      "outputs": []
    },
    {
      "cell_type": "code",
      "source": [
        "below_college_high_job_satisfaction = below_college_high_job_satisfaction.toPandas()"
      ],
      "metadata": {
        "id": "DF3ugHm8HBct"
      },
      "execution_count": 110,
      "outputs": []
    },
    {
      "cell_type": "code",
      "source": [
        "below_college_high_job_satisfaction"
      ],
      "metadata": {
        "id": "uerNacM4HEQ8",
        "colab": {
          "base_uri": "https://localhost:8080/",
          "height": 0
        },
        "outputId": "3020a004-bbcf-4707-e77f-7460e393ad4c"
      },
      "execution_count": 111,
      "outputs": [
        {
          "output_type": "execute_result",
          "data": {
            "text/plain": [
              "     Age  Attrition              Department  Education EducationField  \\\n",
              "0     49          0  Research & Development          1  Life Sciences   \n",
              "1     27          0  Research & Development          1        Medical   \n",
              "2     30          0  Research & Development          1  Life Sciences   \n",
              "3     31          0  Research & Development          1  Life Sciences   \n",
              "4     34          1  Research & Development          1        Medical   \n",
              "..   ...        ...                     ...        ...            ...   \n",
              "165   47          0  Research & Development          1        Medical   \n",
              "166   39          0  Research & Development          1  Life Sciences   \n",
              "167   21          0                   Sales          1        Medical   \n",
              "168   39          0                   Sales          1      Marketing   \n",
              "169   39          0  Research & Development          1        Medical   \n",
              "\n",
              "     EmployeeNumber  EnvironmentSatisfaction  Gender  HourlyRate  \\\n",
              "0                 2                        3    Male          61   \n",
              "1                 7                        1    Male          40   \n",
              "2                11                        4    Male          67   \n",
              "3                16                        1    Male          31   \n",
              "4                31                        2    Male          83   \n",
              "..              ...                      ...     ...         ...   \n",
              "165            2000                        3  Female          98   \n",
              "166            2014                        1    Male          52   \n",
              "167            2021                        3    Male          58   \n",
              "168            2056                        2  Female          60   \n",
              "169            2062                        4    Male          42   \n",
              "\n",
              "     JobInvolvement                    JobRole  JobSatisfaction  \\\n",
              "0                 2         Research Scientist                2   \n",
              "1                 3      Laboratory Technician                2   \n",
              "2                 3      Laboratory Technician                3   \n",
              "3                 3         Research Scientist                3   \n",
              "4                 3         Research Scientist                1   \n",
              "..              ...                        ...              ...   \n",
              "165               3          Research Director                2   \n",
              "166               3         Research Scientist                4   \n",
              "167               3       Sales Representative                1   \n",
              "168               2            Sales Executive                4   \n",
              "169               2  Healthcare Representative                1   \n",
              "\n",
              "     MonthlyIncome  OverTime  PerformanceRating  StockOptionLevel  \\\n",
              "0             5130         0                  4                 1   \n",
              "1             3468         0                  3                 1   \n",
              "2             2693         0                  4                 1   \n",
              "3             2911         0                  3                 1   \n",
              "4             2960         0                  3                 0   \n",
              "..             ...       ...                ...               ...   \n",
              "165          11957         0                  3                 2   \n",
              "166           4108         0                  3                 0   \n",
              "167           2380         1                  3                 0   \n",
              "168          12031         0                  3                 1   \n",
              "169           9991         0                  3                 1   \n",
              "\n",
              "     TotalWorkingYears  WorkLifeBalance  \n",
              "0                   10                3  \n",
              "1                    6                3  \n",
              "2                    1                3  \n",
              "3                    5                2  \n",
              "4                    8                3  \n",
              "..                 ...              ...  \n",
              "165                 14                1  \n",
              "166                 18                3  \n",
              "167                  2                3  \n",
              "168                 21                2  \n",
              "169                  9                3  \n",
              "\n",
              "[170 rows x 18 columns]"
            ],
            "text/html": [
              "\n",
              "  <div id=\"df-cc54697d-abe7-40cb-91ff-f5d1a89c5944\">\n",
              "    <div class=\"colab-df-container\">\n",
              "      <div>\n",
              "<style scoped>\n",
              "    .dataframe tbody tr th:only-of-type {\n",
              "        vertical-align: middle;\n",
              "    }\n",
              "\n",
              "    .dataframe tbody tr th {\n",
              "        vertical-align: top;\n",
              "    }\n",
              "\n",
              "    .dataframe thead th {\n",
              "        text-align: right;\n",
              "    }\n",
              "</style>\n",
              "<table border=\"1\" class=\"dataframe\">\n",
              "  <thead>\n",
              "    <tr style=\"text-align: right;\">\n",
              "      <th></th>\n",
              "      <th>Age</th>\n",
              "      <th>Attrition</th>\n",
              "      <th>Department</th>\n",
              "      <th>Education</th>\n",
              "      <th>EducationField</th>\n",
              "      <th>EmployeeNumber</th>\n",
              "      <th>EnvironmentSatisfaction</th>\n",
              "      <th>Gender</th>\n",
              "      <th>HourlyRate</th>\n",
              "      <th>JobInvolvement</th>\n",
              "      <th>JobRole</th>\n",
              "      <th>JobSatisfaction</th>\n",
              "      <th>MonthlyIncome</th>\n",
              "      <th>OverTime</th>\n",
              "      <th>PerformanceRating</th>\n",
              "      <th>StockOptionLevel</th>\n",
              "      <th>TotalWorkingYears</th>\n",
              "      <th>WorkLifeBalance</th>\n",
              "    </tr>\n",
              "  </thead>\n",
              "  <tbody>\n",
              "    <tr>\n",
              "      <th>0</th>\n",
              "      <td>49</td>\n",
              "      <td>0</td>\n",
              "      <td>Research &amp; Development</td>\n",
              "      <td>1</td>\n",
              "      <td>Life Sciences</td>\n",
              "      <td>2</td>\n",
              "      <td>3</td>\n",
              "      <td>Male</td>\n",
              "      <td>61</td>\n",
              "      <td>2</td>\n",
              "      <td>Research Scientist</td>\n",
              "      <td>2</td>\n",
              "      <td>5130</td>\n",
              "      <td>0</td>\n",
              "      <td>4</td>\n",
              "      <td>1</td>\n",
              "      <td>10</td>\n",
              "      <td>3</td>\n",
              "    </tr>\n",
              "    <tr>\n",
              "      <th>1</th>\n",
              "      <td>27</td>\n",
              "      <td>0</td>\n",
              "      <td>Research &amp; Development</td>\n",
              "      <td>1</td>\n",
              "      <td>Medical</td>\n",
              "      <td>7</td>\n",
              "      <td>1</td>\n",
              "      <td>Male</td>\n",
              "      <td>40</td>\n",
              "      <td>3</td>\n",
              "      <td>Laboratory Technician</td>\n",
              "      <td>2</td>\n",
              "      <td>3468</td>\n",
              "      <td>0</td>\n",
              "      <td>3</td>\n",
              "      <td>1</td>\n",
              "      <td>6</td>\n",
              "      <td>3</td>\n",
              "    </tr>\n",
              "    <tr>\n",
              "      <th>2</th>\n",
              "      <td>30</td>\n",
              "      <td>0</td>\n",
              "      <td>Research &amp; Development</td>\n",
              "      <td>1</td>\n",
              "      <td>Life Sciences</td>\n",
              "      <td>11</td>\n",
              "      <td>4</td>\n",
              "      <td>Male</td>\n",
              "      <td>67</td>\n",
              "      <td>3</td>\n",
              "      <td>Laboratory Technician</td>\n",
              "      <td>3</td>\n",
              "      <td>2693</td>\n",
              "      <td>0</td>\n",
              "      <td>4</td>\n",
              "      <td>1</td>\n",
              "      <td>1</td>\n",
              "      <td>3</td>\n",
              "    </tr>\n",
              "    <tr>\n",
              "      <th>3</th>\n",
              "      <td>31</td>\n",
              "      <td>0</td>\n",
              "      <td>Research &amp; Development</td>\n",
              "      <td>1</td>\n",
              "      <td>Life Sciences</td>\n",
              "      <td>16</td>\n",
              "      <td>1</td>\n",
              "      <td>Male</td>\n",
              "      <td>31</td>\n",
              "      <td>3</td>\n",
              "      <td>Research Scientist</td>\n",
              "      <td>3</td>\n",
              "      <td>2911</td>\n",
              "      <td>0</td>\n",
              "      <td>3</td>\n",
              "      <td>1</td>\n",
              "      <td>5</td>\n",
              "      <td>2</td>\n",
              "    </tr>\n",
              "    <tr>\n",
              "      <th>4</th>\n",
              "      <td>34</td>\n",
              "      <td>1</td>\n",
              "      <td>Research &amp; Development</td>\n",
              "      <td>1</td>\n",
              "      <td>Medical</td>\n",
              "      <td>31</td>\n",
              "      <td>2</td>\n",
              "      <td>Male</td>\n",
              "      <td>83</td>\n",
              "      <td>3</td>\n",
              "      <td>Research Scientist</td>\n",
              "      <td>1</td>\n",
              "      <td>2960</td>\n",
              "      <td>0</td>\n",
              "      <td>3</td>\n",
              "      <td>0</td>\n",
              "      <td>8</td>\n",
              "      <td>3</td>\n",
              "    </tr>\n",
              "    <tr>\n",
              "      <th>...</th>\n",
              "      <td>...</td>\n",
              "      <td>...</td>\n",
              "      <td>...</td>\n",
              "      <td>...</td>\n",
              "      <td>...</td>\n",
              "      <td>...</td>\n",
              "      <td>...</td>\n",
              "      <td>...</td>\n",
              "      <td>...</td>\n",
              "      <td>...</td>\n",
              "      <td>...</td>\n",
              "      <td>...</td>\n",
              "      <td>...</td>\n",
              "      <td>...</td>\n",
              "      <td>...</td>\n",
              "      <td>...</td>\n",
              "      <td>...</td>\n",
              "      <td>...</td>\n",
              "    </tr>\n",
              "    <tr>\n",
              "      <th>165</th>\n",
              "      <td>47</td>\n",
              "      <td>0</td>\n",
              "      <td>Research &amp; Development</td>\n",
              "      <td>1</td>\n",
              "      <td>Medical</td>\n",
              "      <td>2000</td>\n",
              "      <td>3</td>\n",
              "      <td>Female</td>\n",
              "      <td>98</td>\n",
              "      <td>3</td>\n",
              "      <td>Research Director</td>\n",
              "      <td>2</td>\n",
              "      <td>11957</td>\n",
              "      <td>0</td>\n",
              "      <td>3</td>\n",
              "      <td>2</td>\n",
              "      <td>14</td>\n",
              "      <td>1</td>\n",
              "    </tr>\n",
              "    <tr>\n",
              "      <th>166</th>\n",
              "      <td>39</td>\n",
              "      <td>0</td>\n",
              "      <td>Research &amp; Development</td>\n",
              "      <td>1</td>\n",
              "      <td>Life Sciences</td>\n",
              "      <td>2014</td>\n",
              "      <td>1</td>\n",
              "      <td>Male</td>\n",
              "      <td>52</td>\n",
              "      <td>3</td>\n",
              "      <td>Research Scientist</td>\n",
              "      <td>4</td>\n",
              "      <td>4108</td>\n",
              "      <td>0</td>\n",
              "      <td>3</td>\n",
              "      <td>0</td>\n",
              "      <td>18</td>\n",
              "      <td>3</td>\n",
              "    </tr>\n",
              "    <tr>\n",
              "      <th>167</th>\n",
              "      <td>21</td>\n",
              "      <td>0</td>\n",
              "      <td>Sales</td>\n",
              "      <td>1</td>\n",
              "      <td>Medical</td>\n",
              "      <td>2021</td>\n",
              "      <td>3</td>\n",
              "      <td>Male</td>\n",
              "      <td>58</td>\n",
              "      <td>3</td>\n",
              "      <td>Sales Representative</td>\n",
              "      <td>1</td>\n",
              "      <td>2380</td>\n",
              "      <td>1</td>\n",
              "      <td>3</td>\n",
              "      <td>0</td>\n",
              "      <td>2</td>\n",
              "      <td>3</td>\n",
              "    </tr>\n",
              "    <tr>\n",
              "      <th>168</th>\n",
              "      <td>39</td>\n",
              "      <td>0</td>\n",
              "      <td>Sales</td>\n",
              "      <td>1</td>\n",
              "      <td>Marketing</td>\n",
              "      <td>2056</td>\n",
              "      <td>2</td>\n",
              "      <td>Female</td>\n",
              "      <td>60</td>\n",
              "      <td>2</td>\n",
              "      <td>Sales Executive</td>\n",
              "      <td>4</td>\n",
              "      <td>12031</td>\n",
              "      <td>0</td>\n",
              "      <td>3</td>\n",
              "      <td>1</td>\n",
              "      <td>21</td>\n",
              "      <td>2</td>\n",
              "    </tr>\n",
              "    <tr>\n",
              "      <th>169</th>\n",
              "      <td>39</td>\n",
              "      <td>0</td>\n",
              "      <td>Research &amp; Development</td>\n",
              "      <td>1</td>\n",
              "      <td>Medical</td>\n",
              "      <td>2062</td>\n",
              "      <td>4</td>\n",
              "      <td>Male</td>\n",
              "      <td>42</td>\n",
              "      <td>2</td>\n",
              "      <td>Healthcare Representative</td>\n",
              "      <td>1</td>\n",
              "      <td>9991</td>\n",
              "      <td>0</td>\n",
              "      <td>3</td>\n",
              "      <td>1</td>\n",
              "      <td>9</td>\n",
              "      <td>3</td>\n",
              "    </tr>\n",
              "  </tbody>\n",
              "</table>\n",
              "<p>170 rows × 18 columns</p>\n",
              "</div>\n",
              "      <button class=\"colab-df-convert\" onclick=\"convertToInteractive('df-cc54697d-abe7-40cb-91ff-f5d1a89c5944')\"\n",
              "              title=\"Convert this dataframe to an interactive table.\"\n",
              "              style=\"display:none;\">\n",
              "        \n",
              "  <svg xmlns=\"http://www.w3.org/2000/svg\" height=\"24px\"viewBox=\"0 0 24 24\"\n",
              "       width=\"24px\">\n",
              "    <path d=\"M0 0h24v24H0V0z\" fill=\"none\"/>\n",
              "    <path d=\"M18.56 5.44l.94 2.06.94-2.06 2.06-.94-2.06-.94-.94-2.06-.94 2.06-2.06.94zm-11 1L8.5 8.5l.94-2.06 2.06-.94-2.06-.94L8.5 2.5l-.94 2.06-2.06.94zm10 10l.94 2.06.94-2.06 2.06-.94-2.06-.94-.94-2.06-.94 2.06-2.06.94z\"/><path d=\"M17.41 7.96l-1.37-1.37c-.4-.4-.92-.59-1.43-.59-.52 0-1.04.2-1.43.59L10.3 9.45l-7.72 7.72c-.78.78-.78 2.05 0 2.83L4 21.41c.39.39.9.59 1.41.59.51 0 1.02-.2 1.41-.59l7.78-7.78 2.81-2.81c.8-.78.8-2.07 0-2.86zM5.41 20L4 18.59l7.72-7.72 1.47 1.35L5.41 20z\"/>\n",
              "  </svg>\n",
              "      </button>\n",
              "      \n",
              "  <style>\n",
              "    .colab-df-container {\n",
              "      display:flex;\n",
              "      flex-wrap:wrap;\n",
              "      gap: 12px;\n",
              "    }\n",
              "\n",
              "    .colab-df-convert {\n",
              "      background-color: #E8F0FE;\n",
              "      border: none;\n",
              "      border-radius: 50%;\n",
              "      cursor: pointer;\n",
              "      display: none;\n",
              "      fill: #1967D2;\n",
              "      height: 32px;\n",
              "      padding: 0 0 0 0;\n",
              "      width: 32px;\n",
              "    }\n",
              "\n",
              "    .colab-df-convert:hover {\n",
              "      background-color: #E2EBFA;\n",
              "      box-shadow: 0px 1px 2px rgba(60, 64, 67, 0.3), 0px 1px 3px 1px rgba(60, 64, 67, 0.15);\n",
              "      fill: #174EA6;\n",
              "    }\n",
              "\n",
              "    [theme=dark] .colab-df-convert {\n",
              "      background-color: #3B4455;\n",
              "      fill: #D2E3FC;\n",
              "    }\n",
              "\n",
              "    [theme=dark] .colab-df-convert:hover {\n",
              "      background-color: #434B5C;\n",
              "      box-shadow: 0px 1px 3px 1px rgba(0, 0, 0, 0.15);\n",
              "      filter: drop-shadow(0px 1px 2px rgba(0, 0, 0, 0.3));\n",
              "      fill: #FFFFFF;\n",
              "    }\n",
              "  </style>\n",
              "\n",
              "      <script>\n",
              "        const buttonEl =\n",
              "          document.querySelector('#df-cc54697d-abe7-40cb-91ff-f5d1a89c5944 button.colab-df-convert');\n",
              "        buttonEl.style.display =\n",
              "          google.colab.kernel.accessAllowed ? 'block' : 'none';\n",
              "\n",
              "        async function convertToInteractive(key) {\n",
              "          const element = document.querySelector('#df-cc54697d-abe7-40cb-91ff-f5d1a89c5944');\n",
              "          const dataTable =\n",
              "            await google.colab.kernel.invokeFunction('convertToInteractive',\n",
              "                                                     [key], {});\n",
              "          if (!dataTable) return;\n",
              "\n",
              "          const docLinkHtml = 'Like what you see? Visit the ' +\n",
              "            '<a target=\"_blank\" href=https://colab.research.google.com/notebooks/data_table.ipynb>data table notebook</a>'\n",
              "            + ' to learn more about interactive tables.';\n",
              "          element.innerHTML = '';\n",
              "          dataTable['output_type'] = 'display_data';\n",
              "          await google.colab.output.renderOutput(dataTable, element);\n",
              "          const docLink = document.createElement('div');\n",
              "          docLink.innerHTML = docLinkHtml;\n",
              "          element.appendChild(docLink);\n",
              "        }\n",
              "      </script>\n",
              "    </div>\n",
              "  </div>\n",
              "  "
            ]
          },
          "metadata": {},
          "execution_count": 111
        }
      ]
    },
    {
      "cell_type": "code",
      "source": [
        "plt.figure(figsize = (20,10))\n",
        "Graph3 = sns.countplot(x=\"JobSatisfaction\", hue = \"OverTime\", data=below_college_high_job_satisfaction)\n",
        "\n",
        "for p in Graph3.patches:\n",
        "   Graph3.annotate('{:.1f}'.format(p.get_height()), (p.get_x()+0.20, p.get_height()+0.30))\n",
        "\n",
        "plt.legend(title='OverTime', loc='upper right', labels=['No', 'Yes'])\n",
        "\n",
        "Graph3.set(title='\\nEmployee Job Satisfaction Based on Education Under College and Overtime')\n",
        "\n",
        "x_ticks_labels = ['Low', 'Medium', 'High', 'Very High']\n",
        "\n",
        "Graph3.set_xticklabels(x_ticks_labels)"
      ],
      "metadata": {
        "id": "SvlneRqKHGZ8",
        "colab": {
          "base_uri": "https://localhost:8080/",
          "height": 0
        },
        "outputId": "ec1d4919-eaf8-4814-eca5-bdda911bb9c5"
      },
      "execution_count": 112,
      "outputs": [
        {
          "output_type": "execute_result",
          "data": {
            "text/plain": [
              "[Text(0, 0, 'Low'),\n",
              " Text(0, 0, 'Medium'),\n",
              " Text(0, 0, 'High'),\n",
              " Text(0, 0, 'Very High')]"
            ]
          },
          "metadata": {},
          "execution_count": 112
        },
        {
          "output_type": "display_data",
          "data": {
            "text/plain": [
              "<Figure size 1440x720 with 1 Axes>"
            ],
            "image/png": "[encoded data removed]"
          },
          "metadata": {
            "needs_background": "light"
          }
        }
      ]
    },
    {
      "cell_type": "markdown",
      "source": [
        "### **Data Science Question 4**"
      ],
      "metadata": {
        "id": "Xg-crjFGHLMr"
      }
    },
    {
      "cell_type": "code",
      "source": [
        "high_performance_balanced_worklife = updated_attrition_Emp_df.select(col(\"PerformanceRating\"),(\"WorkLifeBalance\"))\n",
        "high_performance_balanced_worklife = updated_attrition_Emp_df.filter((updated_attrition_Emp_df.PerformanceRating == \"4\"))"
      ],
      "metadata": {
        "id": "ROnXk9fxHJOM"
      },
      "execution_count": 113,
      "outputs": []
    },
    {
      "cell_type": "code",
      "source": [
        "high_performance_balanced_worklife = high_performance_balanced_worklife.toPandas()"
      ],
      "metadata": {
        "id": "PSv3HvViHRQV"
      },
      "execution_count": 114,
      "outputs": []
    },
    {
      "cell_type": "code",
      "source": [
        "high_performance_balanced_worklife"
      ],
      "metadata": {
        "id": "nlDSpaIhHTcq",
        "colab": {
          "base_uri": "https://localhost:8080/",
          "height": 0
        },
        "outputId": "3fd2b050-f44a-49f4-c0e6-290e78108e03"
      },
      "execution_count": 115,
      "outputs": [
        {
          "output_type": "execute_result",
          "data": {
            "text/plain": [
              "     Age  Attrition              Department  Education EducationField  \\\n",
              "0     49          0  Research & Development          1  Life Sciences   \n",
              "1     59          0  Research & Development          3        Medical   \n",
              "2     30          0  Research & Development          1  Life Sciences   \n",
              "3     38          0  Research & Development          3  Life Sciences   \n",
              "4     36          1                   Sales          4  Life Sciences   \n",
              "..   ...        ...                     ...        ...            ...   \n",
              "221   56          0  Research & Development          4  Life Sciences   \n",
              "222   41          0  Research & Development          4  Life Sciences   \n",
              "223   34          0                   Sales          3      Marketing   \n",
              "224   36          0                   Sales          4      Marketing   \n",
              "225   27          0  Research & Development          3  Life Sciences   \n",
              "\n",
              "     EmployeeNumber  EnvironmentSatisfaction  Gender  HourlyRate  \\\n",
              "0                 2                        3    Male          61   \n",
              "1                10                        3  Female          81   \n",
              "2                11                        4    Male          67   \n",
              "3                12                        4    Male          44   \n",
              "4                27                        3    Male          82   \n",
              "..              ...                      ...     ...         ...   \n",
              "221            2026                        3    Male          57   \n",
              "222            2034                        1  Female          60   \n",
              "223            2035                        4  Female          95   \n",
              "224            2036                        4    Male          88   \n",
              "225            2064                        2    Male          87   \n",
              "\n",
              "     JobInvolvement                    JobRole  JobSatisfaction  \\\n",
              "0                 2         Research Scientist                2   \n",
              "1                 4      Laboratory Technician                1   \n",
              "2                 3      Laboratory Technician                3   \n",
              "3                 2     Manufacturing Director                3   \n",
              "4                 2       Sales Representative                1   \n",
              "..              ...                        ...              ...   \n",
              "221               3  Healthcare Representative                3   \n",
              "222               2     Manufacturing Director                2   \n",
              "223               2            Sales Executive                3   \n",
              "224               1            Sales Executive                4   \n",
              "225               4     Manufacturing Director                2   \n",
              "\n",
              "     MonthlyIncome  OverTime  PerformanceRating  StockOptionLevel  \\\n",
              "0             5130         0                  4                 1   \n",
              "1             2670         1                  4                 3   \n",
              "2             2693         0                  4                 1   \n",
              "3             9526         0                  4                 0   \n",
              "4             3407         0                  4                 0   \n",
              "..             ...       ...                ...               ...   \n",
              "221           6306         0                  4                 1   \n",
              "222          13570         0                  4                 1   \n",
              "223           6712         0                  4                 2   \n",
              "224           5406         0                  4                 1   \n",
              "225           6142         1                  4                 1   \n",
              "\n",
              "     TotalWorkingYears  WorkLifeBalance  \n",
              "0                   10                3  \n",
              "1                   12                2  \n",
              "2                    1                3  \n",
              "3                   10                3  \n",
              "4                   10                3  \n",
              "..                 ...              ...  \n",
              "221                 13                2  \n",
              "222                 21                3  \n",
              "223                  8                3  \n",
              "224                 15                2  \n",
              "225                  6                3  \n",
              "\n",
              "[226 rows x 18 columns]"
            ],
            "text/html": [
              "\n",
              "  <div id=\"df-c33424ab-da14-4594-b488-45bd00e3aef7\">\n",
              "    <div class=\"colab-df-container\">\n",
              "      <div>\n",
              "<style scoped>\n",
              "    .dataframe tbody tr th:only-of-type {\n",
              "        vertical-align: middle;\n",
              "    }\n",
              "\n",
              "    .dataframe tbody tr th {\n",
              "        vertical-align: top;\n",
              "    }\n",
              "\n",
              "    .dataframe thead th {\n",
              "        text-align: right;\n",
              "    }\n",
              "</style>\n",
              "<table border=\"1\" class=\"dataframe\">\n",
              "  <thead>\n",
              "    <tr style=\"text-align: right;\">\n",
              "      <th></th>\n",
              "      <th>Age</th>\n",
              "      <th>Attrition</th>\n",
              "      <th>Department</th>\n",
              "      <th>Education</th>\n",
              "      <th>EducationField</th>\n",
              "      <th>EmployeeNumber</th>\n",
              "      <th>EnvironmentSatisfaction</th>\n",
              "      <th>Gender</th>\n",
              "      <th>HourlyRate</th>\n",
              "      <th>JobInvolvement</th>\n",
              "      <th>JobRole</th>\n",
              "      <th>JobSatisfaction</th>\n",
              "      <th>MonthlyIncome</th>\n",
              "      <th>OverTime</th>\n",
              "      <th>PerformanceRating</th>\n",
              "      <th>StockOptionLevel</th>\n",
              "      <th>TotalWorkingYears</th>\n",
              "      <th>WorkLifeBalance</th>\n",
              "    </tr>\n",
              "  </thead>\n",
              "  <tbody>\n",
              "    <tr>\n",
              "      <th>0</th>\n",
              "      <td>49</td>\n",
              "      <td>0</td>\n",
              "      <td>Research &amp; Development</td>\n",
              "      <td>1</td>\n",
              "      <td>Life Sciences</td>\n",
              "      <td>2</td>\n",
              "      <td>3</td>\n",
              "      <td>Male</td>\n",
              "      <td>61</td>\n",
              "      <td>2</td>\n",
              "      <td>Research Scientist</td>\n",
              "      <td>2</td>\n",
              "      <td>5130</td>\n",
              "      <td>0</td>\n",
              "      <td>4</td>\n",
              "      <td>1</td>\n",
              "      <td>10</td>\n",
              "      <td>3</td>\n",
              "    </tr>\n",
              "    <tr>\n",
              "      <th>1</th>\n",
              "      <td>59</td>\n",
              "      <td>0</td>\n",
              "      <td>Research &amp; Development</td>\n",
              "      <td>3</td>\n",
              "      <td>Medical</td>\n",
              "      <td>10</td>\n",
              "      <td>3</td>\n",
              "      <td>Female</td>\n",
              "      <td>81</td>\n",
              "      <td>4</td>\n",
              "      <td>Laboratory Technician</td>\n",
              "      <td>1</td>\n",
              "      <td>2670</td>\n",
              "      <td>1</td>\n",
              "      <td>4</td>\n",
              "      <td>3</td>\n",
              "      <td>12</td>\n",
              "      <td>2</td>\n",
              "    </tr>\n",
              "    <tr>\n",
              "      <th>2</th>\n",
              "      <td>30</td>\n",
              "      <td>0</td>\n",
              "      <td>Research &amp; Development</td>\n",
              "      <td>1</td>\n",
              "      <td>Life Sciences</td>\n",
              "      <td>11</td>\n",
              "      <td>4</td>\n",
              "      <td>Male</td>\n",
              "      <td>67</td>\n",
              "      <td>3</td>\n",
              "      <td>Laboratory Technician</td>\n",
              "      <td>3</td>\n",
              "      <td>2693</td>\n",
              "      <td>0</td>\n",
              "      <td>4</td>\n",
              "      <td>1</td>\n",
              "      <td>1</td>\n",
              "      <td>3</td>\n",
              "    </tr>\n",
              "    <tr>\n",
              "      <th>3</th>\n",
              "      <td>38</td>\n",
              "      <td>0</td>\n",
              "      <td>Research &amp; Development</td>\n",
              "      <td>3</td>\n",
              "      <td>Life Sciences</td>\n",
              "      <td>12</td>\n",
              "      <td>4</td>\n",
              "      <td>Male</td>\n",
              "      <td>44</td>\n",
              "      <td>2</td>\n",
              "      <td>Manufacturing Director</td>\n",
              "      <td>3</td>\n",
              "      <td>9526</td>\n",
              "      <td>0</td>\n",
              "      <td>4</td>\n",
              "      <td>0</td>\n",
              "      <td>10</td>\n",
              "      <td>3</td>\n",
              "    </tr>\n",
              "    <tr>\n",
              "      <th>4</th>\n",
              "      <td>36</td>\n",
              "      <td>1</td>\n",
              "      <td>Sales</td>\n",
              "      <td>4</td>\n",
              "      <td>Life Sciences</td>\n",
              "      <td>27</td>\n",
              "      <td>3</td>\n",
              "      <td>Male</td>\n",
              "      <td>82</td>\n",
              "      <td>2</td>\n",
              "      <td>Sales Representative</td>\n",
              "      <td>1</td>\n",
              "      <td>3407</td>\n",
              "      <td>0</td>\n",
              "      <td>4</td>\n",
              "      <td>0</td>\n",
              "      <td>10</td>\n",
              "      <td>3</td>\n",
              "    </tr>\n",
              "    <tr>\n",
              "      <th>...</th>\n",
              "      <td>...</td>\n",
              "      <td>...</td>\n",
              "      <td>...</td>\n",
              "      <td>...</td>\n",
              "      <td>...</td>\n",
              "      <td>...</td>\n",
              "      <td>...</td>\n",
              "      <td>...</td>\n",
              "      <td>...</td>\n",
              "      <td>...</td>\n",
              "      <td>...</td>\n",
              "      <td>...</td>\n",
              "      <td>...</td>\n",
              "      <td>...</td>\n",
              "      <td>...</td>\n",
              "      <td>...</td>\n",
              "      <td>...</td>\n",
              "      <td>...</td>\n",
              "    </tr>\n",
              "    <tr>\n",
              "      <th>221</th>\n",
              "      <td>56</td>\n",
              "      <td>0</td>\n",
              "      <td>Research &amp; Development</td>\n",
              "      <td>4</td>\n",
              "      <td>Life Sciences</td>\n",
              "      <td>2026</td>\n",
              "      <td>3</td>\n",
              "      <td>Male</td>\n",
              "      <td>57</td>\n",
              "      <td>3</td>\n",
              "      <td>Healthcare Representative</td>\n",
              "      <td>3</td>\n",
              "      <td>6306</td>\n",
              "      <td>0</td>\n",
              "      <td>4</td>\n",
              "      <td>1</td>\n",
              "      <td>13</td>\n",
              "      <td>2</td>\n",
              "    </tr>\n",
              "    <tr>\n",
              "      <th>222</th>\n",
              "      <td>41</td>\n",
              "      <td>0</td>\n",
              "      <td>Research &amp; Development</td>\n",
              "      <td>4</td>\n",
              "      <td>Life Sciences</td>\n",
              "      <td>2034</td>\n",
              "      <td>1</td>\n",
              "      <td>Female</td>\n",
              "      <td>60</td>\n",
              "      <td>2</td>\n",
              "      <td>Manufacturing Director</td>\n",
              "      <td>2</td>\n",
              "      <td>13570</td>\n",
              "      <td>0</td>\n",
              "      <td>4</td>\n",
              "      <td>1</td>\n",
              "      <td>21</td>\n",
              "      <td>3</td>\n",
              "    </tr>\n",
              "    <tr>\n",
              "      <th>223</th>\n",
              "      <td>34</td>\n",
              "      <td>0</td>\n",
              "      <td>Sales</td>\n",
              "      <td>3</td>\n",
              "      <td>Marketing</td>\n",
              "      <td>2035</td>\n",
              "      <td>4</td>\n",
              "      <td>Female</td>\n",
              "      <td>95</td>\n",
              "      <td>2</td>\n",
              "      <td>Sales Executive</td>\n",
              "      <td>3</td>\n",
              "      <td>6712</td>\n",
              "      <td>0</td>\n",
              "      <td>4</td>\n",
              "      <td>2</td>\n",
              "      <td>8</td>\n",
              "      <td>3</td>\n",
              "    </tr>\n",
              "    <tr>\n",
              "      <th>224</th>\n",
              "      <td>36</td>\n",
              "      <td>0</td>\n",
              "      <td>Sales</td>\n",
              "      <td>4</td>\n",
              "      <td>Marketing</td>\n",
              "      <td>2036</td>\n",
              "      <td>4</td>\n",
              "      <td>Male</td>\n",
              "      <td>88</td>\n",
              "      <td>1</td>\n",
              "      <td>Sales Executive</td>\n",
              "      <td>4</td>\n",
              "      <td>5406</td>\n",
              "      <td>0</td>\n",
              "      <td>4</td>\n",
              "      <td>1</td>\n",
              "      <td>15</td>\n",
              "      <td>2</td>\n",
              "    </tr>\n",
              "    <tr>\n",
              "      <th>225</th>\n",
              "      <td>27</td>\n",
              "      <td>0</td>\n",
              "      <td>Research &amp; Development</td>\n",
              "      <td>3</td>\n",
              "      <td>Life Sciences</td>\n",
              "      <td>2064</td>\n",
              "      <td>2</td>\n",
              "      <td>Male</td>\n",
              "      <td>87</td>\n",
              "      <td>4</td>\n",
              "      <td>Manufacturing Director</td>\n",
              "      <td>2</td>\n",
              "      <td>6142</td>\n",
              "      <td>1</td>\n",
              "      <td>4</td>\n",
              "      <td>1</td>\n",
              "      <td>6</td>\n",
              "      <td>3</td>\n",
              "    </tr>\n",
              "  </tbody>\n",
              "</table>\n",
              "<p>226 rows × 18 columns</p>\n",
              "</div>\n",
              "      <button class=\"colab-df-convert\" onclick=\"convertToInteractive('df-c33424ab-da14-4594-b488-45bd00e3aef7')\"\n",
              "              title=\"Convert this dataframe to an interactive table.\"\n",
              "              style=\"display:none;\">\n",
              "        \n",
              "  <svg xmlns=\"http://www.w3.org/2000/svg\" height=\"24px\"viewBox=\"0 0 24 24\"\n",
              "       width=\"24px\">\n",
              "    <path d=\"M0 0h24v24H0V0z\" fill=\"none\"/>\n",
              "    <path d=\"M18.56 5.44l.94 2.06.94-2.06 2.06-.94-2.06-.94-.94-2.06-.94 2.06-2.06.94zm-11 1L8.5 8.5l.94-2.06 2.06-.94-2.06-.94L8.5 2.5l-.94 2.06-2.06.94zm10 10l.94 2.06.94-2.06 2.06-.94-2.06-.94-.94-2.06-.94 2.06-2.06.94z\"/><path d=\"M17.41 7.96l-1.37-1.37c-.4-.4-.92-.59-1.43-.59-.52 0-1.04.2-1.43.59L10.3 9.45l-7.72 7.72c-.78.78-.78 2.05 0 2.83L4 21.41c.39.39.9.59 1.41.59.51 0 1.02-.2 1.41-.59l7.78-7.78 2.81-2.81c.8-.78.8-2.07 0-2.86zM5.41 20L4 18.59l7.72-7.72 1.47 1.35L5.41 20z\"/>\n",
              "  </svg>\n",
              "      </button>\n",
              "      \n",
              "  <style>\n",
              "    .colab-df-container {\n",
              "      display:flex;\n",
              "      flex-wrap:wrap;\n",
              "      gap: 12px;\n",
              "    }\n",
              "\n",
              "    .colab-df-convert {\n",
              "      background-color: #E8F0FE;\n",
              "      border: none;\n",
              "      border-radius: 50%;\n",
              "      cursor: pointer;\n",
              "      display: none;\n",
              "      fill: #1967D2;\n",
              "      height: 32px;\n",
              "      padding: 0 0 0 0;\n",
              "      width: 32px;\n",
              "    }\n",
              "\n",
              "    .colab-df-convert:hover {\n",
              "      background-color: #E2EBFA;\n",
              "      box-shadow: 0px 1px 2px rgba(60, 64, 67, 0.3), 0px 1px 3px 1px rgba(60, 64, 67, 0.15);\n",
              "      fill: #174EA6;\n",
              "    }\n",
              "\n",
              "    [theme=dark] .colab-df-convert {\n",
              "      background-color: #3B4455;\n",
              "      fill: #D2E3FC;\n",
              "    }\n",
              "\n",
              "    [theme=dark] .colab-df-convert:hover {\n",
              "      background-color: #434B5C;\n",
              "      box-shadow: 0px 1px 3px 1px rgba(0, 0, 0, 0.15);\n",
              "      filter: drop-shadow(0px 1px 2px rgba(0, 0, 0, 0.3));\n",
              "      fill: #FFFFFF;\n",
              "    }\n",
              "  </style>\n",
              "\n",
              "      <script>\n",
              "        const buttonEl =\n",
              "          document.querySelector('#df-c33424ab-da14-4594-b488-45bd00e3aef7 button.colab-df-convert');\n",
              "        buttonEl.style.display =\n",
              "          google.colab.kernel.accessAllowed ? 'block' : 'none';\n",
              "\n",
              "        async function convertToInteractive(key) {\n",
              "          const element = document.querySelector('#df-c33424ab-da14-4594-b488-45bd00e3aef7');\n",
              "          const dataTable =\n",
              "            await google.colab.kernel.invokeFunction('convertToInteractive',\n",
              "                                                     [key], {});\n",
              "          if (!dataTable) return;\n",
              "\n",
              "          const docLinkHtml = 'Like what you see? Visit the ' +\n",
              "            '<a target=\"_blank\" href=https://colab.research.google.com/notebooks/data_table.ipynb>data table notebook</a>'\n",
              "            + ' to learn more about interactive tables.';\n",
              "          element.innerHTML = '';\n",
              "          dataTable['output_type'] = 'display_data';\n",
              "          await google.colab.output.renderOutput(dataTable, element);\n",
              "          const docLink = document.createElement('div');\n",
              "          docLink.innerHTML = docLinkHtml;\n",
              "          element.appendChild(docLink);\n",
              "        }\n",
              "      </script>\n",
              "    </div>\n",
              "  </div>\n",
              "  "
            ]
          },
          "metadata": {},
          "execution_count": 115
        }
      ]
    },
    {
      "cell_type": "code",
      "source": [
        "plt.figure(figsize = (20,10))\n",
        "\n",
        "Graph4 = sns.countplot(x=\"WorkLifeBalance\", hue = \"PerformanceRating\", data=high_performance_balanced_worklife)\n",
        "\n",
        "for p in Graph4.patches:\n",
        "   Graph4.annotate('{:.1f}'.format(p.get_height()), (p.get_x()+0.40, p.get_height()+0.30))\n",
        "\n",
        "plt.legend(title='PerformanceRating', loc='upper right', labels=['Outstanding'])\n",
        "\n",
        "Graph4.set(title='\\nRelationship between Employee Work Life Balance and Performance Rating with Outstanding Level ')\n",
        "\n",
        "Graph4.set_xticklabels(x_ticks_labels)"
      ],
      "metadata": {
        "id": "HCm7SiNsHV-y",
        "colab": {
          "base_uri": "https://localhost:8080/",
          "height": 0
        },
        "outputId": "7efecfbc-c047-4e9e-b654-4c46bf1ea2a3"
      },
      "execution_count": 116,
      "outputs": [
        {
          "output_type": "execute_result",
          "data": {
            "text/plain": [
              "[Text(0, 0, 'Low'),\n",
              " Text(0, 0, 'Medium'),\n",
              " Text(0, 0, 'High'),\n",
              " Text(0, 0, 'Very High')]"
            ]
          },
          "metadata": {},
          "execution_count": 116
        },
        {
          "output_type": "display_data",
          "data": {
            "text/plain": [
              "<Figure size 1440x720 with 1 Axes>"
            ],
            "image/png": "[encoded data removed]"
          },
          "metadata": {
            "needs_background": "light"
          }
        }
      ]
    },
    {
      "cell_type": "markdown",
      "source": [
        "##**Inferential Analysis Questions**"
      ],
      "metadata": {
        "id": "P5sd-M0g3dZ4"
      }
    },
    {
      "cell_type": "markdown",
      "source": [
        "### **Data Science Question 5**\n",
        "\n",
        "\n"
      ],
      "metadata": {
        "id": "Mf88A-QP33z-"
      }
    },
    {
      "cell_type": "code",
      "source": [
        "jobSatisfaction_performanceRate_attrition = updated_attrition_Emp_df.select(col(\"JobSatisfaction\"),(\"PerformanceRating\"),(\"Attrition\"))\n",
        "jobSatisfaction_performanceRate_attrition = updated_attrition_Emp_df.filter(updated_attrition_Emp_df.Attrition == \"1\")"
      ],
      "metadata": {
        "id": "FCLH-mTuA7zw"
      },
      "execution_count": 117,
      "outputs": []
    },
    {
      "cell_type": "code",
      "source": [
        "jobSatisfaction_performanceRate_attrition = jobSatisfaction_performanceRate_attrition.toPandas()"
      ],
      "metadata": {
        "id": "M-jh8i-DxbGy"
      },
      "execution_count": 118,
      "outputs": []
    },
    {
      "cell_type": "code",
      "source": [
        "jobSatisfaction_performanceRate_attrition"
      ],
      "metadata": {
        "id": "jwhHv6HuzHEz",
        "colab": {
          "base_uri": "https://localhost:8080/",
          "height": 0
        },
        "outputId": "b4e8551d-55e2-4fed-e11f-be97c8e69f2d"
      },
      "execution_count": 119,
      "outputs": [
        {
          "output_type": "execute_result",
          "data": {
            "text/plain": [
              "     Age  Attrition              Department  Education    EducationField  \\\n",
              "0     41          1                   Sales          2     Life Sciences   \n",
              "1     37          1  Research & Development          2             Other   \n",
              "2     28          1  Research & Development          3     Life Sciences   \n",
              "3     36          1                   Sales          4     Life Sciences   \n",
              "4     34          1  Research & Development          1           Medical   \n",
              "..   ...        ...                     ...        ...               ...   \n",
              "232   23          1                   Sales          3         Marketing   \n",
              "233   29          1  Research & Development          4           Medical   \n",
              "234   56          1  Research & Development          2  Technical Degree   \n",
              "235   50          1                   Sales          4     Life Sciences   \n",
              "236   50          1                   Sales          3         Marketing   \n",
              "\n",
              "     EmployeeNumber  EnvironmentSatisfaction  Gender  HourlyRate  \\\n",
              "0                 1                        2  Female          94   \n",
              "1                 4                        4    Male          92   \n",
              "2                19                        3    Male          50   \n",
              "3                27                        3    Male          82   \n",
              "4                31                        2    Male          83   \n",
              "..              ...                      ...     ...         ...   \n",
              "232            2023                        4    Male          33   \n",
              "233            2027                        1    Male          36   \n",
              "234            2032                        4    Male          72   \n",
              "235            2044                        2    Male          94   \n",
              "236            2055                        4    Male          39   \n",
              "\n",
              "     JobInvolvement                JobRole  JobSatisfaction  MonthlyIncome  \\\n",
              "0                 3        Sales Executive                4           5993   \n",
              "1                 2  Laboratory Technician                3           2090   \n",
              "2                 2  Laboratory Technician                3           2028   \n",
              "3                 2   Sales Representative                1           3407   \n",
              "4                 3     Research Scientist                1           2960   \n",
              "..              ...                    ...              ...            ...   \n",
              "232               3   Sales Representative                1           1790   \n",
              "233               3     Research Scientist                4           4787   \n",
              "234               3  Laboratory Technician                3           2339   \n",
              "235               3        Sales Executive                3           6728   \n",
              "236               2        Sales Executive                1          10854   \n",
              "\n",
              "     OverTime  PerformanceRating  StockOptionLevel  TotalWorkingYears  \\\n",
              "0           1                  3                 0                  8   \n",
              "1           1                  3                 0                  7   \n",
              "2           1                  3                 0                  6   \n",
              "3           0                  4                 0                 10   \n",
              "4           0                  3                 0                  8   \n",
              "..        ...                ...               ...                ...   \n",
              "232         0                  3                 1                  1   \n",
              "233         1                  3                 3                  4   \n",
              "234         0                  3                 1                 14   \n",
              "235         0                  3                 2                 12   \n",
              "236         1                  3                 1                 20   \n",
              "\n",
              "     WorkLifeBalance  \n",
              "0                  1  \n",
              "1                  3  \n",
              "2                  3  \n",
              "3                  3  \n",
              "4                  3  \n",
              "..               ...  \n",
              "232                2  \n",
              "233                4  \n",
              "234                1  \n",
              "235                3  \n",
              "236                3  \n",
              "\n",
              "[237 rows x 18 columns]"
            ],
            "text/html": [
              "\n",
              "  <div id=\"df-388956fc-e4d2-4295-89d2-c75ec4a8fb04\">\n",
              "    <div class=\"colab-df-container\">\n",
              "      <div>\n",
              "<style scoped>\n",
              "    .dataframe tbody tr th:only-of-type {\n",
              "        vertical-align: middle;\n",
              "    }\n",
              "\n",
              "    .dataframe tbody tr th {\n",
              "        vertical-align: top;\n",
              "    }\n",
              "\n",
              "    .dataframe thead th {\n",
              "        text-align: right;\n",
              "    }\n",
              "</style>\n",
              "<table border=\"1\" class=\"dataframe\">\n",
              "  <thead>\n",
              "    <tr style=\"text-align: right;\">\n",
              "      <th></th>\n",
              "      <th>Age</th>\n",
              "      <th>Attrition</th>\n",
              "      <th>Department</th>\n",
              "      <th>Education</th>\n",
              "      <th>EducationField</th>\n",
              "      <th>EmployeeNumber</th>\n",
              "      <th>EnvironmentSatisfaction</th>\n",
              "      <th>Gender</th>\n",
              "      <th>HourlyRate</th>\n",
              "      <th>JobInvolvement</th>\n",
              "      <th>JobRole</th>\n",
              "      <th>JobSatisfaction</th>\n",
              "      <th>MonthlyIncome</th>\n",
              "      <th>OverTime</th>\n",
              "      <th>PerformanceRating</th>\n",
              "      <th>StockOptionLevel</th>\n",
              "      <th>TotalWorkingYears</th>\n",
              "      <th>WorkLifeBalance</th>\n",
              "    </tr>\n",
              "  </thead>\n",
              "  <tbody>\n",
              "    <tr>\n",
              "      <th>0</th>\n",
              "      <td>41</td>\n",
              "      <td>1</td>\n",
              "      <td>Sales</td>\n",
              "      <td>2</td>\n",
              "      <td>Life Sciences</td>\n",
              "      <td>1</td>\n",
              "      <td>2</td>\n",
              "      <td>Female</td>\n",
              "      <td>94</td>\n",
              "      <td>3</td>\n",
              "      <td>Sales Executive</td>\n",
              "      <td>4</td>\n",
              "      <td>5993</td>\n",
              "      <td>1</td>\n",
              "      <td>3</td>\n",
              "      <td>0</td>\n",
              "      <td>8</td>\n",
              "      <td>1</td>\n",
              "    </tr>\n",
              "    <tr>\n",
              "      <th>1</th>\n",
              "      <td>37</td>\n",
              "      <td>1</td>\n",
              "      <td>Research &amp; Development</td>\n",
              "      <td>2</td>\n",
              "      <td>Other</td>\n",
              "      <td>4</td>\n",
              "      <td>4</td>\n",
              "      <td>Male</td>\n",
              "      <td>92</td>\n",
              "      <td>2</td>\n",
              "      <td>Laboratory Technician</td>\n",
              "      <td>3</td>\n",
              "      <td>2090</td>\n",
              "      <td>1</td>\n",
              "      <td>3</td>\n",
              "      <td>0</td>\n",
              "      <td>7</td>\n",
              "      <td>3</td>\n",
              "    </tr>\n",
              "    <tr>\n",
              "      <th>2</th>\n",
              "      <td>28</td>\n",
              "      <td>1</td>\n",
              "      <td>Research &amp; Development</td>\n",
              "      <td>3</td>\n",
              "      <td>Life Sciences</td>\n",
              "      <td>19</td>\n",
              "      <td>3</td>\n",
              "      <td>Male</td>\n",
              "      <td>50</td>\n",
              "      <td>2</td>\n",
              "      <td>Laboratory Technician</td>\n",
              "      <td>3</td>\n",
              "      <td>2028</td>\n",
              "      <td>1</td>\n",
              "      <td>3</td>\n",
              "      <td>0</td>\n",
              "      <td>6</td>\n",
              "      <td>3</td>\n",
              "    </tr>\n",
              "    <tr>\n",
              "      <th>3</th>\n",
              "      <td>36</td>\n",
              "      <td>1</td>\n",
              "      <td>Sales</td>\n",
              "      <td>4</td>\n",
              "      <td>Life Sciences</td>\n",
              "      <td>27</td>\n",
              "      <td>3</td>\n",
              "      <td>Male</td>\n",
              "      <td>82</td>\n",
              "      <td>2</td>\n",
              "      <td>Sales Representative</td>\n",
              "      <td>1</td>\n",
              "      <td>3407</td>\n",
              "      <td>0</td>\n",
              "      <td>4</td>\n",
              "      <td>0</td>\n",
              "      <td>10</td>\n",
              "      <td>3</td>\n",
              "    </tr>\n",
              "    <tr>\n",
              "      <th>4</th>\n",
              "      <td>34</td>\n",
              "      <td>1</td>\n",
              "      <td>Research &amp; Development</td>\n",
              "      <td>1</td>\n",
              "      <td>Medical</td>\n",
              "      <td>31</td>\n",
              "      <td>2</td>\n",
              "      <td>Male</td>\n",
              "      <td>83</td>\n",
              "      <td>3</td>\n",
              "      <td>Research Scientist</td>\n",
              "      <td>1</td>\n",
              "      <td>2960</td>\n",
              "      <td>0</td>\n",
              "      <td>3</td>\n",
              "      <td>0</td>\n",
              "      <td>8</td>\n",
              "      <td>3</td>\n",
              "    </tr>\n",
              "    <tr>\n",
              "      <th>...</th>\n",
              "      <td>...</td>\n",
              "      <td>...</td>\n",
              "      <td>...</td>\n",
              "      <td>...</td>\n",
              "      <td>...</td>\n",
              "      <td>...</td>\n",
              "      <td>...</td>\n",
              "      <td>...</td>\n",
              "      <td>...</td>\n",
              "      <td>...</td>\n",
              "      <td>...</td>\n",
              "      <td>...</td>\n",
              "      <td>...</td>\n",
              "      <td>...</td>\n",
              "      <td>...</td>\n",
              "      <td>...</td>\n",
              "      <td>...</td>\n",
              "      <td>...</td>\n",
              "    </tr>\n",
              "    <tr>\n",
              "      <th>232</th>\n",
              "      <td>23</td>\n",
              "      <td>1</td>\n",
              "      <td>Sales</td>\n",
              "      <td>3</td>\n",
              "      <td>Marketing</td>\n",
              "      <td>2023</td>\n",
              "      <td>4</td>\n",
              "      <td>Male</td>\n",
              "      <td>33</td>\n",
              "      <td>3</td>\n",
              "      <td>Sales Representative</td>\n",
              "      <td>1</td>\n",
              "      <td>1790</td>\n",
              "      <td>0</td>\n",
              "      <td>3</td>\n",
              "      <td>1</td>\n",
              "      <td>1</td>\n",
              "      <td>2</td>\n",
              "    </tr>\n",
              "    <tr>\n",
              "      <th>233</th>\n",
              "      <td>29</td>\n",
              "      <td>1</td>\n",
              "      <td>Research &amp; Development</td>\n",
              "      <td>4</td>\n",
              "      <td>Medical</td>\n",
              "      <td>2027</td>\n",
              "      <td>1</td>\n",
              "      <td>Male</td>\n",
              "      <td>36</td>\n",
              "      <td>3</td>\n",
              "      <td>Research Scientist</td>\n",
              "      <td>4</td>\n",
              "      <td>4787</td>\n",
              "      <td>1</td>\n",
              "      <td>3</td>\n",
              "      <td>3</td>\n",
              "      <td>4</td>\n",
              "      <td>4</td>\n",
              "    </tr>\n",
              "    <tr>\n",
              "      <th>234</th>\n",
              "      <td>56</td>\n",
              "      <td>1</td>\n",
              "      <td>Research &amp; Development</td>\n",
              "      <td>2</td>\n",
              "      <td>Technical Degree</td>\n",
              "      <td>2032</td>\n",
              "      <td>4</td>\n",
              "      <td>Male</td>\n",
              "      <td>72</td>\n",
              "      <td>3</td>\n",
              "      <td>Laboratory Technician</td>\n",
              "      <td>3</td>\n",
              "      <td>2339</td>\n",
              "      <td>0</td>\n",
              "      <td>3</td>\n",
              "      <td>1</td>\n",
              "      <td>14</td>\n",
              "      <td>1</td>\n",
              "    </tr>\n",
              "    <tr>\n",
              "      <th>235</th>\n",
              "      <td>50</td>\n",
              "      <td>1</td>\n",
              "      <td>Sales</td>\n",
              "      <td>4</td>\n",
              "      <td>Life Sciences</td>\n",
              "      <td>2044</td>\n",
              "      <td>2</td>\n",
              "      <td>Male</td>\n",
              "      <td>94</td>\n",
              "      <td>3</td>\n",
              "      <td>Sales Executive</td>\n",
              "      <td>3</td>\n",
              "      <td>6728</td>\n",
              "      <td>0</td>\n",
              "      <td>3</td>\n",
              "      <td>2</td>\n",
              "      <td>12</td>\n",
              "      <td>3</td>\n",
              "    </tr>\n",
              "    <tr>\n",
              "      <th>236</th>\n",
              "      <td>50</td>\n",
              "      <td>1</td>\n",
              "      <td>Sales</td>\n",
              "      <td>3</td>\n",
              "      <td>Marketing</td>\n",
              "      <td>2055</td>\n",
              "      <td>4</td>\n",
              "      <td>Male</td>\n",
              "      <td>39</td>\n",
              "      <td>2</td>\n",
              "      <td>Sales Executive</td>\n",
              "      <td>1</td>\n",
              "      <td>10854</td>\n",
              "      <td>1</td>\n",
              "      <td>3</td>\n",
              "      <td>1</td>\n",
              "      <td>20</td>\n",
              "      <td>3</td>\n",
              "    </tr>\n",
              "  </tbody>\n",
              "</table>\n",
              "<p>237 rows × 18 columns</p>\n",
              "</div>\n",
              "      <button class=\"colab-df-convert\" onclick=\"convertToInteractive('df-388956fc-e4d2-4295-89d2-c75ec4a8fb04')\"\n",
              "              title=\"Convert this dataframe to an interactive table.\"\n",
              "              style=\"display:none;\">\n",
              "        \n",
              "  <svg xmlns=\"http://www.w3.org/2000/svg\" height=\"24px\"viewBox=\"0 0 24 24\"\n",
              "       width=\"24px\">\n",
              "    <path d=\"M0 0h24v24H0V0z\" fill=\"none\"/>\n",
              "    <path d=\"M18.56 5.44l.94 2.06.94-2.06 2.06-.94-2.06-.94-.94-2.06-.94 2.06-2.06.94zm-11 1L8.5 8.5l.94-2.06 2.06-.94-2.06-.94L8.5 2.5l-.94 2.06-2.06.94zm10 10l.94 2.06.94-2.06 2.06-.94-2.06-.94-.94-2.06-.94 2.06-2.06.94z\"/><path d=\"M17.41 7.96l-1.37-1.37c-.4-.4-.92-.59-1.43-.59-.52 0-1.04.2-1.43.59L10.3 9.45l-7.72 7.72c-.78.78-.78 2.05 0 2.83L4 21.41c.39.39.9.59 1.41.59.51 0 1.02-.2 1.41-.59l7.78-7.78 2.81-2.81c.8-.78.8-2.07 0-2.86zM5.41 20L4 18.59l7.72-7.72 1.47 1.35L5.41 20z\"/>\n",
              "  </svg>\n",
              "      </button>\n",
              "      \n",
              "  <style>\n",
              "    .colab-df-container {\n",
              "      display:flex;\n",
              "      flex-wrap:wrap;\n",
              "      gap: 12px;\n",
              "    }\n",
              "\n",
              "    .colab-df-convert {\n",
              "      background-color: #E8F0FE;\n",
              "      border: none;\n",
              "      border-radius: 50%;\n",
              "      cursor: pointer;\n",
              "      display: none;\n",
              "      fill: #1967D2;\n",
              "      height: 32px;\n",
              "      padding: 0 0 0 0;\n",
              "      width: 32px;\n",
              "    }\n",
              "\n",
              "    .colab-df-convert:hover {\n",
              "      background-color: #E2EBFA;\n",
              "      box-shadow: 0px 1px 2px rgba(60, 64, 67, 0.3), 0px 1px 3px 1px rgba(60, 64, 67, 0.15);\n",
              "      fill: #174EA6;\n",
              "    }\n",
              "\n",
              "    [theme=dark] .colab-df-convert {\n",
              "      background-color: #3B4455;\n",
              "      fill: #D2E3FC;\n",
              "    }\n",
              "\n",
              "    [theme=dark] .colab-df-convert:hover {\n",
              "      background-color: #434B5C;\n",
              "      box-shadow: 0px 1px 3px 1px rgba(0, 0, 0, 0.15);\n",
              "      filter: drop-shadow(0px 1px 2px rgba(0, 0, 0, 0.3));\n",
              "      fill: #FFFFFF;\n",
              "    }\n",
              "  </style>\n",
              "\n",
              "      <script>\n",
              "        const buttonEl =\n",
              "          document.querySelector('#df-388956fc-e4d2-4295-89d2-c75ec4a8fb04 button.colab-df-convert');\n",
              "        buttonEl.style.display =\n",
              "          google.colab.kernel.accessAllowed ? 'block' : 'none';\n",
              "\n",
              "        async function convertToInteractive(key) {\n",
              "          const element = document.querySelector('#df-388956fc-e4d2-4295-89d2-c75ec4a8fb04');\n",
              "          const dataTable =\n",
              "            await google.colab.kernel.invokeFunction('convertToInteractive',\n",
              "                                                     [key], {});\n",
              "          if (!dataTable) return;\n",
              "\n",
              "          const docLinkHtml = 'Like what you see? Visit the ' +\n",
              "            '<a target=\"_blank\" href=https://colab.research.google.com/notebooks/data_table.ipynb>data table notebook</a>'\n",
              "            + ' to learn more about interactive tables.';\n",
              "          element.innerHTML = '';\n",
              "          dataTable['output_type'] = 'display_data';\n",
              "          await google.colab.output.renderOutput(dataTable, element);\n",
              "          const docLink = document.createElement('div');\n",
              "          docLink.innerHTML = docLinkHtml;\n",
              "          element.appendChild(docLink);\n",
              "        }\n",
              "      </script>\n",
              "    </div>\n",
              "  </div>\n",
              "  "
            ]
          },
          "metadata": {},
          "execution_count": 119
        }
      ]
    },
    {
      "cell_type": "code",
      "source": [
        "plt.figure(figsize = (20,10))\n",
        "Graph5 = sns.countplot(x=\"JobSatisfaction\", hue = \"PerformanceRating\", data=jobSatisfaction_performanceRate_attrition)\n",
        "\n",
        "for p in Graph5.patches:\n",
        "   Graph5.annotate('{:.1f}'.format(p.get_height()), (p.get_x()+0.16, p.get_height()+0.30))\n",
        "\n",
        "x_ticks_labels = ['Low', 'Medium', 'High', 'Very High']\n",
        "Graph5.set_xticklabels(x_ticks_labels)\n",
        "\n",
        "plt.legend(title='PerformanceRating', loc='upper right', labels=['Excellent','Outstanding'])\n",
        "\n",
        "Graph5.set(title='\\nCorrelation between Attrition to Job Satisfaction and Performance Rating')\n",
        "plt.xlabel('JobSatisfaction')\n",
        "plt.ylabel('Attrition')   \n",
        "plt.show()"
      ],
      "metadata": {
        "id": "Hw1Rr3318p7-",
        "colab": {
          "base_uri": "https://localhost:8080/",
          "height": 0
        },
        "outputId": "a7ad8069-6c79-42c0-ffff-4b29f628cee7"
      },
      "execution_count": 120,
      "outputs": [
        {
          "output_type": "display_data",
          "data": {
            "text/plain": [
              "<Figure size 1440x720 with 1 Axes>"
            ],
            "image/png": "[encoded data removed]"
          },
          "metadata": {
            "needs_background": "light"
          }
        }
      ]
    },
    {
      "cell_type": "markdown",
      "source": [
        "### **Data Science Question 6**"
      ],
      "metadata": {
        "id": "0XEsTVF_ngiO"
      }
    },
    {
      "cell_type": "code",
      "source": [
        "environmentSatisfaction_workLifeBalance = updated_attrition_Emp_df.select(col(\"EnvironmentSatisfaction\"),(\"WorkLifeBalance\"))"
      ],
      "metadata": {
        "id": "Fm5NkVr1ON52"
      },
      "execution_count": 121,
      "outputs": []
    },
    {
      "cell_type": "code",
      "source": [
        "environmentSatisfaction_workLifeBalance = environmentSatisfaction_workLifeBalance.toPandas()"
      ],
      "metadata": {
        "id": "IhLxe31EG81F"
      },
      "execution_count": 122,
      "outputs": []
    },
    {
      "cell_type": "code",
      "source": [
        "environmentSatisfaction_workLifeBalance"
      ],
      "metadata": {
        "id": "iCe3P3lmHFhI",
        "colab": {
          "base_uri": "https://localhost:8080/",
          "height": 0
        },
        "outputId": "13be02a8-e4e3-4989-8bdd-7e567670810c"
      },
      "execution_count": 123,
      "outputs": [
        {
          "output_type": "execute_result",
          "data": {
            "text/plain": [
              "      EnvironmentSatisfaction  WorkLifeBalance\n",
              "0                           2                1\n",
              "1                           3                3\n",
              "2                           4                3\n",
              "3                           4                3\n",
              "4                           1                3\n",
              "...                       ...              ...\n",
              "1465                        3                3\n",
              "1466                        4                3\n",
              "1467                        2                3\n",
              "1468                        4                2\n",
              "1469                        2                4\n",
              "\n",
              "[1470 rows x 2 columns]"
            ],
            "text/html": [
              "\n",
              "  <div id=\"df-7f59561d-4070-413b-b813-5098099c6235\">\n",
              "    <div class=\"colab-df-container\">\n",
              "      <div>\n",
              "<style scoped>\n",
              "    .dataframe tbody tr th:only-of-type {\n",
              "        vertical-align: middle;\n",
              "    }\n",
              "\n",
              "    .dataframe tbody tr th {\n",
              "        vertical-align: top;\n",
              "    }\n",
              "\n",
              "    .dataframe thead th {\n",
              "        text-align: right;\n",
              "    }\n",
              "</style>\n",
              "<table border=\"1\" class=\"dataframe\">\n",
              "  <thead>\n",
              "    <tr style=\"text-align: right;\">\n",
              "      <th></th>\n",
              "      <th>EnvironmentSatisfaction</th>\n",
              "      <th>WorkLifeBalance</th>\n",
              "    </tr>\n",
              "  </thead>\n",
              "  <tbody>\n",
              "    <tr>\n",
              "      <th>0</th>\n",
              "      <td>2</td>\n",
              "      <td>1</td>\n",
              "    </tr>\n",
              "    <tr>\n",
              "      <th>1</th>\n",
              "      <td>3</td>\n",
              "      <td>3</td>\n",
              "    </tr>\n",
              "    <tr>\n",
              "      <th>2</th>\n",
              "      <td>4</td>\n",
              "      <td>3</td>\n",
              "    </tr>\n",
              "    <tr>\n",
              "      <th>3</th>\n",
              "      <td>4</td>\n",
              "      <td>3</td>\n",
              "    </tr>\n",
              "    <tr>\n",
              "      <th>4</th>\n",
              "      <td>1</td>\n",
              "      <td>3</td>\n",
              "    </tr>\n",
              "    <tr>\n",
              "      <th>...</th>\n",
              "      <td>...</td>\n",
              "      <td>...</td>\n",
              "    </tr>\n",
              "    <tr>\n",
              "      <th>1465</th>\n",
              "      <td>3</td>\n",
              "      <td>3</td>\n",
              "    </tr>\n",
              "    <tr>\n",
              "      <th>1466</th>\n",
              "      <td>4</td>\n",
              "      <td>3</td>\n",
              "    </tr>\n",
              "    <tr>\n",
              "      <th>1467</th>\n",
              "      <td>2</td>\n",
              "      <td>3</td>\n",
              "    </tr>\n",
              "    <tr>\n",
              "      <th>1468</th>\n",
              "      <td>4</td>\n",
              "      <td>2</td>\n",
              "    </tr>\n",
              "    <tr>\n",
              "      <th>1469</th>\n",
              "      <td>2</td>\n",
              "      <td>4</td>\n",
              "    </tr>\n",
              "  </tbody>\n",
              "</table>\n",
              "<p>1470 rows × 2 columns</p>\n",
              "</div>\n",
              "      <button class=\"colab-df-convert\" onclick=\"convertToInteractive('df-7f59561d-4070-413b-b813-5098099c6235')\"\n",
              "              title=\"Convert this dataframe to an interactive table.\"\n",
              "              style=\"display:none;\">\n",
              "        \n",
              "  <svg xmlns=\"http://www.w3.org/2000/svg\" height=\"24px\"viewBox=\"0 0 24 24\"\n",
              "       width=\"24px\">\n",
              "    <path d=\"M0 0h24v24H0V0z\" fill=\"none\"/>\n",
              "    <path d=\"M18.56 5.44l.94 2.06.94-2.06 2.06-.94-2.06-.94-.94-2.06-.94 2.06-2.06.94zm-11 1L8.5 8.5l.94-2.06 2.06-.94-2.06-.94L8.5 2.5l-.94 2.06-2.06.94zm10 10l.94 2.06.94-2.06 2.06-.94-2.06-.94-.94-2.06-.94 2.06-2.06.94z\"/><path d=\"M17.41 7.96l-1.37-1.37c-.4-.4-.92-.59-1.43-.59-.52 0-1.04.2-1.43.59L10.3 9.45l-7.72 7.72c-.78.78-.78 2.05 0 2.83L4 21.41c.39.39.9.59 1.41.59.51 0 1.02-.2 1.41-.59l7.78-7.78 2.81-2.81c.8-.78.8-2.07 0-2.86zM5.41 20L4 18.59l7.72-7.72 1.47 1.35L5.41 20z\"/>\n",
              "  </svg>\n",
              "      </button>\n",
              "      \n",
              "  <style>\n",
              "    .colab-df-container {\n",
              "      display:flex;\n",
              "      flex-wrap:wrap;\n",
              "      gap: 12px;\n",
              "    }\n",
              "\n",
              "    .colab-df-convert {\n",
              "      background-color: #E8F0FE;\n",
              "      border: none;\n",
              "      border-radius: 50%;\n",
              "      cursor: pointer;\n",
              "      display: none;\n",
              "      fill: #1967D2;\n",
              "      height: 32px;\n",
              "      padding: 0 0 0 0;\n",
              "      width: 32px;\n",
              "    }\n",
              "\n",
              "    .colab-df-convert:hover {\n",
              "      background-color: #E2EBFA;\n",
              "      box-shadow: 0px 1px 2px rgba(60, 64, 67, 0.3), 0px 1px 3px 1px rgba(60, 64, 67, 0.15);\n",
              "      fill: #174EA6;\n",
              "    }\n",
              "\n",
              "    [theme=dark] .colab-df-convert {\n",
              "      background-color: #3B4455;\n",
              "      fill: #D2E3FC;\n",
              "    }\n",
              "\n",
              "    [theme=dark] .colab-df-convert:hover {\n",
              "      background-color: #434B5C;\n",
              "      box-shadow: 0px 1px 3px 1px rgba(0, 0, 0, 0.15);\n",
              "      filter: drop-shadow(0px 1px 2px rgba(0, 0, 0, 0.3));\n",
              "      fill: #FFFFFF;\n",
              "    }\n",
              "  </style>\n",
              "\n",
              "      <script>\n",
              "        const buttonEl =\n",
              "          document.querySelector('#df-7f59561d-4070-413b-b813-5098099c6235 button.colab-df-convert');\n",
              "        buttonEl.style.display =\n",
              "          google.colab.kernel.accessAllowed ? 'block' : 'none';\n",
              "\n",
              "        async function convertToInteractive(key) {\n",
              "          const element = document.querySelector('#df-7f59561d-4070-413b-b813-5098099c6235');\n",
              "          const dataTable =\n",
              "            await google.colab.kernel.invokeFunction('convertToInteractive',\n",
              "                                                     [key], {});\n",
              "          if (!dataTable) return;\n",
              "\n",
              "          const docLinkHtml = 'Like what you see? Visit the ' +\n",
              "            '<a target=\"_blank\" href=https://colab.research.google.com/notebooks/data_table.ipynb>data table notebook</a>'\n",
              "            + ' to learn more about interactive tables.';\n",
              "          element.innerHTML = '';\n",
              "          dataTable['output_type'] = 'display_data';\n",
              "          await google.colab.output.renderOutput(dataTable, element);\n",
              "          const docLink = document.createElement('div');\n",
              "          docLink.innerHTML = docLinkHtml;\n",
              "          element.appendChild(docLink);\n",
              "        }\n",
              "      </script>\n",
              "    </div>\n",
              "  </div>\n",
              "  "
            ]
          },
          "metadata": {},
          "execution_count": 123
        }
      ]
    },
    {
      "cell_type": "code",
      "source": [
        "plt.figure(figsize = (25,15))\n",
        "Graph6 = sns.countplot(x=\"EnvironmentSatisfaction\", hue = \"WorkLifeBalance\", data=environmentSatisfaction_workLifeBalance)\n",
        "\n",
        "for p in Graph6.patches:\n",
        "  Graph6.annotate('{:.1f}'.format(p.get_height()), (p.get_x()+0.06, p.get_height()+0.30))\n",
        "\n",
        "x_ticks_labels = ['Low', 'Medium', 'High', 'Very High']\n",
        "Graph6.set_xticklabels(x_ticks_labels)\n",
        "\n",
        "plt.legend(title='WorkLifeBalance', loc='upper right', labels=['Bad','Good','Better','Best'])\n",
        "\n",
        "Graph6.set(title='\\nInfluence of Environment Satisfaction to Work Life Balance')\n",
        "plt.xlabel('EnvironmentSatisfaction')\n",
        "plt.ylabel('WorkLifeBalance') \n",
        "plt.show()"
      ],
      "metadata": {
        "id": "I1gKvhLeHNYd",
        "colab": {
          "base_uri": "https://localhost:8080/",
          "height": 0
        },
        "outputId": "6706b6a5-e956-464a-ff8a-bf5bec5c78c5"
      },
      "execution_count": 124,
      "outputs": [
        {
          "output_type": "display_data",
          "data": {
            "text/plain": [
              "<Figure size 1800x1080 with 1 Axes>"
            ],
            "image/png": "[encoded data removed]"
          },
          "metadata": {
            "needs_background": "light"
          }
        }
      ]
    },
    {
      "cell_type": "markdown",
      "source": [
        "### **Data Science Question 7**"
      ],
      "metadata": {
        "id": "h6WFS1kgnoxk"
      }
    },
    {
      "cell_type": "code",
      "source": [
        "#find mean hourly rate\n",
        "updated_attrition_Emp_df.select(mean(\"HourlyRate\"))"
      ],
      "metadata": {
        "id": "foSXoVVsugEW",
        "colab": {
          "base_uri": "https://localhost:8080/",
          "height": 0
        },
        "outputId": "ecc03229-317b-4d60-ac8b-1cbcdba4b8c6"
      },
      "execution_count": 125,
      "outputs": [
        {
          "output_type": "execute_result",
          "data": {
            "text/plain": [
              "+-----------------+\n",
              "|  avg(HourlyRate)|\n",
              "+-----------------+\n",
              "|65.89115646258503|\n",
              "+-----------------+"
            ],
            "text/html": [
              "<table border='1'>\n",
              "<tr><th>avg(HourlyRate)</th></tr>\n",
              "<tr><td>65.89115646258503</td></tr>\n",
              "</table>\n"
            ]
          },
          "metadata": {},
          "execution_count": 125
        }
      ]
    },
    {
      "cell_type": "code",
      "source": [
        "#find mean monthly income\n",
        "updated_attrition_Emp_df.select(mean(\"MonthlyIncome\"))"
      ],
      "metadata": {
        "id": "4N_Jmzl7uf23",
        "colab": {
          "base_uri": "https://localhost:8080/",
          "height": 0
        },
        "outputId": "1075b84f-7054-4514-86a3-d9e6254565b8"
      },
      "execution_count": 126,
      "outputs": [
        {
          "output_type": "execute_result",
          "data": {
            "text/plain": [
              "+------------------+\n",
              "|avg(MonthlyIncome)|\n",
              "+------------------+\n",
              "| 6502.931292517007|\n",
              "+------------------+"
            ],
            "text/html": [
              "<table border='1'>\n",
              "<tr><th>avg(MonthlyIncome)</th></tr>\n",
              "<tr><td>6502.931292517007</td></tr>\n",
              "</table>\n"
            ]
          },
          "metadata": {},
          "execution_count": 126
        }
      ]
    },
    {
      "cell_type": "code",
      "source": [
        "DS7 = updated_attrition_Emp_df.select(\"JobRole\",\"HourlyRate\",\"MonthlyIncome\",\"Attrition\").where((updated_attrition_Emp_df.JobRole == \"Sales Executive\") \n",
        "& (updated_attrition_Emp_df.HourlyRate >= 65) & (updated_attrition_Emp_df.MonthlyIncome <= 6502)).show()"
      ],
      "metadata": {
        "id": "_6MSiG-4nsEd",
        "colab": {
          "base_uri": "https://localhost:8080/"
        },
        "outputId": "c1e7bd6d-af8c-46e4-e56a-2d710f99d79b"
      },
      "execution_count": 127,
      "outputs": [
        {
          "output_type": "stream",
          "name": "stdout",
          "text": [
            "+---------------+----------+-------------+---------+\n",
            "|        JobRole|HourlyRate|MonthlyIncome|Attrition|\n",
            "+---------------+----------+-------------+---------+\n",
            "|Sales Executive|        94|         5993|        1|\n",
            "|Sales Executive|        72|         4568|        0|\n",
            "|Sales Executive|        98|         5772|        0|\n",
            "|Sales Executive|        75|         5454|        0|\n",
            "|Sales Executive|        71|         5441|        0|\n",
            "|Sales Executive|        87|         5010|        0|\n",
            "|Sales Executive|        95|         6146|        0|\n",
            "|Sales Executive|        76|         6172|        1|\n",
            "|Sales Executive|        71|         4559|        1|\n",
            "|Sales Executive|       100|         4465|        0|\n",
            "|Sales Executive|        98|         6502|        0|\n",
            "|Sales Executive|        99|         4907|        0|\n",
            "|Sales Executive|        91|         5484|        0|\n",
            "|Sales Executive|        65|         5228|        0|\n",
            "|Sales Executive|        74|         4478|        0|\n",
            "|Sales Executive|        73|         6349|        0|\n",
            "|Sales Executive|        85|         4736|        0|\n",
            "|Sales Executive|        68|         6380|        1|\n",
            "|Sales Executive|        92|         5253|        0|\n",
            "|Sales Executive|        87|         4936|        0|\n",
            "+---------------+----------+-------------+---------+\n",
            "only showing top 20 rows\n",
            "\n"
          ]
        }
      ]
    },
    {
      "cell_type": "code",
      "source": [
        "df = attrition_Emp_df.toPandas()\n",
        "fig = px.strip(df, x=\"HourlyRate\", y=\"Attrition\",  color=\"JobRole\")\n",
        "fig.show()"
      ],
      "metadata": {
        "id": "6WhbwaNXHd8K",
        "colab": {
          "base_uri": "https://localhost:8080/",
          "height": 0
        },
        "outputId": "2905fda0-34f1-41b0-fac0-cfcd30e9a24c"
      },
      "execution_count": 128,
      "outputs": [
        {
          "output_type": "display_data",
          "data": {
            "text/html": [
              "<html>\n",
              "<head><meta charset=\"utf-8\" /></head>\n",
              "<body>\n",
              "    <div>            <script src=\"https://cdnjs.cloudflare.com/ajax/libs/mathjax/2.7.5/MathJax.js?config=TeX-AMS-MML_SVG\"></script><script type=\"text/javascript\">if (window.MathJax) {MathJax.Hub.Config({SVG: {font: \"STIX-Web\"}});}</script>                <script type=\"text/javascript\">window.PlotlyConfig = {MathJaxConfig: 'local'};</script>\n",
              "        <script src=\"https://cdn.plot.ly/plotly-2.8.3.min.js\"></script>                <div id=\"eef78a28-b124-4cac-bbd1-a795913da76e\" class=\"plotly-graph-div\" style=\"height:525px; width:100%;\"></div>            <script type=\"text/javascript\">                                    window.PLOTLYENV=window.PLOTLYENV || {};                                    if (document.getElementById(\"eef78a28-b124-4cac-bbd1-a795913da76e\")) {                    Plotly.newPlot(                        \"eef78a28-b124-4cac-bbd1-a795913da76e\",                        [{\"alignmentgroup\":\"True\",\"boxpoints\":\"all\",\"fillcolor\":\"rgba(255,255,255,0)\",\"hoveron\":\"points\",\"hovertemplate\":\"JobRole=Sales Executive<br>HourlyRate=%{x}<br>Attrition=%{y}<extra></extra>\",\"legendgroup\":\"Sales Executive\",\"line\":{\"color\":\"rgba(255,255,255,0)\"},\"marker\":{\"color\":\"#636efa\"},\"name\":\"Sales Executive\",\"offsetgroup\":\"Sales Executive\",\"orientation\":\"h\",\"pointpos\":0,\"showlegend\":true,\"x\":[94,48,42,37,72,98,75,47,71,99,57,32,70,64,71,63,87,33,43,37,46,87,92,95,76,77,71,96,47,41,35,94,43,67,41,59,30,92,35,32,90,52,57,52,76,42,92,100,45,39,78,98,44,99,44,48,77,96,100,91,65,74,73,41,46,73,57,30,56,39,61,85,57,45,48,56,68,92,87,67,77,61,46,72,99,86,83,49,69,80,94,32,37,56,85,77,61,58,45,80,74,69,60,66,46,66,75,39,34,100,62,57,46,56,71,65,55,50,42,48,84,49,99,47,32,77,60,76,38,84,93,69,43,37,81,48,56,73,78,74,66,98,87,48,73,35,32,98,68,45,67,52,51,46,86,62,85,92,41,100,84,83,42,79,53,95,75,38,74,41,79,86,88,81,30,65,73,32,54,56,77,70,45,44,45,72,85,61,62,94,82,52,84,57,78,48,82,86,56,56,57,64,57,40,66,31,66,83,43,85,67,48,44,52,61,36,93,98,99,73,98,42,97,31,52,96,84,54,81,96,79,51,40,77,78,55,64,47,96,46,64,33,80,90,73,38,84,52,54,55,59,42,36,43,93,67,80,36,31,73,35,82,87,74,96,34,80,51,94,62,80,74,70,87,32,91,46,84,98,83,81,92,68,46,67,92,79,82,45,64,63,64,89,33,54,86,75,43,42,32,84,89,77,71,32,39,55,44,63,66,77,92,86,48,85,94,95,88,57,100,94,100,50,39,60,63],\"x0\":\" \",\"xaxis\":\"x\",\"y\":[\"Yes\",\"No\",\"No\",\"No\",\"No\",\"No\",\"No\",\"No\",\"No\",\"No\",\"No\",\"No\",\"No\",\"Yes\",\"No\",\"No\",\"No\",\"No\",\"No\",\"No\",\"Yes\",\"No\",\"No\",\"No\",\"Yes\",\"No\",\"Yes\",\"No\",\"No\",\"No\",\"No\",\"No\",\"No\",\"No\",\"No\",\"No\",\"No\",\"No\",\"Yes\",\"Yes\",\"No\",\"Yes\",\"No\",\"No\",\"No\",\"No\",\"No\",\"No\",\"No\",\"No\",\"No\",\"No\",\"No\",\"No\",\"No\",\"Yes\",\"No\",\"No\",\"No\",\"No\",\"No\",\"No\",\"No\",\"Yes\",\"No\",\"No\",\"No\",\"No\",\"No\",\"No\",\"No\",\"No\",\"No\",\"No\",\"No\",\"Yes\",\"Yes\",\"No\",\"No\",\"Yes\",\"No\",\"No\",\"No\",\"No\",\"No\",\"No\",\"No\",\"No\",\"No\",\"No\",\"No\",\"No\",\"No\",\"No\",\"No\",\"No\",\"No\",\"No\",\"No\",\"No\",\"No\",\"No\",\"Yes\",\"No\",\"Yes\",\"No\",\"No\",\"No\",\"No\",\"Yes\",\"No\",\"No\",\"No\",\"No\",\"No\",\"Yes\",\"No\",\"Yes\",\"No\",\"No\",\"No\",\"No\",\"No\",\"No\",\"No\",\"Yes\",\"No\",\"No\",\"Yes\",\"No\",\"No\",\"Yes\",\"Yes\",\"Yes\",\"No\",\"No\",\"No\",\"No\",\"No\",\"No\",\"No\",\"No\",\"No\",\"No\",\"No\",\"No\",\"No\",\"No\",\"No\",\"No\",\"No\",\"No\",\"Yes\",\"Yes\",\"No\",\"No\",\"No\",\"No\",\"No\",\"Yes\",\"No\",\"No\",\"No\",\"Yes\",\"No\",\"No\",\"No\",\"No\",\"No\",\"No\",\"No\",\"Yes\",\"No\",\"Yes\",\"No\",\"No\",\"No\",\"No\",\"No\",\"No\",\"Yes\",\"No\",\"Yes\",\"Yes\",\"No\",\"No\",\"Yes\",\"No\",\"No\",\"No\",\"No\",\"No\",\"No\",\"No\",\"No\",\"No\",\"No\",\"No\",\"No\",\"No\",\"Yes\",\"Yes\",\"No\",\"No\",\"No\",\"No\",\"No\",\"No\",\"No\",\"Yes\",\"Yes\",\"No\",\"No\",\"No\",\"No\",\"No\",\"No\",\"No\",\"No\",\"No\",\"No\",\"No\",\"No\",\"No\",\"Yes\",\"No\",\"No\",\"No\",\"No\",\"No\",\"No\",\"Yes\",\"Yes\",\"No\",\"No\",\"No\",\"No\",\"No\",\"No\",\"No\",\"Yes\",\"No\",\"No\",\"No\",\"No\",\"No\",\"No\",\"No\",\"No\",\"Yes\",\"Yes\",\"No\",\"Yes\",\"No\",\"No\",\"No\",\"No\",\"No\",\"No\",\"No\",\"No\",\"Yes\",\"No\",\"No\",\"Yes\",\"Yes\",\"No\",\"No\",\"No\",\"No\",\"No\",\"Yes\",\"Yes\",\"No\",\"No\",\"No\",\"No\",\"Yes\",\"No\",\"No\",\"No\",\"No\",\"No\",\"No\",\"No\",\"No\",\"No\",\"Yes\",\"No\",\"Yes\",\"No\",\"No\",\"No\",\"No\",\"No\",\"No\",\"No\",\"No\",\"No\",\"No\",\"Yes\",\"No\",\"No\",\"No\",\"No\",\"No\",\"No\",\"No\",\"Yes\",\"Yes\",\"No\",\"No\",\"No\",\"No\",\"No\",\"No\",\"No\",\"No\",\"No\",\"No\",\"Yes\",\"No\",\"No\",\"Yes\",\"No\",\"No\"],\"y0\":\" \",\"yaxis\":\"y\",\"type\":\"box\"},{\"alignmentgroup\":\"True\",\"boxpoints\":\"all\",\"fillcolor\":\"rgba(255,255,255,0)\",\"hoveron\":\"points\",\"hovertemplate\":\"JobRole=Research Scientist<br>HourlyRate=%{x}<br>Attrition=%{y}<extra></extra>\",\"legendgroup\":\"Research Scientist\",\"line\":{\"color\":\"rgba(255,255,255,0)\"},\"marker\":{\"color\":\"#EF553B\"},\"name\":\"Research Scientist\",\"offsetgroup\":\"Research Scientist\",\"orientation\":\"h\",\"pointpos\":0,\"showlegend\":true,\"x\":[61,56,31,80,45,96,83,72,61,72,82,73,59,79,79,76,87,66,30,79,71,41,64,45,96,72,46,72,83,32,75,84,54,75,80,57,42,79,56,43,51,67,90,95,95,72,99,37,65,43,60,88,85,47,70,86,36,62,63,83,60,82,96,94,100,42,66,30,53,86,32,85,85,74,84,64,31,75,83,51,42,54,96,73,43,40,72,69,92,90,71,62,78,89,83,66,83,43,69,92,71,42,82,54,32,70,58,76,80,67,57,86,92,63,79,41,72,82,86,81,40,46,95,100,88,50,65,53,75,91,35,96,36,48,61,65,77,76,100,51,65,35,51,46,92,53,48,66,73,98,57,44,66,63,74,34,43,59,54,55,40,93,70,67,61,39,55,92,54,83,96,69,48,74,95,32,38,60,63,42,72,96,97,46,76,89,57,47,53,66,78,84,40,88,93,74,98,87,92,57,75,54,73,51,36,91,34,74,90,90,68,49,64,93,72,100,33,47,97,67,91,62,65,35,45,89,45,85,35,48,48,97,71,32,86,87,66,90,45,94,35,79,62,56,33,78,67,97,91,65,38,90,99,90,82,52,68,67,33,73,38,73,77,41,98,75,78,90,85,41,86,64,58,47,71,49,48,48,67,37,35,76,63,48,52,42,36,78,52,98,62,73],\"x0\":\" \",\"xaxis\":\"x\",\"y\":[\"No\",\"No\",\"No\",\"No\",\"No\",\"No\",\"Yes\",\"Yes\",\"Yes\",\"No\",\"No\",\"No\",\"No\",\"No\",\"Yes\",\"No\",\"No\",\"No\",\"No\",\"No\",\"No\",\"No\",\"No\",\"No\",\"No\",\"Yes\",\"No\",\"No\",\"No\",\"No\",\"No\",\"No\",\"No\",\"No\",\"No\",\"No\",\"No\",\"No\",\"No\",\"No\",\"No\",\"No\",\"No\",\"No\",\"No\",\"No\",\"No\",\"No\",\"No\",\"No\",\"No\",\"Yes\",\"Yes\",\"No\",\"No\",\"Yes\",\"No\",\"No\",\"No\",\"No\",\"No\",\"No\",\"No\",\"No\",\"No\",\"No\",\"No\",\"No\",\"No\",\"No\",\"No\",\"Yes\",\"No\",\"No\",\"Yes\",\"No\",\"No\",\"No\",\"No\",\"No\",\"No\",\"No\",\"No\",\"Yes\",\"No\",\"Yes\",\"No\",\"No\",\"No\",\"No\",\"Yes\",\"No\",\"No\",\"No\",\"No\",\"No\",\"No\",\"No\",\"No\",\"No\",\"No\",\"No\",\"No\",\"No\",\"Yes\",\"Yes\",\"No\",\"No\",\"No\",\"Yes\",\"Yes\",\"No\",\"No\",\"Yes\",\"No\",\"No\",\"No\",\"No\",\"No\",\"No\",\"No\",\"Yes\",\"No\",\"No\",\"Yes\",\"No\",\"No\",\"No\",\"No\",\"No\",\"No\",\"Yes\",\"No\",\"No\",\"No\",\"Yes\",\"No\",\"No\",\"No\",\"No\",\"No\",\"No\",\"Yes\",\"Yes\",\"Yes\",\"No\",\"Yes\",\"No\",\"No\",\"Yes\",\"Yes\",\"No\",\"No\",\"No\",\"No\",\"Yes\",\"No\",\"No\",\"Yes\",\"Yes\",\"No\",\"No\",\"No\",\"No\",\"No\",\"No\",\"No\",\"No\",\"No\",\"No\",\"Yes\",\"No\",\"Yes\",\"No\",\"Yes\",\"No\",\"No\",\"No\",\"No\",\"No\",\"No\",\"Yes\",\"No\",\"No\",\"No\",\"No\",\"No\",\"No\",\"No\",\"No\",\"No\",\"No\",\"No\",\"No\",\"Yes\",\"No\",\"No\",\"No\",\"No\",\"No\",\"No\",\"No\",\"No\",\"Yes\",\"No\",\"No\",\"Yes\",\"No\",\"No\",\"No\",\"No\",\"No\",\"No\",\"No\",\"No\",\"Yes\",\"Yes\",\"No\",\"No\",\"No\",\"No\",\"No\",\"No\",\"No\",\"No\",\"No\",\"No\",\"No\",\"No\",\"No\",\"No\",\"No\",\"No\",\"No\",\"No\",\"No\",\"No\",\"No\",\"No\",\"No\",\"No\",\"No\",\"No\",\"No\",\"No\",\"No\",\"No\",\"No\",\"No\",\"No\",\"Yes\",\"No\",\"Yes\",\"No\",\"No\",\"No\",\"No\",\"No\",\"No\",\"No\",\"No\",\"Yes\",\"No\",\"No\",\"No\",\"Yes\",\"No\",\"No\",\"Yes\",\"No\",\"No\",\"No\",\"No\",\"Yes\",\"No\",\"No\",\"No\",\"No\",\"No\",\"No\",\"No\",\"No\",\"No\",\"No\",\"No\",\"No\",\"Yes\",\"No\",\"No\",\"No\",\"No\",\"No\"],\"y0\":\" \",\"yaxis\":\"y\",\"type\":\"box\"},{\"alignmentgroup\":\"True\",\"boxpoints\":\"all\",\"fillcolor\":\"rgba(255,255,255,0)\",\"hoveron\":\"points\",\"hovertemplate\":\"JobRole=Laboratory Technician<br>HourlyRate=%{x}<br>Attrition=%{y}<extra></extra>\",\"legendgroup\":\"Laboratory Technician\",\"line\":{\"color\":\"rgba(255,255,255,0)\"},\"marker\":{\"color\":\"#00cc96\"},\"name\":\"Laboratory Technician\",\"offsetgroup\":\"Laboratory Technician\",\"orientation\":\"h\",\"pointpos\":0,\"showlegend\":true,\"x\":[92,40,79,81,67,84,49,93,50,96,78,83,75,33,48,58,36,98,50,30,48,50,55,55,96,67,66,59,66,52,39,100,41,35,94,79,60,30,66,47,75,86,37,99,73,62,89,58,39,62,96,56,71,100,84,79,47,37,43,45,54,81,47,97,33,82,77,30,75,46,98,82,95,95,78,61,98,79,91,42,53,49,46,42,38,97,99,48,66,94,55,54,72,71,41,74,49,37,86,80,71,38,63,60,82,36,51,62,61,46,95,87,62,57,57,70,83,51,70,59,79,84,57,91,37,42,39,60,94,45,64,43,69,81,36,59,87,50,32,37,45,70,56,80,46,72,58,49,79,82,47,54,87,78,97,60,49,77,76,45,46,44,52,40,39,79,48,55,89,67,88,97,60,86,54,94,81,100,97,91,37,84,86,81,54,94,90,74,89,82,38,43,97,97,86,68,79,57,68,69,87,80,46,87,63,51,50,84,67,76,73,77,74,42,93,87,95,76,57,79,43,62,69,91,51,77,75,57,94,40,79,99,93,91,53,40,64,81,89,59,97,62,61,66,95,32,59,78,73,76,57,59,43,49,83,72,46,41,82],\"x0\":\" \",\"xaxis\":\"x\",\"y\":[\"Yes\",\"No\",\"No\",\"No\",\"No\",\"No\",\"No\",\"No\",\"Yes\",\"No\",\"No\",\"No\",\"No\",\"No\",\"Yes\",\"No\",\"No\",\"Yes\",\"Yes\",\"No\",\"No\",\"No\",\"No\",\"No\",\"No\",\"No\",\"Yes\",\"No\",\"Yes\",\"No\",\"No\",\"No\",\"Yes\",\"No\",\"No\",\"No\",\"No\",\"No\",\"No\",\"Yes\",\"No\",\"No\",\"No\",\"No\",\"No\",\"No\",\"No\",\"Yes\",\"Yes\",\"Yes\",\"No\",\"No\",\"Yes\",\"No\",\"No\",\"Yes\",\"No\",\"No\",\"Yes\",\"Yes\",\"Yes\",\"No\",\"No\",\"No\",\"No\",\"No\",\"Yes\",\"No\",\"No\",\"No\",\"No\",\"No\",\"No\",\"No\",\"No\",\"No\",\"No\",\"No\",\"Yes\",\"No\",\"No\",\"No\",\"No\",\"No\",\"Yes\",\"No\",\"Yes\",\"No\",\"Yes\",\"No\",\"Yes\",\"No\",\"No\",\"No\",\"No\",\"No\",\"No\",\"No\",\"No\",\"No\",\"No\",\"No\",\"Yes\",\"No\",\"No\",\"Yes\",\"No\",\"No\",\"No\",\"No\",\"No\",\"Yes\",\"No\",\"Yes\",\"Yes\",\"Yes\",\"No\",\"No\",\"No\",\"No\",\"No\",\"Yes\",\"No\",\"No\",\"No\",\"No\",\"Yes\",\"Yes\",\"No\",\"No\",\"No\",\"Yes\",\"No\",\"Yes\",\"Yes\",\"No\",\"No\",\"No\",\"Yes\",\"Yes\",\"Yes\",\"No\",\"No\",\"Yes\",\"No\",\"Yes\",\"No\",\"No\",\"Yes\",\"No\",\"No\",\"No\",\"No\",\"No\",\"Yes\",\"No\",\"No\",\"No\",\"No\",\"Yes\",\"No\",\"No\",\"No\",\"No\",\"Yes\",\"Yes\",\"No\",\"No\",\"Yes\",\"No\",\"No\",\"No\",\"No\",\"No\",\"No\",\"No\",\"No\",\"No\",\"Yes\",\"No\",\"No\",\"No\",\"No\",\"No\",\"Yes\",\"Yes\",\"No\",\"No\",\"Yes\",\"No\",\"Yes\",\"No\",\"No\",\"No\",\"Yes\",\"No\",\"No\",\"No\",\"No\",\"Yes\",\"No\",\"No\",\"No\",\"No\",\"No\",\"Yes\",\"No\",\"No\",\"No\",\"No\",\"Yes\",\"No\",\"No\",\"No\",\"Yes\",\"No\",\"Yes\",\"No\",\"No\",\"No\",\"No\",\"No\",\"No\",\"No\",\"No\",\"No\",\"No\",\"No\",\"No\",\"No\",\"Yes\",\"No\",\"Yes\",\"No\",\"No\",\"No\",\"No\",\"No\",\"No\",\"No\",\"Yes\",\"No\",\"No\",\"No\",\"No\",\"Yes\",\"No\",\"No\",\"No\",\"No\",\"No\",\"No\",\"No\",\"No\",\"No\",\"Yes\",\"No\",\"No\",\"No\"],\"y0\":\" \",\"yaxis\":\"y\",\"type\":\"box\"},{\"alignmentgroup\":\"True\",\"boxpoints\":\"all\",\"fillcolor\":\"rgba(255,255,255,0)\",\"hoveron\":\"points\",\"hovertemplate\":\"JobRole=Manufacturing Director<br>HourlyRate=%{x}<br>Attrition=%{y}<extra></extra>\",\"legendgroup\":\"Manufacturing Director\",\"line\":{\"color\":\"rgba(255,255,255,0)\"},\"marker\":{\"color\":\"#ab63fa\"},\"name\":\"Manufacturing Director\",\"offsetgroup\":\"Manufacturing Director\",\"orientation\":\"h\",\"pointpos\":0,\"showlegend\":true,\"x\":[44,51,96,51,33,95,61,94,49,96,84,53,41,34,57,45,50,36,88,54,60,92,88,90,84,77,61,62,84,84,48,61,39,62,95,30,49,31,39,43,87,65,33,75,56,34,59,65,36,48,68,32,81,32,95,75,35,43,98,52,98,59,81,33,66,78,55,34,93,64,95,75,41,96,56,32,42,65,47,69,82,51,85,65,93,83,78,95,79,44,56,60,77,53,67,53,72,32,53,54,82,68,98,59,60,100,55,86,96,32,44,78,81,76,42,76,39,80,85,81,59,54,84,77,66,33,92,49,30,60,90,58,64,92,82,44,93,87,56,77,72,97,60,74,87],\"x0\":\" \",\"xaxis\":\"x\",\"y\":[\"No\",\"No\",\"No\",\"No\",\"No\",\"No\",\"No\",\"No\",\"No\",\"No\",\"No\",\"Yes\",\"No\",\"No\",\"No\",\"No\",\"Yes\",\"No\",\"No\",\"No\",\"No\",\"No\",\"No\",\"No\",\"No\",\"No\",\"Yes\",\"No\",\"No\",\"No\",\"No\",\"No\",\"No\",\"No\",\"No\",\"No\",\"No\",\"No\",\"No\",\"No\",\"No\",\"No\",\"No\",\"No\",\"No\",\"No\",\"No\",\"No\",\"No\",\"No\",\"No\",\"No\",\"No\",\"No\",\"No\",\"No\",\"No\",\"No\",\"No\",\"No\",\"No\",\"No\",\"No\",\"No\",\"No\",\"No\",\"No\",\"Yes\",\"No\",\"No\",\"No\",\"No\",\"No\",\"No\",\"No\",\"No\",\"No\",\"No\",\"No\",\"No\",\"No\",\"No\",\"No\",\"No\",\"No\",\"No\",\"No\",\"No\",\"No\",\"No\",\"No\",\"No\",\"No\",\"No\",\"No\",\"No\",\"No\",\"No\",\"Yes\",\"No\",\"No\",\"No\",\"Yes\",\"No\",\"No\",\"Yes\",\"No\",\"No\",\"No\",\"No\",\"No\",\"Yes\",\"Yes\",\"No\",\"No\",\"No\",\"No\",\"No\",\"No\",\"No\",\"No\",\"No\",\"No\",\"No\",\"No\",\"No\",\"No\",\"No\",\"No\",\"No\",\"No\",\"Yes\",\"No\",\"No\",\"No\",\"No\",\"No\",\"No\",\"No\",\"No\",\"No\",\"No\",\"No\",\"No\",\"No\"],\"y0\":\" \",\"yaxis\":\"y\",\"type\":\"box\"},{\"alignmentgroup\":\"True\",\"boxpoints\":\"all\",\"fillcolor\":\"rgba(255,255,255,0)\",\"hoveron\":\"points\",\"hovertemplate\":\"JobRole=Healthcare Representative<br>HourlyRate=%{x}<br>Attrition=%{y}<extra></extra>\",\"legendgroup\":\"Healthcare Representative\",\"line\":{\"color\":\"rgba(255,255,255,0)\"},\"marker\":{\"color\":\"#FFA15A\"},\"name\":\"Healthcare Representative\",\"offsetgroup\":\"Healthcare Representative\",\"orientation\":\"h\",\"pointpos\":0,\"showlegend\":true,\"x\":[94,42,41,79,59,99,78,40,100,30,94,83,98,70,63,97,64,64,85,79,60,82,68,48,32,90,43,98,88,100,97,31,74,88,72,66,62,86,76,81,30,46,80,33,96,81,55,61,66,38,45,50,33,68,37,51,41,42,84,57,97,78,61,62,35,72,65,61,34,45,87,84,52,97,80,96,82,37,73,63,86,89,98,71,84,95,96,35,30,69,91,39,40,72,66,51,87,92,41,52,42,41,79,80,48,92,96,74,34,70,58,60,90,95,85,66,52,47,93,78,44,89,34,36,30,45,84,95,57,80,42],\"x0\":\" \",\"xaxis\":\"x\",\"y\":[\"No\",\"No\",\"No\",\"No\",\"No\",\"No\",\"No\",\"No\",\"No\",\"No\",\"Yes\",\"No\",\"No\",\"Yes\",\"No\",\"No\",\"No\",\"No\",\"No\",\"No\",\"No\",\"No\",\"No\",\"No\",\"No\",\"No\",\"No\",\"No\",\"No\",\"No\",\"No\",\"No\",\"No\",\"No\",\"No\",\"Yes\",\"No\",\"No\",\"No\",\"No\",\"No\",\"No\",\"No\",\"No\",\"No\",\"No\",\"No\",\"No\",\"No\",\"No\",\"No\",\"No\",\"No\",\"No\",\"No\",\"No\",\"No\",\"No\",\"No\",\"No\",\"No\",\"No\",\"Yes\",\"No\",\"No\",\"Yes\",\"No\",\"No\",\"No\",\"No\",\"No\",\"Yes\",\"No\",\"No\",\"No\",\"No\",\"No\",\"No\",\"Yes\",\"No\",\"No\",\"No\",\"No\",\"No\",\"Yes\",\"No\",\"No\",\"No\",\"No\",\"No\",\"No\",\"No\",\"No\",\"No\",\"No\",\"No\",\"No\",\"No\",\"No\",\"No\",\"No\",\"No\",\"No\",\"No\",\"No\",\"No\",\"No\",\"No\",\"No\",\"No\",\"No\",\"No\",\"No\",\"No\",\"No\",\"Yes\",\"No\",\"No\",\"No\",\"No\",\"No\",\"No\",\"No\",\"No\",\"No\",\"No\",\"No\",\"No\",\"No\",\"No\",\"No\"],\"y0\":\" \",\"yaxis\":\"y\",\"type\":\"box\"},{\"alignmentgroup\":\"True\",\"boxpoints\":\"all\",\"fillcolor\":\"rgba(255,255,255,0)\",\"hoveron\":\"points\",\"hovertemplate\":\"JobRole=Manager<br>HourlyRate=%{x}<br>Attrition=%{y}<extra></extra>\",\"legendgroup\":\"Manager\",\"line\":{\"color\":\"rgba(255,255,255,0)\"},\"marker\":{\"color\":\"#19d3f3\"},\"name\":\"Manager\",\"offsetgroup\":\"Manager\",\"orientation\":\"h\",\"pointpos\":0,\"showlegend\":true,\"x\":[78,58,83,33,32,30,45,92,91,53,46,65,65,75,58,68,80,79,70,75,81,88,71,88,74,99,54,91,97,52,30,41,79,56,88,56,83,44,91,99,40,35,73,59,31,78,66,33,66,98,70,45,38,90,57,90,66,40,35,35,52,92,50,69,30,85,88,94,33,83,92,83,94,95,37,58,99,84,31,64,87,51,38,60,59,93,56,98,89,91,47,36,88,53,52,81,98,58,72,71,87,56],\"x0\":\" \",\"xaxis\":\"x\",\"y\":[\"No\",\"No\",\"No\",\"No\",\"No\",\"No\",\"No\",\"No\",\"No\",\"No\",\"No\",\"No\",\"No\",\"No\",\"No\",\"No\",\"No\",\"No\",\"No\",\"No\",\"No\",\"Yes\",\"No\",\"No\",\"No\",\"No\",\"No\",\"No\",\"No\",\"No\",\"No\",\"No\",\"No\",\"No\",\"No\",\"Yes\",\"No\",\"No\",\"No\",\"No\",\"No\",\"No\",\"No\",\"No\",\"No\",\"Yes\",\"No\",\"No\",\"No\",\"No\",\"No\",\"No\",\"No\",\"No\",\"Yes\",\"No\",\"No\",\"No\",\"No\",\"No\",\"No\",\"No\",\"No\",\"No\",\"No\",\"No\",\"No\",\"Yes\",\"No\",\"No\",\"No\",\"No\",\"No\",\"No\",\"No\",\"No\",\"No\",\"No\",\"No\",\"No\",\"No\",\"No\",\"No\",\"No\",\"No\",\"No\",\"No\",\"No\",\"No\",\"No\",\"No\",\"No\",\"No\",\"No\",\"No\",\"No\",\"No\",\"No\",\"No\",\"No\",\"No\",\"No\"],\"y0\":\" \",\"yaxis\":\"y\",\"type\":\"box\"},{\"alignmentgroup\":\"True\",\"boxpoints\":\"all\",\"fillcolor\":\"rgba(255,255,255,0)\",\"hoveron\":\"points\",\"hovertemplate\":\"JobRole=Sales Representative<br>HourlyRate=%{x}<br>Attrition=%{y}<extra></extra>\",\"legendgroup\":\"Sales Representative\",\"line\":{\"color\":\"rgba(255,255,255,0)\"},\"marker\":{\"color\":\"#FF6692\"},\"name\":\"Sales Representative\",\"offsetgroup\":\"Sales Representative\",\"orientation\":\"h\",\"pointpos\":0,\"showlegend\":true,\"x\":[82,56,86,97,62,50,34,75,100,70,41,56,84,69,99,99,39,34,90,72,62,33,57,69,38,40,74,31,85,49,54,99,83,46,72,98,48,54,49,65,41,36,37,84,88,87,74,54,67,76,43,73,54,98,90,50,68,92,76,78,55,98,70,70,31,54,95,99,51,52,31,77,36,78,89,45,59,54,68,40,58,33,30],\"x0\":\" \",\"xaxis\":\"x\",\"y\":[\"Yes\",\"Yes\",\"Yes\",\"No\",\"No\",\"Yes\",\"No\",\"No\",\"Yes\",\"Yes\",\"No\",\"No\",\"No\",\"No\",\"No\",\"Yes\",\"No\",\"Yes\",\"Yes\",\"No\",\"Yes\",\"Yes\",\"No\",\"Yes\",\"No\",\"No\",\"Yes\",\"No\",\"Yes\",\"No\",\"No\",\"No\",\"No\",\"No\",\"No\",\"No\",\"Yes\",\"No\",\"Yes\",\"No\",\"No\",\"Yes\",\"Yes\",\"No\",\"No\",\"No\",\"No\",\"Yes\",\"No\",\"No\",\"No\",\"Yes\",\"Yes\",\"No\",\"Yes\",\"Yes\",\"Yes\",\"Yes\",\"No\",\"No\",\"No\",\"No\",\"No\",\"Yes\",\"No\",\"No\",\"Yes\",\"Yes\",\"No\",\"Yes\",\"Yes\",\"No\",\"No\",\"No\",\"Yes\",\"Yes\",\"No\",\"No\",\"No\",\"No\",\"No\",\"Yes\",\"No\"],\"y0\":\" \",\"yaxis\":\"y\",\"type\":\"box\"},{\"alignmentgroup\":\"True\",\"boxpoints\":\"all\",\"fillcolor\":\"rgba(255,255,255,0)\",\"hoveron\":\"points\",\"hovertemplate\":\"JobRole=Research Director<br>HourlyRate=%{x}<br>Attrition=%{y}<extra></extra>\",\"legendgroup\":\"Research Director\",\"line\":{\"color\":\"rgba(255,255,255,0)\"},\"marker\":{\"color\":\"#B6E880\"},\"name\":\"Research Director\",\"offsetgroup\":\"Research Director\",\"orientation\":\"h\",\"pointpos\":0,\"showlegend\":true,\"x\":[53,49,98,43,52,30,60,73,51,61,81,47,73,49,80,96,45,35,81,42,92,44,59,86,93,51,95,58,50,39,59,63,64,49,31,94,42,72,80,66,64,73,55,62,40,44,88,52,60,85,96,76,87,43,54,76,81,93,82,55,39,71,32,88,31,72,50,65,48,60,46,65,87,91,83,42,40,98,99,42],\"x0\":\" \",\"xaxis\":\"x\",\"y\":[\"No\",\"Yes\",\"No\",\"No\",\"No\",\"No\",\"No\",\"No\",\"No\",\"No\",\"No\",\"No\",\"No\",\"No\",\"No\",\"No\",\"No\",\"No\",\"No\",\"No\",\"No\",\"No\",\"No\",\"No\",\"No\",\"No\",\"No\",\"No\",\"No\",\"No\",\"No\",\"No\",\"No\",\"No\",\"Yes\",\"No\",\"No\",\"No\",\"No\",\"No\",\"No\",\"No\",\"No\",\"No\",\"No\",\"No\",\"No\",\"No\",\"No\",\"No\",\"No\",\"No\",\"No\",\"No\",\"No\",\"No\",\"No\",\"No\",\"No\",\"No\",\"No\",\"No\",\"No\",\"No\",\"No\",\"No\",\"No\",\"No\",\"No\",\"No\",\"No\",\"No\",\"No\",\"No\",\"No\",\"No\",\"No\",\"No\",\"No\",\"No\"],\"y0\":\" \",\"yaxis\":\"y\",\"type\":\"box\"},{\"alignmentgroup\":\"True\",\"boxpoints\":\"all\",\"fillcolor\":\"rgba(255,255,255,0)\",\"hoveron\":\"points\",\"hovertemplate\":\"JobRole=Human Resources<br>HourlyRate=%{x}<br>Attrition=%{y}<extra></extra>\",\"legendgroup\":\"Human Resources\",\"line\":{\"color\":\"rgba(255,255,255,0)\"},\"marker\":{\"color\":\"#FF97FF\"},\"name\":\"Human Resources\",\"offsetgroup\":\"Human Resources\",\"orientation\":\"h\",\"pointpos\":0,\"showlegend\":true,\"x\":[80,63,61,48,52,62,52,52,43,58,50,88,44,36,88,63,77,42,57,36,91,37,100,99,79,56,44,51,96,52,46,71,37,44,58,60,56,59,66,97,89,100,69,89,56,43,87,94,58,88,82,31],\"x0\":\" \",\"xaxis\":\"x\",\"y\":[\"No\",\"Yes\",\"No\",\"No\",\"No\",\"No\",\"No\",\"Yes\",\"Yes\",\"Yes\",\"No\",\"No\",\"No\",\"No\",\"No\",\"No\",\"No\",\"No\",\"No\",\"No\",\"Yes\",\"No\",\"No\",\"No\",\"No\",\"No\",\"No\",\"No\",\"No\",\"Yes\",\"No\",\"No\",\"No\",\"No\",\"Yes\",\"No\",\"No\",\"No\",\"Yes\",\"No\",\"No\",\"No\",\"Yes\",\"Yes\",\"Yes\",\"No\",\"No\",\"No\",\"Yes\",\"No\",\"No\",\"No\"],\"y0\":\" \",\"yaxis\":\"y\",\"type\":\"box\"}],                        {\"template\":{\"data\":{\"bar\":[{\"error_x\":{\"color\":\"#2a3f5f\"},\"error_y\":{\"color\":\"#2a3f5f\"},\"marker\":{\"line\":{\"color\":\"#E5ECF6\",\"width\":0.5},\"pattern\":{\"fillmode\":\"overlay\",\"size\":10,\"solidity\":0.2}},\"type\":\"bar\"}],\"barpolar\":[{\"marker\":{\"line\":{\"color\":\"#E5ECF6\",\"width\":0.5},\"pattern\":{\"fillmode\":\"overlay\",\"size\":10,\"solidity\":0.2}},\"type\":\"barpolar\"}],\"carpet\":[{\"aaxis\":{\"endlinecolor\":\"#2a3f5f\",\"gridcolor\":\"white\",\"linecolor\":\"white\",\"minorgridcolor\":\"white\",\"startlinecolor\":\"#2a3f5f\"},\"baxis\":{\"endlinecolor\":\"#2a3f5f\",\"gridcolor\":\"white\",\"linecolor\":\"white\",\"minorgridcolor\":\"white\",\"startlinecolor\":\"#2a3f5f\"},\"type\":\"carpet\"}],\"choropleth\":[{\"colorbar\":{\"outlinewidth\":0,\"ticks\":\"\"},\"type\":\"choropleth\"}],\"contour\":[{\"colorbar\":{\"outlinewidth\":0,\"ticks\":\"\"},\"colorscale\":[[0.0,\"#0d0887\"],[0.1111111111111111,\"#46039f\"],[0.2222222222222222,\"#7201a8\"],[0.3333333333333333,\"#9c179e\"],[0.4444444444444444,\"#bd3786\"],[0.5555555555555556,\"#d8576b\"],[0.6666666666666666,\"#ed7953\"],[0.7777777777777778,\"#fb9f3a\"],[0.8888888888888888,\"#fdca26\"],[1.0,\"#f0f921\"]],\"type\":\"contour\"}],\"contourcarpet\":[{\"colorbar\":{\"outlinewidth\":0,\"ticks\":\"\"},\"type\":\"contourcarpet\"}],\"heatmap\":[{\"colorbar\":{\"outlinewidth\":0,\"ticks\":\"\"},\"colorscale\":[[0.0,\"#0d0887\"],[0.1111111111111111,\"#46039f\"],[0.2222222222222222,\"#7201a8\"],[0.3333333333333333,\"#9c179e\"],[0.4444444444444444,\"#bd3786\"],[0.5555555555555556,\"#d8576b\"],[0.6666666666666666,\"#ed7953\"],[0.7777777777777778,\"#fb9f3a\"],[0.8888888888888888,\"#fdca26\"],[1.0,\"#f0f921\"]],\"type\":\"heatmap\"}],\"heatmapgl\":[{\"colorbar\":{\"outlinewidth\":0,\"ticks\":\"\"},\"colorscale\":[[0.0,\"#0d0887\"],[0.1111111111111111,\"#46039f\"],[0.2222222222222222,\"#7201a8\"],[0.3333333333333333,\"#9c179e\"],[0.4444444444444444,\"#bd3786\"],[0.5555555555555556,\"#d8576b\"],[0.6666666666666666,\"#ed7953\"],[0.7777777777777778,\"#fb9f3a\"],[0.8888888888888888,\"#fdca26\"],[1.0,\"#f0f921\"]],\"type\":\"heatmapgl\"}],\"histogram\":[{\"marker\":{\"pattern\":{\"fillmode\":\"overlay\",\"size\":10,\"solidity\":0.2}},\"type\":\"histogram\"}],\"histogram2d\":[{\"colorbar\":{\"outlinewidth\":0,\"ticks\":\"\"},\"colorscale\":[[0.0,\"#0d0887\"],[0.1111111111111111,\"#46039f\"],[0.2222222222222222,\"#7201a8\"],[0.3333333333333333,\"#9c179e\"],[0.4444444444444444,\"#bd3786\"],[0.5555555555555556,\"#d8576b\"],[0.6666666666666666,\"#ed7953\"],[0.7777777777777778,\"#fb9f3a\"],[0.8888888888888888,\"#fdca26\"],[1.0,\"#f0f921\"]],\"type\":\"histogram2d\"}],\"histogram2dcontour\":[{\"colorbar\":{\"outlinewidth\":0,\"ticks\":\"\"},\"colorscale\":[[0.0,\"#0d0887\"],[0.1111111111111111,\"#46039f\"],[0.2222222222222222,\"#7201a8\"],[0.3333333333333333,\"#9c179e\"],[0.4444444444444444,\"#bd3786\"],[0.5555555555555556,\"#d8576b\"],[0.6666666666666666,\"#ed7953\"],[0.7777777777777778,\"#fb9f3a\"],[0.8888888888888888,\"#fdca26\"],[1.0,\"#f0f921\"]],\"type\":\"histogram2dcontour\"}],\"mesh3d\":[{\"colorbar\":{\"outlinewidth\":0,\"ticks\":\"\"},\"type\":\"mesh3d\"}],\"parcoords\":[{\"line\":{\"colorbar\":{\"outlinewidth\":0,\"ticks\":\"\"}},\"type\":\"parcoords\"}],\"pie\":[{\"automargin\":true,\"type\":\"pie\"}],\"scatter\":[{\"marker\":{\"colorbar\":{\"outlinewidth\":0,\"ticks\":\"\"}},\"type\":\"scatter\"}],\"scatter3d\":[{\"line\":{\"colorbar\":{\"outlinewidth\":0,\"ticks\":\"\"}},\"marker\":{\"colorbar\":{\"outlinewidth\":0,\"ticks\":\"\"}},\"type\":\"scatter3d\"}],\"scattercarpet\":[{\"marker\":{\"colorbar\":{\"outlinewidth\":0,\"ticks\":\"\"}},\"type\":\"scattercarpet\"}],\"scattergeo\":[{\"marker\":{\"colorbar\":{\"outlinewidth\":0,\"ticks\":\"\"}},\"type\":\"scattergeo\"}],\"scattergl\":[{\"marker\":{\"colorbar\":{\"outlinewidth\":0,\"ticks\":\"\"}},\"type\":\"scattergl\"}],\"scattermapbox\":[{\"marker\":{\"colorbar\":{\"outlinewidth\":0,\"ticks\":\"\"}},\"type\":\"scattermapbox\"}],\"scatterpolar\":[{\"marker\":{\"colorbar\":{\"outlinewidth\":0,\"ticks\":\"\"}},\"type\":\"scatterpolar\"}],\"scatterpolargl\":[{\"marker\":{\"colorbar\":{\"outlinewidth\":0,\"ticks\":\"\"}},\"type\":\"scatterpolargl\"}],\"scatterternary\":[{\"marker\":{\"colorbar\":{\"outlinewidth\":0,\"ticks\":\"\"}},\"type\":\"scatterternary\"}],\"surface\":[{\"colorbar\":{\"outlinewidth\":0,\"ticks\":\"\"},\"colorscale\":[[0.0,\"#0d0887\"],[0.1111111111111111,\"#46039f\"],[0.2222222222222222,\"#7201a8\"],[0.3333333333333333,\"#9c179e\"],[0.4444444444444444,\"#bd3786\"],[0.5555555555555556,\"#d8576b\"],[0.6666666666666666,\"#ed7953\"],[0.7777777777777778,\"#fb9f3a\"],[0.8888888888888888,\"#fdca26\"],[1.0,\"#f0f921\"]],\"type\":\"surface\"}],\"table\":[{\"cells\":{\"fill\":{\"color\":\"#EBF0F8\"},\"line\":{\"color\":\"white\"}},\"header\":{\"fill\":{\"color\":\"#C8D4E3\"},\"line\":{\"color\":\"white\"}},\"type\":\"table\"}]},\"layout\":{\"annotationdefaults\":{\"arrowcolor\":\"#2a3f5f\",\"arrowhead\":0,\"arrowwidth\":1},\"autotypenumbers\":\"strict\",\"coloraxis\":{\"colorbar\":{\"outlinewidth\":0,\"ticks\":\"\"}},\"colorscale\":{\"diverging\":[[0,\"#8e0152\"],[0.1,\"#c51b7d\"],[0.2,\"#de77ae\"],[0.3,\"#f1b6da\"],[0.4,\"#fde0ef\"],[0.5,\"#f7f7f7\"],[0.6,\"#e6f5d0\"],[0.7,\"#b8e186\"],[0.8,\"#7fbc41\"],[0.9,\"#4d9221\"],[1,\"#276419\"]],\"sequential\":[[0.0,\"#0d0887\"],[0.1111111111111111,\"#46039f\"],[0.2222222222222222,\"#7201a8\"],[0.3333333333333333,\"#9c179e\"],[0.4444444444444444,\"#bd3786\"],[0.5555555555555556,\"#d8576b\"],[0.6666666666666666,\"#ed7953\"],[0.7777777777777778,\"#fb9f3a\"],[0.8888888888888888,\"#fdca26\"],[1.0,\"#f0f921\"]],\"sequentialminus\":[[0.0,\"#0d0887\"],[0.1111111111111111,\"#46039f\"],[0.2222222222222222,\"#7201a8\"],[0.3333333333333333,\"#9c179e\"],[0.4444444444444444,\"#bd3786\"],[0.5555555555555556,\"#d8576b\"],[0.6666666666666666,\"#ed7953\"],[0.7777777777777778,\"#fb9f3a\"],[0.8888888888888888,\"#fdca26\"],[1.0,\"#f0f921\"]]},\"colorway\":[\"#636efa\",\"#EF553B\",\"#00cc96\",\"#ab63fa\",\"#FFA15A\",\"#19d3f3\",\"#FF6692\",\"#B6E880\",\"#FF97FF\",\"#FECB52\"],\"font\":{\"color\":\"#2a3f5f\"},\"geo\":{\"bgcolor\":\"white\",\"lakecolor\":\"white\",\"landcolor\":\"#E5ECF6\",\"showlakes\":true,\"showland\":true,\"subunitcolor\":\"white\"},\"hoverlabel\":{\"align\":\"left\"},\"hovermode\":\"closest\",\"mapbox\":{\"style\":\"light\"},\"paper_bgcolor\":\"white\",\"plot_bgcolor\":\"#E5ECF6\",\"polar\":{\"angularaxis\":{\"gridcolor\":\"white\",\"linecolor\":\"white\",\"ticks\":\"\"},\"bgcolor\":\"#E5ECF6\",\"radialaxis\":{\"gridcolor\":\"white\",\"linecolor\":\"white\",\"ticks\":\"\"}},\"scene\":{\"xaxis\":{\"backgroundcolor\":\"#E5ECF6\",\"gridcolor\":\"white\",\"gridwidth\":2,\"linecolor\":\"white\",\"showbackground\":true,\"ticks\":\"\",\"zerolinecolor\":\"white\"},\"yaxis\":{\"backgroundcolor\":\"#E5ECF6\",\"gridcolor\":\"white\",\"gridwidth\":2,\"linecolor\":\"white\",\"showbackground\":true,\"ticks\":\"\",\"zerolinecolor\":\"white\"},\"zaxis\":{\"backgroundcolor\":\"#E5ECF6\",\"gridcolor\":\"white\",\"gridwidth\":2,\"linecolor\":\"white\",\"showbackground\":true,\"ticks\":\"\",\"zerolinecolor\":\"white\"}},\"shapedefaults\":{\"line\":{\"color\":\"#2a3f5f\"}},\"ternary\":{\"aaxis\":{\"gridcolor\":\"white\",\"linecolor\":\"white\",\"ticks\":\"\"},\"baxis\":{\"gridcolor\":\"white\",\"linecolor\":\"white\",\"ticks\":\"\"},\"bgcolor\":\"#E5ECF6\",\"caxis\":{\"gridcolor\":\"white\",\"linecolor\":\"white\",\"ticks\":\"\"}},\"title\":{\"x\":0.05},\"xaxis\":{\"automargin\":true,\"gridcolor\":\"white\",\"linecolor\":\"white\",\"ticks\":\"\",\"title\":{\"standoff\":15},\"zerolinecolor\":\"white\",\"zerolinewidth\":2},\"yaxis\":{\"automargin\":true,\"gridcolor\":\"white\",\"linecolor\":\"white\",\"ticks\":\"\",\"title\":{\"standoff\":15},\"zerolinecolor\":\"white\",\"zerolinewidth\":2}}},\"xaxis\":{\"anchor\":\"y\",\"domain\":[0.0,1.0],\"title\":{\"text\":\"HourlyRate\"}},\"yaxis\":{\"anchor\":\"x\",\"domain\":[0.0,1.0],\"title\":{\"text\":\"Attrition\"}},\"legend\":{\"title\":{\"text\":\"JobRole\"},\"tracegroupgap\":0},\"margin\":{\"t\":60},\"boxmode\":\"group\"},                        {\"responsive\": true}                    ).then(function(){\n",
              "                            \n",
              "var gd = document.getElementById('eef78a28-b124-4cac-bbd1-a795913da76e');\n",
              "var x = new MutationObserver(function (mutations, observer) {{\n",
              "        var display = window.getComputedStyle(gd).display;\n",
              "        if (!display || display === 'none') {{\n",
              "            console.log([gd, 'removed!']);\n",
              "            Plotly.purge(gd);\n",
              "            observer.disconnect();\n",
              "        }}\n",
              "}});\n",
              "\n",
              "// Listen for the removal of the full notebook cells\n",
              "var notebookContainer = gd.closest('#notebook-container');\n",
              "if (notebookContainer) {{\n",
              "    x.observe(notebookContainer, {childList: true});\n",
              "}}\n",
              "\n",
              "// Listen for the clearing of the current output cell\n",
              "var outputEl = gd.closest('.output');\n",
              "if (outputEl) {{\n",
              "    x.observe(outputEl, {childList: true});\n",
              "}}\n",
              "\n",
              "                        })                };                            </script>        </div>\n",
              "</body>\n",
              "</html>"
            ]
          },
          "metadata": {}
        }
      ]
    },
    {
      "cell_type": "markdown",
      "source": [
        "### **Data Science Question 8**"
      ],
      "metadata": {
        "id": "p-mzDGUfnsOM"
      }
    },
    {
      "cell_type": "code",
      "source": [
        "DS8 = updated_attrition_Emp_df.select(\"Age\",\"TotalWorkingYears\",\"StockOptionLevel\",\"Attrition\").where((updated_attrition_Emp_df.TotalWorkingYears >= 30) \n",
        "& (updated_attrition_Emp_df.StockOptionLevel == 3)).show()"
      ],
      "metadata": {
        "id": "N-ofmDYVntxF",
        "colab": {
          "base_uri": "https://localhost:8080/"
        },
        "outputId": "986b0822-15f6-4973-cbe3-999e8a4a18fb"
      },
      "execution_count": 129,
      "outputs": [
        {
          "output_type": "stream",
          "name": "stdout",
          "text": [
            "+---+-----------------+----------------+---------+\n",
            "|Age|TotalWorkingYears|StockOptionLevel|Attrition|\n",
            "+---+-----------------+----------------+---------+\n",
            "| 56|               36|               3|        0|\n",
            "| 55|               34|               3|        0|\n",
            "+---+-----------------+----------------+---------+\n",
            "\n"
          ]
        }
      ]
    },
    {
      "cell_type": "code",
      "source": [
        "fig = go.Figure(data=[go.Bar(\n",
        "    x=['35 Years Working', '36 Years Working'],\n",
        "    y=[3, 3] )])\n",
        "fig.update_layout(title_text='Senior Employees That Have High Stock Option And Stay In Company')"
      ],
      "metadata": {
        "id": "hZYly1lr93oB",
        "colab": {
          "base_uri": "https://localhost:8080/",
          "height": 542
        },
        "outputId": "227bf2ef-4c89-4e98-c607-2ea076f45f94"
      },
      "execution_count": 130,
      "outputs": [
        {
          "output_type": "display_data",
          "data": {
            "text/html": [
              "<html>\n",
              "<head><meta charset=\"utf-8\" /></head>\n",
              "<body>\n",
              "    <div>            <script src=\"https://cdnjs.cloudflare.com/ajax/libs/mathjax/2.7.5/MathJax.js?config=TeX-AMS-MML_SVG\"></script><script type=\"text/javascript\">if (window.MathJax) {MathJax.Hub.Config({SVG: {font: \"STIX-Web\"}});}</script>                <script type=\"text/javascript\">window.PlotlyConfig = {MathJaxConfig: 'local'};</script>\n",
              "        <script src=\"https://cdn.plot.ly/plotly-2.8.3.min.js\"></script>                <div id=\"ae5c38e3-e4a1-427b-a76f-5d421ed149cf\" class=\"plotly-graph-div\" style=\"height:525px; width:100%;\"></div>            <script type=\"text/javascript\">                                    window.PLOTLYENV=window.PLOTLYENV || {};                                    if (document.getElementById(\"ae5c38e3-e4a1-427b-a76f-5d421ed149cf\")) {                    Plotly.newPlot(                        \"ae5c38e3-e4a1-427b-a76f-5d421ed149cf\",                        [{\"x\":[\"35 Years Working\",\"36 Years Working\"],\"y\":[3,3],\"type\":\"bar\"}],                        {\"template\":{\"data\":{\"bar\":[{\"error_x\":{\"color\":\"#2a3f5f\"},\"error_y\":{\"color\":\"#2a3f5f\"},\"marker\":{\"line\":{\"color\":\"#E5ECF6\",\"width\":0.5},\"pattern\":{\"fillmode\":\"overlay\",\"size\":10,\"solidity\":0.2}},\"type\":\"bar\"}],\"barpolar\":[{\"marker\":{\"line\":{\"color\":\"#E5ECF6\",\"width\":0.5},\"pattern\":{\"fillmode\":\"overlay\",\"size\":10,\"solidity\":0.2}},\"type\":\"barpolar\"}],\"carpet\":[{\"aaxis\":{\"endlinecolor\":\"#2a3f5f\",\"gridcolor\":\"white\",\"linecolor\":\"white\",\"minorgridcolor\":\"white\",\"startlinecolor\":\"#2a3f5f\"},\"baxis\":{\"endlinecolor\":\"#2a3f5f\",\"gridcolor\":\"white\",\"linecolor\":\"white\",\"minorgridcolor\":\"white\",\"startlinecolor\":\"#2a3f5f\"},\"type\":\"carpet\"}],\"choropleth\":[{\"colorbar\":{\"outlinewidth\":0,\"ticks\":\"\"},\"type\":\"choropleth\"}],\"contour\":[{\"colorbar\":{\"outlinewidth\":0,\"ticks\":\"\"},\"colorscale\":[[0.0,\"#0d0887\"],[0.1111111111111111,\"#46039f\"],[0.2222222222222222,\"#7201a8\"],[0.3333333333333333,\"#9c179e\"],[0.4444444444444444,\"#bd3786\"],[0.5555555555555556,\"#d8576b\"],[0.6666666666666666,\"#ed7953\"],[0.7777777777777778,\"#fb9f3a\"],[0.8888888888888888,\"#fdca26\"],[1.0,\"#f0f921\"]],\"type\":\"contour\"}],\"contourcarpet\":[{\"colorbar\":{\"outlinewidth\":0,\"ticks\":\"\"},\"type\":\"contourcarpet\"}],\"heatmap\":[{\"colorbar\":{\"outlinewidth\":0,\"ticks\":\"\"},\"colorscale\":[[0.0,\"#0d0887\"],[0.1111111111111111,\"#46039f\"],[0.2222222222222222,\"#7201a8\"],[0.3333333333333333,\"#9c179e\"],[0.4444444444444444,\"#bd3786\"],[0.5555555555555556,\"#d8576b\"],[0.6666666666666666,\"#ed7953\"],[0.7777777777777778,\"#fb9f3a\"],[0.8888888888888888,\"#fdca26\"],[1.0,\"#f0f921\"]],\"type\":\"heatmap\"}],\"heatmapgl\":[{\"colorbar\":{\"outlinewidth\":0,\"ticks\":\"\"},\"colorscale\":[[0.0,\"#0d0887\"],[0.1111111111111111,\"#46039f\"],[0.2222222222222222,\"#7201a8\"],[0.3333333333333333,\"#9c179e\"],[0.4444444444444444,\"#bd3786\"],[0.5555555555555556,\"#d8576b\"],[0.6666666666666666,\"#ed7953\"],[0.7777777777777778,\"#fb9f3a\"],[0.8888888888888888,\"#fdca26\"],[1.0,\"#f0f921\"]],\"type\":\"heatmapgl\"}],\"histogram\":[{\"marker\":{\"pattern\":{\"fillmode\":\"overlay\",\"size\":10,\"solidity\":0.2}},\"type\":\"histogram\"}],\"histogram2d\":[{\"colorbar\":{\"outlinewidth\":0,\"ticks\":\"\"},\"colorscale\":[[0.0,\"#0d0887\"],[0.1111111111111111,\"#46039f\"],[0.2222222222222222,\"#7201a8\"],[0.3333333333333333,\"#9c179e\"],[0.4444444444444444,\"#bd3786\"],[0.5555555555555556,\"#d8576b\"],[0.6666666666666666,\"#ed7953\"],[0.7777777777777778,\"#fb9f3a\"],[0.8888888888888888,\"#fdca26\"],[1.0,\"#f0f921\"]],\"type\":\"histogram2d\"}],\"histogram2dcontour\":[{\"colorbar\":{\"outlinewidth\":0,\"ticks\":\"\"},\"colorscale\":[[0.0,\"#0d0887\"],[0.1111111111111111,\"#46039f\"],[0.2222222222222222,\"#7201a8\"],[0.3333333333333333,\"#9c179e\"],[0.4444444444444444,\"#bd3786\"],[0.5555555555555556,\"#d8576b\"],[0.6666666666666666,\"#ed7953\"],[0.7777777777777778,\"#fb9f3a\"],[0.8888888888888888,\"#fdca26\"],[1.0,\"#f0f921\"]],\"type\":\"histogram2dcontour\"}],\"mesh3d\":[{\"colorbar\":{\"outlinewidth\":0,\"ticks\":\"\"},\"type\":\"mesh3d\"}],\"parcoords\":[{\"line\":{\"colorbar\":{\"outlinewidth\":0,\"ticks\":\"\"}},\"type\":\"parcoords\"}],\"pie\":[{\"automargin\":true,\"type\":\"pie\"}],\"scatter\":[{\"marker\":{\"colorbar\":{\"outlinewidth\":0,\"ticks\":\"\"}},\"type\":\"scatter\"}],\"scatter3d\":[{\"line\":{\"colorbar\":{\"outlinewidth\":0,\"ticks\":\"\"}},\"marker\":{\"colorbar\":{\"outlinewidth\":0,\"ticks\":\"\"}},\"type\":\"scatter3d\"}],\"scattercarpet\":[{\"marker\":{\"colorbar\":{\"outlinewidth\":0,\"ticks\":\"\"}},\"type\":\"scattercarpet\"}],\"scattergeo\":[{\"marker\":{\"colorbar\":{\"outlinewidth\":0,\"ticks\":\"\"}},\"type\":\"scattergeo\"}],\"scattergl\":[{\"marker\":{\"colorbar\":{\"outlinewidth\":0,\"ticks\":\"\"}},\"type\":\"scattergl\"}],\"scattermapbox\":[{\"marker\":{\"colorbar\":{\"outlinewidth\":0,\"ticks\":\"\"}},\"type\":\"scattermapbox\"}],\"scatterpolar\":[{\"marker\":{\"colorbar\":{\"outlinewidth\":0,\"ticks\":\"\"}},\"type\":\"scatterpolar\"}],\"scatterpolargl\":[{\"marker\":{\"colorbar\":{\"outlinewidth\":0,\"ticks\":\"\"}},\"type\":\"scatterpolargl\"}],\"scatterternary\":[{\"marker\":{\"colorbar\":{\"outlinewidth\":0,\"ticks\":\"\"}},\"type\":\"scatterternary\"}],\"surface\":[{\"colorbar\":{\"outlinewidth\":0,\"ticks\":\"\"},\"colorscale\":[[0.0,\"#0d0887\"],[0.1111111111111111,\"#46039f\"],[0.2222222222222222,\"#7201a8\"],[0.3333333333333333,\"#9c179e\"],[0.4444444444444444,\"#bd3786\"],[0.5555555555555556,\"#d8576b\"],[0.6666666666666666,\"#ed7953\"],[0.7777777777777778,\"#fb9f3a\"],[0.8888888888888888,\"#fdca26\"],[1.0,\"#f0f921\"]],\"type\":\"surface\"}],\"table\":[{\"cells\":{\"fill\":{\"color\":\"#EBF0F8\"},\"line\":{\"color\":\"white\"}},\"header\":{\"fill\":{\"color\":\"#C8D4E3\"},\"line\":{\"color\":\"white\"}},\"type\":\"table\"}]},\"layout\":{\"annotationdefaults\":{\"arrowcolor\":\"#2a3f5f\",\"arrowhead\":0,\"arrowwidth\":1},\"autotypenumbers\":\"strict\",\"coloraxis\":{\"colorbar\":{\"outlinewidth\":0,\"ticks\":\"\"}},\"colorscale\":{\"diverging\":[[0,\"#8e0152\"],[0.1,\"#c51b7d\"],[0.2,\"#de77ae\"],[0.3,\"#f1b6da\"],[0.4,\"#fde0ef\"],[0.5,\"#f7f7f7\"],[0.6,\"#e6f5d0\"],[0.7,\"#b8e186\"],[0.8,\"#7fbc41\"],[0.9,\"#4d9221\"],[1,\"#276419\"]],\"sequential\":[[0.0,\"#0d0887\"],[0.1111111111111111,\"#46039f\"],[0.2222222222222222,\"#7201a8\"],[0.3333333333333333,\"#9c179e\"],[0.4444444444444444,\"#bd3786\"],[0.5555555555555556,\"#d8576b\"],[0.6666666666666666,\"#ed7953\"],[0.7777777777777778,\"#fb9f3a\"],[0.8888888888888888,\"#fdca26\"],[1.0,\"#f0f921\"]],\"sequentialminus\":[[0.0,\"#0d0887\"],[0.1111111111111111,\"#46039f\"],[0.2222222222222222,\"#7201a8\"],[0.3333333333333333,\"#9c179e\"],[0.4444444444444444,\"#bd3786\"],[0.5555555555555556,\"#d8576b\"],[0.6666666666666666,\"#ed7953\"],[0.7777777777777778,\"#fb9f3a\"],[0.8888888888888888,\"#fdca26\"],[1.0,\"#f0f921\"]]},\"colorway\":[\"#636efa\",\"#EF553B\",\"#00cc96\",\"#ab63fa\",\"#FFA15A\",\"#19d3f3\",\"#FF6692\",\"#B6E880\",\"#FF97FF\",\"#FECB52\"],\"font\":{\"color\":\"#2a3f5f\"},\"geo\":{\"bgcolor\":\"white\",\"lakecolor\":\"white\",\"landcolor\":\"#E5ECF6\",\"showlakes\":true,\"showland\":true,\"subunitcolor\":\"white\"},\"hoverlabel\":{\"align\":\"left\"},\"hovermode\":\"closest\",\"mapbox\":{\"style\":\"light\"},\"paper_bgcolor\":\"white\",\"plot_bgcolor\":\"#E5ECF6\",\"polar\":{\"angularaxis\":{\"gridcolor\":\"white\",\"linecolor\":\"white\",\"ticks\":\"\"},\"bgcolor\":\"#E5ECF6\",\"radialaxis\":{\"gridcolor\":\"white\",\"linecolor\":\"white\",\"ticks\":\"\"}},\"scene\":{\"xaxis\":{\"backgroundcolor\":\"#E5ECF6\",\"gridcolor\":\"white\",\"gridwidth\":2,\"linecolor\":\"white\",\"showbackground\":true,\"ticks\":\"\",\"zerolinecolor\":\"white\"},\"yaxis\":{\"backgroundcolor\":\"#E5ECF6\",\"gridcolor\":\"white\",\"gridwidth\":2,\"linecolor\":\"white\",\"showbackground\":true,\"ticks\":\"\",\"zerolinecolor\":\"white\"},\"zaxis\":{\"backgroundcolor\":\"#E5ECF6\",\"gridcolor\":\"white\",\"gridwidth\":2,\"linecolor\":\"white\",\"showbackground\":true,\"ticks\":\"\",\"zerolinecolor\":\"white\"}},\"shapedefaults\":{\"line\":{\"color\":\"#2a3f5f\"}},\"ternary\":{\"aaxis\":{\"gridcolor\":\"white\",\"linecolor\":\"white\",\"ticks\":\"\"},\"baxis\":{\"gridcolor\":\"white\",\"linecolor\":\"white\",\"ticks\":\"\"},\"bgcolor\":\"#E5ECF6\",\"caxis\":{\"gridcolor\":\"white\",\"linecolor\":\"white\",\"ticks\":\"\"}},\"title\":{\"x\":0.05},\"xaxis\":{\"automargin\":true,\"gridcolor\":\"white\",\"linecolor\":\"white\",\"ticks\":\"\",\"title\":{\"standoff\":15},\"zerolinecolor\":\"white\",\"zerolinewidth\":2},\"yaxis\":{\"automargin\":true,\"gridcolor\":\"white\",\"linecolor\":\"white\",\"ticks\":\"\",\"title\":{\"standoff\":15},\"zerolinecolor\":\"white\",\"zerolinewidth\":2}}},\"title\":{\"text\":\"Senior Employees That Have High Stock Option And Stay In Company\"}},                        {\"responsive\": true}                    ).then(function(){\n",
              "                            \n",
              "var gd = document.getElementById('ae5c38e3-e4a1-427b-a76f-5d421ed149cf');\n",
              "var x = new MutationObserver(function (mutations, observer) {{\n",
              "        var display = window.getComputedStyle(gd).display;\n",
              "        if (!display || display === 'none') {{\n",
              "            console.log([gd, 'removed!']);\n",
              "            Plotly.purge(gd);\n",
              "            observer.disconnect();\n",
              "        }}\n",
              "}});\n",
              "\n",
              "// Listen for the removal of the full notebook cells\n",
              "var notebookContainer = gd.closest('#notebook-container');\n",
              "if (notebookContainer) {{\n",
              "    x.observe(notebookContainer, {childList: true});\n",
              "}}\n",
              "\n",
              "// Listen for the clearing of the current output cell\n",
              "var outputEl = gd.closest('.output');\n",
              "if (outputEl) {{\n",
              "    x.observe(outputEl, {childList: true});\n",
              "}}\n",
              "\n",
              "                        })                };                            </script>        </div>\n",
              "</body>\n",
              "</html>"
            ]
          },
          "metadata": {}
        }
      ]
    },
    {
      "cell_type": "markdown",
      "source": [
        "# **Split Training and Testing Dataset**"
      ],
      "metadata": {
        "id": "ilNWmTlod_JX"
      }
    },
    {
      "cell_type": "code",
      "source": [
        "# Import relevant libraries\n",
        "from sklearn.model_selection import train_test_split"
      ],
      "metadata": {
        "id": "tZaKybMgeJxH"
      },
      "execution_count": 131,
      "outputs": []
    },
    {
      "cell_type": "code",
      "source": [
        "updated_attrition_Emp_df_pd = updated_attrition_Emp_df.toPandas()\n",
        "X = updated_attrition_Emp_df_pd[features]\n",
        "y = updated_attrition_Emp_df_pd[\"Attrition\"].values"
      ],
      "metadata": {
        "id": "dNcLblQdHepp"
      },
      "execution_count": 132,
      "outputs": []
    },
    {
      "cell_type": "code",
      "source": [
        "#Split dataset to train and test \n",
        "X_train, X_test, y_train, y_test = train_test_split(X, y, test_size=0.30, random_state=0)\n",
        "print('X_train size: {}, X_test size: {}'.format(X_train.shape, X_test.shape))"
      ],
      "metadata": {
        "colab": {
          "base_uri": "https://localhost:8080/"
        },
        "id": "jJX_J1nXyuhk",
        "outputId": "18965fe5-9449-4a27-9c79-2d3897ab784c"
      },
      "execution_count": 133,
      "outputs": [
        {
          "output_type": "stream",
          "name": "stdout",
          "text": [
            "X_train size: (1029, 13), X_test size: (441, 13)\n"
          ]
        }
      ]
    },
    {
      "cell_type": "markdown",
      "source": [
        "# **Models & Algorithm**"
      ],
      "metadata": {
        "id": "8um6Q3jlVtdW"
      }
    },
    {
      "cell_type": "markdown",
      "source": [
        "## **Gradient Boosting Classifier Algorithm**"
      ],
      "metadata": {
        "id": "E9-WrlN3TH2K"
      }
    },
    {
      "cell_type": "code",
      "source": [
        "# Import all relevant libraries for Gradient Boosting\n",
        "from sklearn.preprocessing import MinMaxScaler\n",
        "from sklearn.model_selection import train_test_split\n",
        "from sklearn.metrics import classification_report, confusion_matrix\n",
        "from sklearn.ensemble import GradientBoostingClassifier"
      ],
      "metadata": {
        "id": "II5mYZ1FTH2h"
      },
      "execution_count": 134,
      "outputs": []
    },
    {
      "cell_type": "code",
      "source": [
        "# Tuning for multiple learning rate to produce the best accuracy score for testing\n",
        "learningRates_list = [0.05, 0.075, 0.1, 0.25, 0.5, 0.75, 1]\n",
        "\n",
        "for learning_rate in learningRates_list:\n",
        "    gbc = GradientBoostingClassifier(n_estimators=20, learning_rate=learning_rate, max_features=2, max_depth=2, random_state=0)\n",
        "    gbc.fit(X_train, y_train)\n",
        "\n",
        "    print(\"Learning rate: \", learning_rate)\n",
        "    print(\"Accuracy score (training): {0:.3f}\".format(gbc.score(X_train, y_train)))\n",
        "    print(\"Accuracy score (testing): {0:.3f}\".format(gbc.score(X_test, y_test)))"
      ],
      "metadata": {
        "colab": {
          "base_uri": "https://localhost:8080/"
        },
        "outputId": "127fb6f3-fca0-4ea8-92a3-337a38417390",
        "id": "0fSTJI4OTH2i"
      },
      "execution_count": 135,
      "outputs": [
        {
          "output_type": "stream",
          "name": "stdout",
          "text": [
            "Learning rate:  0.05\n",
            "Accuracy score (training): 0.839\n",
            "Accuracy score (testing): 0.841\n",
            "Learning rate:  0.075\n",
            "Accuracy score (training): 0.844\n",
            "Accuracy score (testing): 0.850\n",
            "Learning rate:  0.1\n",
            "Accuracy score (training): 0.848\n",
            "Accuracy score (testing): 0.853\n",
            "Learning rate:  0.25\n",
            "Accuracy score (training): 0.873\n",
            "Accuracy score (testing): 0.855\n",
            "Learning rate:  0.5\n",
            "Accuracy score (training): 0.880\n",
            "Accuracy score (testing): 0.846\n",
            "Learning rate:  0.75\n",
            "Accuracy score (training): 0.893\n",
            "Accuracy score (testing): 0.844\n",
            "Learning rate:  1\n",
            "Accuracy score (training): 0.887\n",
            "Accuracy score (testing): 0.839\n"
          ]
        }
      ]
    },
    {
      "cell_type": "code",
      "source": [
        "# Create new classifier based on the best learning rate discovered for testing which is 0.25\n",
        "gbc2 = GradientBoostingClassifier(n_estimators=20, learning_rate=0.25, max_features=2, max_depth=2, random_state=0)\n",
        "gbc2.fit(X_train, y_train)"
      ],
      "metadata": {
        "colab": {
          "base_uri": "https://localhost:8080/"
        },
        "id": "CF8SAwIITH2j",
        "outputId": "5f5b0174-f520-43c7-a45b-ad370cc7fce5"
      },
      "execution_count": 136,
      "outputs": [
        {
          "output_type": "execute_result",
          "data": {
            "text/plain": [
              "GradientBoostingClassifier(learning_rate=0.25, max_depth=2, max_features=2,\n",
              "                           n_estimators=20, random_state=0)"
            ]
          },
          "metadata": {},
          "execution_count": 136
        }
      ]
    },
    {
      "cell_type": "code",
      "source": [
        "# Prediction\n",
        "gbc_prediction = gbc2.predict(X_test)"
      ],
      "metadata": {
        "id": "5YSSi3L4QqSt"
      },
      "execution_count": 137,
      "outputs": []
    },
    {
      "cell_type": "code",
      "source": [
        "# Comparing actual and predicted value\n",
        "gbc_result = pd.DataFrame({'Actual': y_test, 'Predicted': gbc_prediction})\n",
        "print(\"Result: \\n\", gbc_result)"
      ],
      "metadata": {
        "colab": {
          "base_uri": "https://localhost:8080/"
        },
        "id": "6opvrXNORNsj",
        "outputId": "d561a89b-e5bd-4a44-be59-735b77622ee8"
      },
      "execution_count": 138,
      "outputs": [
        {
          "output_type": "stream",
          "name": "stdout",
          "text": [
            "Result: \n",
            "      Actual  Predicted\n",
            "0         0          0\n",
            "1         0          0\n",
            "2         1          0\n",
            "3         0          0\n",
            "4         1          1\n",
            "..      ...        ...\n",
            "436       0          0\n",
            "437       0          0\n",
            "438       0          0\n",
            "439       0          0\n",
            "440       0          0\n",
            "\n",
            "[441 rows x 2 columns]\n"
          ]
        }
      ]
    },
    {
      "cell_type": "markdown",
      "source": [
        "**Evaluate Model**"
      ],
      "metadata": {
        "id": "K3Dg0Bq5twK4"
      }
    },
    {
      "cell_type": "code",
      "source": [
        "# Create a confusion matrix\n",
        "print(\"Confusion Matrix:\")\n",
        "print(confusion_matrix(y_test, gbc_prediction))"
      ],
      "metadata": {
        "colab": {
          "base_uri": "https://localhost:8080/"
        },
        "id": "3rrGOWT1PMcr",
        "outputId": "4c863a17-b456-4e2a-e135-e19729e90bec"
      },
      "execution_count": 139,
      "outputs": [
        {
          "output_type": "stream",
          "name": "stdout",
          "text": [
            "Confusion Matrix:\n",
            "[[365   6]\n",
            " [ 58  12]]\n"
          ]
        }
      ]
    },
    {
      "cell_type": "code",
      "source": [
        "# Create classification report after tuning the classifier\n",
        "print(\"Classification Report\")\n",
        "print(classification_report(y_test, gbc_prediction))"
      ],
      "metadata": {
        "colab": {
          "base_uri": "https://localhost:8080/"
        },
        "id": "iKW7VTPVPPsj",
        "outputId": "90676b20-a6e4-4807-d69a-9f124dd992d8"
      },
      "execution_count": 140,
      "outputs": [
        {
          "output_type": "stream",
          "name": "stdout",
          "text": [
            "Classification Report\n",
            "              precision    recall  f1-score   support\n",
            "\n",
            "           0       0.86      0.98      0.92       371\n",
            "           1       0.67      0.17      0.27        70\n",
            "\n",
            "    accuracy                           0.85       441\n",
            "   macro avg       0.76      0.58      0.60       441\n",
            "weighted avg       0.83      0.85      0.82       441\n",
            "\n"
          ]
        }
      ]
    },
    {
      "cell_type": "code",
      "source": [
        "gbc_testScore = gbc2.score(X_test, y_test)\n",
        "gbc_testScore = gbc_testScore*100\n",
        "print(f\"GBC Test Score = {gbc_testScore:.2f} %\")"
      ],
      "metadata": {
        "colab": {
          "base_uri": "https://localhost:8080/"
        },
        "id": "rPsGHWbkRmCo",
        "outputId": "586619ae-7096-4057-b152-edcbb8e887d3"
      },
      "execution_count": 141,
      "outputs": [
        {
          "output_type": "stream",
          "name": "stdout",
          "text": [
            "GBC Test Score = 85.49 %\n"
          ]
        }
      ]
    },
    {
      "cell_type": "code",
      "source": [
        "gbc_trainScore = gbc2.score(X_train, y_train)\n",
        "gbc_trainScore = gbc_trainScore*100\n",
        "print(f\"GBC Train Score = {gbc_trainScore:.2f} %\")"
      ],
      "metadata": {
        "colab": {
          "base_uri": "https://localhost:8080/"
        },
        "id": "A6-TcJIUR0EJ",
        "outputId": "7ea6fa9e-ccae-4af8-ebde-36a0cdccd3fe"
      },
      "execution_count": 142,
      "outputs": [
        {
          "output_type": "stream",
          "name": "stdout",
          "text": [
            "GBC Train Score = 87.27 %\n"
          ]
        }
      ]
    },
    {
      "cell_type": "markdown",
      "source": [
        "## **Multiple Linear Regression**"
      ],
      "metadata": {
        "id": "y2tFLGoPdPoH"
      }
    },
    {
      "cell_type": "code",
      "source": [
        "# Import all relevant libraries\n",
        "from sklearn.linear_model import LinearRegression\n",
        "from sklearn import metrics"
      ],
      "metadata": {
        "id": "qi0lqEIZdwLx"
      },
      "execution_count": 143,
      "outputs": []
    },
    {
      "cell_type": "code",
      "source": [
        "model = LinearRegression()\n",
        "model.fit(X_train, y_train)"
      ],
      "metadata": {
        "id": "V2_et4QudUBn",
        "colab": {
          "base_uri": "https://localhost:8080/"
        },
        "outputId": "bf93894a-1e78-4cbf-9952-e6ac991e4e6a"
      },
      "execution_count": 144,
      "outputs": [
        {
          "output_type": "execute_result",
          "data": {
            "text/plain": [
              "LinearRegression()"
            ]
          },
          "metadata": {},
          "execution_count": 144
        }
      ]
    },
    {
      "cell_type": "code",
      "source": [
        "print(\"Intercept Value = \", model.intercept_)"
      ],
      "metadata": {
        "id": "TOF-cgIHdgK_",
        "colab": {
          "base_uri": "https://localhost:8080/"
        },
        "outputId": "dc4776e4-b467-48aa-ed14-75c2f38a7410"
      },
      "execution_count": 145,
      "outputs": [
        {
          "output_type": "stream",
          "name": "stdout",
          "text": [
            "Intercept Value =  0.8250804190781467\n"
          ]
        }
      ]
    },
    {
      "cell_type": "code",
      "source": [
        "print(\"Coefficient Value \\n\", model.coef_)"
      ],
      "metadata": {
        "id": "u9eX8bBTdlYZ",
        "colab": {
          "base_uri": "https://localhost:8080/"
        },
        "outputId": "f1d00188-4fd7-4ced-bb0f-19ba65dba9d7"
      },
      "execution_count": 146,
      "outputs": [
        {
          "output_type": "stream",
          "name": "stdout",
          "text": [
            "Coefficient Value \n",
            " [-4.02895462e-03  4.76140937e-03 -5.27482253e-06 -3.91796527e-02\n",
            " -1.20519913e-04 -5.97306380e-02 -3.01804433e-02 -6.68107737e-06\n",
            "  2.15852044e-01 -2.02567604e-04 -5.14072454e-02 -2.09233750e-03\n",
            " -4.12438545e-02]\n"
          ]
        }
      ]
    },
    {
      "cell_type": "code",
      "source": [
        "pd.DataFrame(model.coef_, X.columns, columns = ['Coeffecient Value'])"
      ],
      "metadata": {
        "id": "KabivOs2dmmW",
        "colab": {
          "base_uri": "https://localhost:8080/",
          "height": 457
        },
        "outputId": "15185734-fd9d-4d8c-8fbb-6d7e92a0c7be"
      },
      "execution_count": 147,
      "outputs": [
        {
          "output_type": "execute_result",
          "data": {
            "text/plain": [
              "                         Coeffecient Value\n",
              "Age                              -0.004029\n",
              "Education                         0.004761\n",
              "EmployeeNumber                   -0.000005\n",
              "EnvironmentSatisfaction          -0.039180\n",
              "HourlyRate                       -0.000121\n",
              "JobInvolvement                   -0.059731\n",
              "JobSatisfaction                  -0.030180\n",
              "MonthlyIncome                    -0.000007\n",
              "OverTime                          0.215852\n",
              "PerformanceRating                -0.000203\n",
              "StockOptionLevel                 -0.051407\n",
              "TotalWorkingYears                -0.002092\n",
              "WorkLifeBalance                  -0.041244"
            ],
            "text/html": [
              "\n",
              "  <div id=\"df-a58072f2-f013-4ff0-9e69-c73322045f75\">\n",
              "    <div class=\"colab-df-container\">\n",
              "      <div>\n",
              "<style scoped>\n",
              "    .dataframe tbody tr th:only-of-type {\n",
              "        vertical-align: middle;\n",
              "    }\n",
              "\n",
              "    .dataframe tbody tr th {\n",
              "        vertical-align: top;\n",
              "    }\n",
              "\n",
              "    .dataframe thead th {\n",
              "        text-align: right;\n",
              "    }\n",
              "</style>\n",
              "<table border=\"1\" class=\"dataframe\">\n",
              "  <thead>\n",
              "    <tr style=\"text-align: right;\">\n",
              "      <th></th>\n",
              "      <th>Coeffecient Value</th>\n",
              "    </tr>\n",
              "  </thead>\n",
              "  <tbody>\n",
              "    <tr>\n",
              "      <th>Age</th>\n",
              "      <td>-0.004029</td>\n",
              "    </tr>\n",
              "    <tr>\n",
              "      <th>Education</th>\n",
              "      <td>0.004761</td>\n",
              "    </tr>\n",
              "    <tr>\n",
              "      <th>EmployeeNumber</th>\n",
              "      <td>-0.000005</td>\n",
              "    </tr>\n",
              "    <tr>\n",
              "      <th>EnvironmentSatisfaction</th>\n",
              "      <td>-0.039180</td>\n",
              "    </tr>\n",
              "    <tr>\n",
              "      <th>HourlyRate</th>\n",
              "      <td>-0.000121</td>\n",
              "    </tr>\n",
              "    <tr>\n",
              "      <th>JobInvolvement</th>\n",
              "      <td>-0.059731</td>\n",
              "    </tr>\n",
              "    <tr>\n",
              "      <th>JobSatisfaction</th>\n",
              "      <td>-0.030180</td>\n",
              "    </tr>\n",
              "    <tr>\n",
              "      <th>MonthlyIncome</th>\n",
              "      <td>-0.000007</td>\n",
              "    </tr>\n",
              "    <tr>\n",
              "      <th>OverTime</th>\n",
              "      <td>0.215852</td>\n",
              "    </tr>\n",
              "    <tr>\n",
              "      <th>PerformanceRating</th>\n",
              "      <td>-0.000203</td>\n",
              "    </tr>\n",
              "    <tr>\n",
              "      <th>StockOptionLevel</th>\n",
              "      <td>-0.051407</td>\n",
              "    </tr>\n",
              "    <tr>\n",
              "      <th>TotalWorkingYears</th>\n",
              "      <td>-0.002092</td>\n",
              "    </tr>\n",
              "    <tr>\n",
              "      <th>WorkLifeBalance</th>\n",
              "      <td>-0.041244</td>\n",
              "    </tr>\n",
              "  </tbody>\n",
              "</table>\n",
              "</div>\n",
              "      <button class=\"colab-df-convert\" onclick=\"convertToInteractive('df-a58072f2-f013-4ff0-9e69-c73322045f75')\"\n",
              "              title=\"Convert this dataframe to an interactive table.\"\n",
              "              style=\"display:none;\">\n",
              "        \n",
              "  <svg xmlns=\"http://www.w3.org/2000/svg\" height=\"24px\"viewBox=\"0 0 24 24\"\n",
              "       width=\"24px\">\n",
              "    <path d=\"M0 0h24v24H0V0z\" fill=\"none\"/>\n",
              "    <path d=\"M18.56 5.44l.94 2.06.94-2.06 2.06-.94-2.06-.94-.94-2.06-.94 2.06-2.06.94zm-11 1L8.5 8.5l.94-2.06 2.06-.94-2.06-.94L8.5 2.5l-.94 2.06-2.06.94zm10 10l.94 2.06.94-2.06 2.06-.94-2.06-.94-.94-2.06-.94 2.06-2.06.94z\"/><path d=\"M17.41 7.96l-1.37-1.37c-.4-.4-.92-.59-1.43-.59-.52 0-1.04.2-1.43.59L10.3 9.45l-7.72 7.72c-.78.78-.78 2.05 0 2.83L4 21.41c.39.39.9.59 1.41.59.51 0 1.02-.2 1.41-.59l7.78-7.78 2.81-2.81c.8-.78.8-2.07 0-2.86zM5.41 20L4 18.59l7.72-7.72 1.47 1.35L5.41 20z\"/>\n",
              "  </svg>\n",
              "      </button>\n",
              "      \n",
              "  <style>\n",
              "    .colab-df-container {\n",
              "      display:flex;\n",
              "      flex-wrap:wrap;\n",
              "      gap: 12px;\n",
              "    }\n",
              "\n",
              "    .colab-df-convert {\n",
              "      background-color: #E8F0FE;\n",
              "      border: none;\n",
              "      border-radius: 50%;\n",
              "      cursor: pointer;\n",
              "      display: none;\n",
              "      fill: #1967D2;\n",
              "      height: 32px;\n",
              "      padding: 0 0 0 0;\n",
              "      width: 32px;\n",
              "    }\n",
              "\n",
              "    .colab-df-convert:hover {\n",
              "      background-color: #E2EBFA;\n",
              "      box-shadow: 0px 1px 2px rgba(60, 64, 67, 0.3), 0px 1px 3px 1px rgba(60, 64, 67, 0.15);\n",
              "      fill: #174EA6;\n",
              "    }\n",
              "\n",
              "    [theme=dark] .colab-df-convert {\n",
              "      background-color: #3B4455;\n",
              "      fill: #D2E3FC;\n",
              "    }\n",
              "\n",
              "    [theme=dark] .colab-df-convert:hover {\n",
              "      background-color: #434B5C;\n",
              "      box-shadow: 0px 1px 3px 1px rgba(0, 0, 0, 0.15);\n",
              "      filter: drop-shadow(0px 1px 2px rgba(0, 0, 0, 0.3));\n",
              "      fill: #FFFFFF;\n",
              "    }\n",
              "  </style>\n",
              "\n",
              "      <script>\n",
              "        const buttonEl =\n",
              "          document.querySelector('#df-a58072f2-f013-4ff0-9e69-c73322045f75 button.colab-df-convert');\n",
              "        buttonEl.style.display =\n",
              "          google.colab.kernel.accessAllowed ? 'block' : 'none';\n",
              "\n",
              "        async function convertToInteractive(key) {\n",
              "          const element = document.querySelector('#df-a58072f2-f013-4ff0-9e69-c73322045f75');\n",
              "          const dataTable =\n",
              "            await google.colab.kernel.invokeFunction('convertToInteractive',\n",
              "                                                     [key], {});\n",
              "          if (!dataTable) return;\n",
              "\n",
              "          const docLinkHtml = 'Like what you see? Visit the ' +\n",
              "            '<a target=\"_blank\" href=https://colab.research.google.com/notebooks/data_table.ipynb>data table notebook</a>'\n",
              "            + ' to learn more about interactive tables.';\n",
              "          element.innerHTML = '';\n",
              "          dataTable['output_type'] = 'display_data';\n",
              "          await google.colab.output.renderOutput(dataTable, element);\n",
              "          const docLink = document.createElement('div');\n",
              "          docLink.innerHTML = docLinkHtml;\n",
              "          element.appendChild(docLink);\n",
              "        }\n",
              "      </script>\n",
              "    </div>\n",
              "  </div>\n",
              "  "
            ]
          },
          "metadata": {},
          "execution_count": 147
        }
      ]
    },
    {
      "cell_type": "code",
      "source": [
        "# Make predictions\n",
        "y_pred_reg = model.predict(X_test)"
      ],
      "metadata": {
        "id": "5j89oRd9doTP"
      },
      "execution_count": 148,
      "outputs": []
    },
    {
      "cell_type": "code",
      "source": [
        "# Comparing actual and predicted value\n",
        "results = pd.DataFrame({'Actual': y_test, 'Predicted': y_pred_reg})\n",
        "print(\"Result: \\n\", results)"
      ],
      "metadata": {
        "id": "S6xMHT3Bdqbe",
        "colab": {
          "base_uri": "https://localhost:8080/"
        },
        "outputId": "a1f8115b-969b-4163-c78f-e7673e8a69a5"
      },
      "execution_count": 149,
      "outputs": [
        {
          "output_type": "stream",
          "name": "stdout",
          "text": [
            "Result: \n",
            "      Actual  Predicted\n",
            "0         0   0.143135\n",
            "1         0   0.192753\n",
            "2         1   0.301368\n",
            "3         0   0.056559\n",
            "4         1   0.416377\n",
            "..      ...        ...\n",
            "436       0   0.130437\n",
            "437       0   0.189804\n",
            "438       0   0.169891\n",
            "439       0   0.235259\n",
            "440       0   0.035938\n",
            "\n",
            "[441 rows x 2 columns]\n"
          ]
        }
      ]
    },
    {
      "cell_type": "markdown",
      "source": [
        "**Evaluate model**"
      ],
      "metadata": {
        "id": "AWQz2dEuiK4n"
      }
    },
    {
      "cell_type": "code",
      "source": [
        "mean_absolute_error = metrics.mean_absolute_error(y_test, y_pred_reg)\n",
        "print(\"Mean Absolute Error = \", mean_absolute_error)"
      ],
      "metadata": {
        "id": "SwnBsoTbduM3",
        "colab": {
          "base_uri": "https://localhost:8080/"
        },
        "outputId": "1d1c4ea8-a73c-4920-d073-40c14904d236"
      },
      "execution_count": 150,
      "outputs": [
        {
          "output_type": "stream",
          "name": "stdout",
          "text": [
            "Mean Absolute Error =  0.24212900151078798\n"
          ]
        }
      ]
    },
    {
      "cell_type": "code",
      "source": [
        "mean_squared_error = metrics.mean_squared_error(y_test, y_pred_reg)\n",
        "print(\"Mean Squared Error = \", mean_squared_error)"
      ],
      "metadata": {
        "id": "SXLDH4GZesKA",
        "colab": {
          "base_uri": "https://localhost:8080/"
        },
        "outputId": "cfe3a581-d416-4aa1-f9b1-1066d797dd13"
      },
      "execution_count": 151,
      "outputs": [
        {
          "output_type": "stream",
          "name": "stdout",
          "text": [
            "Mean Squared Error =  0.11170406390734403\n"
          ]
        }
      ]
    },
    {
      "cell_type": "code",
      "source": [
        "root_mean_squared_error = np.sqrt(metrics.mean_squared_error(y_test, y_pred_reg))\n",
        "print(\"Root Mean Squared Error = \", root_mean_squared_error)"
      ],
      "metadata": {
        "id": "xrnO9yIDe1vf",
        "colab": {
          "base_uri": "https://localhost:8080/"
        },
        "outputId": "a84e0ecd-a098-423c-d995-37a88dda4f81"
      },
      "execution_count": 152,
      "outputs": [
        {
          "output_type": "stream",
          "name": "stdout",
          "text": [
            "Root Mean Squared Error =  0.33422157905698435\n"
          ]
        }
      ]
    },
    {
      "cell_type": "code",
      "source": [
        "MLR_testScore = model.score(X_test, y_test)\n",
        "MLR_testScore = MLR_testScore*100\n",
        "print(f\"MLR Test Score = {MLR_testScore:.2f} %\")"
      ],
      "metadata": {
        "id": "wtFEMCRSfVBo",
        "colab": {
          "base_uri": "https://localhost:8080/"
        },
        "outputId": "ae1fd027-6084-4101-87b8-bf8a07702975"
      },
      "execution_count": 153,
      "outputs": [
        {
          "output_type": "stream",
          "name": "stdout",
          "text": [
            "MLR Test Score = 16.35 %\n"
          ]
        }
      ]
    },
    {
      "cell_type": "code",
      "source": [
        "MLR_trainScore = model.score(X_train, y_train)\n",
        "MLR_trainScore = MLR_trainScore*100\n",
        "print(f\"MLR Train Score = {MLR_trainScore:.2f} %\")"
      ],
      "metadata": {
        "id": "TrpPfuZtfag3",
        "colab": {
          "base_uri": "https://localhost:8080/"
        },
        "outputId": "825a279a-df3d-4124-d79d-7a71e778c77a"
      },
      "execution_count": 154,
      "outputs": [
        {
          "output_type": "stream",
          "name": "stdout",
          "text": [
            "MLR Train Score = 15.84 %\n"
          ]
        }
      ]
    }
  ]
}